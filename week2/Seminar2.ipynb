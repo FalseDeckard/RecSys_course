{
 "cells": [
  {
   "cell_type": "code",
   "execution_count": 269,
   "id": "e5fbada3-40bc-4748-9897-1c0e15d7892a",
   "metadata": {},
   "outputs": [],
   "source": [
    "import pandas as pd\n",
    "import numpy as np\n",
    "from matplotlib import pyplot as plt\n",
    "from typing import List\n",
    "from tqdm import tqdm\n",
    "\n",
    "\n",
    "%matplotlib inline"
   ]
  },
  {
   "cell_type": "markdown",
   "id": "4098f8b8-a49a-4a66-92e2-e75c7acc4988",
   "metadata": {},
   "source": [
    "## Считаем данные соревнования от MTS по RecSys"
   ]
  },
  {
   "cell_type": "code",
   "execution_count": 270,
   "id": "02af9415-838f-446e-80ed-f6083cc9cb27",
   "metadata": {},
   "outputs": [
    {
     "data": {
      "text/html": [
       "<div>\n",
       "<style scoped>\n",
       "    .dataframe tbody tr th:only-of-type {\n",
       "        vertical-align: middle;\n",
       "    }\n",
       "\n",
       "    .dataframe tbody tr th {\n",
       "        vertical-align: top;\n",
       "    }\n",
       "\n",
       "    .dataframe thead th {\n",
       "        text-align: right;\n",
       "    }\n",
       "</style>\n",
       "<table border=\"1\" class=\"dataframe\">\n",
       "  <thead>\n",
       "    <tr style=\"text-align: right;\">\n",
       "      <th></th>\n",
       "      <th>user_id</th>\n",
       "      <th>item_id</th>\n",
       "      <th>last_watch_dt</th>\n",
       "      <th>total_dur</th>\n",
       "      <th>watched_pct</th>\n",
       "    </tr>\n",
       "  </thead>\n",
       "  <tbody>\n",
       "    <tr>\n",
       "      <th>0</th>\n",
       "      <td>176549</td>\n",
       "      <td>9506</td>\n",
       "      <td>2021-05-11</td>\n",
       "      <td>4250</td>\n",
       "      <td>72.0</td>\n",
       "    </tr>\n",
       "    <tr>\n",
       "      <th>1</th>\n",
       "      <td>699317</td>\n",
       "      <td>1659</td>\n",
       "      <td>2021-05-29</td>\n",
       "      <td>8317</td>\n",
       "      <td>100.0</td>\n",
       "    </tr>\n",
       "    <tr>\n",
       "      <th>2</th>\n",
       "      <td>656683</td>\n",
       "      <td>7107</td>\n",
       "      <td>2021-05-09</td>\n",
       "      <td>10</td>\n",
       "      <td>0.0</td>\n",
       "    </tr>\n",
       "    <tr>\n",
       "      <th>3</th>\n",
       "      <td>864613</td>\n",
       "      <td>7638</td>\n",
       "      <td>2021-07-05</td>\n",
       "      <td>14483</td>\n",
       "      <td>100.0</td>\n",
       "    </tr>\n",
       "    <tr>\n",
       "      <th>4</th>\n",
       "      <td>964868</td>\n",
       "      <td>9506</td>\n",
       "      <td>2021-04-30</td>\n",
       "      <td>6725</td>\n",
       "      <td>100.0</td>\n",
       "    </tr>\n",
       "  </tbody>\n",
       "</table>\n",
       "</div>"
      ],
      "text/plain": [
       "   user_id  item_id last_watch_dt  total_dur  watched_pct\n",
       "0   176549     9506    2021-05-11       4250         72.0\n",
       "1   699317     1659    2021-05-29       8317        100.0\n",
       "2   656683     7107    2021-05-09         10          0.0\n",
       "3   864613     7638    2021-07-05      14483        100.0\n",
       "4   964868     9506    2021-04-30       6725        100.0"
      ]
     },
     "execution_count": 270,
     "metadata": {},
     "output_type": "execute_result"
    }
   ],
   "source": [
    "df = pd.read_csv('interactions.csv')\n",
    "df.head()"
   ]
  },
  {
   "cell_type": "code",
   "execution_count": 271,
   "id": "7b1a83b4-4a66-4a5e-b99e-a8db80f25696",
   "metadata": {},
   "outputs": [
    {
     "data": {
      "text/plain": [
       "(962179, 15706)"
      ]
     },
     "execution_count": 271,
     "metadata": {},
     "output_type": "execute_result"
    }
   ],
   "source": [
    "df.user_id.nunique(), df.item_id.nunique()"
   ]
  },
  {
   "cell_type": "code",
   "execution_count": 272,
   "id": "2423aac3-b950-48b4-821c-11dadcde191b",
   "metadata": {},
   "outputs": [
    {
     "data": {
      "text/plain": [
       "('2021-03-13', '2021-08-22')"
      ]
     },
     "execution_count": 272,
     "metadata": {},
     "output_type": "execute_result"
    }
   ],
   "source": [
    "df.last_watch_dt.min(), df.last_watch_dt.max()"
   ]
  },
  {
   "cell_type": "code",
   "execution_count": 273,
   "id": "78153b4e-975b-4493-95e7-e503f7c68757",
   "metadata": {},
   "outputs": [
    {
     "data": {
      "text/html": [
       "<div>\n",
       "<style scoped>\n",
       "    .dataframe tbody tr th:only-of-type {\n",
       "        vertical-align: middle;\n",
       "    }\n",
       "\n",
       "    .dataframe tbody tr th {\n",
       "        vertical-align: top;\n",
       "    }\n",
       "\n",
       "    .dataframe thead th {\n",
       "        text-align: right;\n",
       "    }\n",
       "</style>\n",
       "<table border=\"1\" class=\"dataframe\">\n",
       "  <thead>\n",
       "    <tr style=\"text-align: right;\">\n",
       "      <th></th>\n",
       "      <th>user_id</th>\n",
       "      <th>item_id</th>\n",
       "      <th>last_watch_dt</th>\n",
       "      <th>total_dur</th>\n",
       "      <th>watched_pct</th>\n",
       "    </tr>\n",
       "  </thead>\n",
       "  <tbody>\n",
       "    <tr>\n",
       "      <th>736952</th>\n",
       "      <td>9373</td>\n",
       "      <td>13218</td>\n",
       "      <td>150</td>\n",
       "      <td>2787</td>\n",
       "      <td>62.0</td>\n",
       "    </tr>\n",
       "    <tr>\n",
       "      <th>2190107</th>\n",
       "      <td>68961</td>\n",
       "      <td>12192</td>\n",
       "      <td>117</td>\n",
       "      <td>7346</td>\n",
       "      <td>10.0</td>\n",
       "    </tr>\n",
       "    <tr>\n",
       "      <th>333802</th>\n",
       "      <td>110030</td>\n",
       "      <td>16340</td>\n",
       "      <td>150</td>\n",
       "      <td>61</td>\n",
       "      <td>2.0</td>\n",
       "    </tr>\n",
       "    <tr>\n",
       "      <th>4470388</th>\n",
       "      <td>999751</td>\n",
       "      <td>1189</td>\n",
       "      <td>138</td>\n",
       "      <td>1830</td>\n",
       "      <td>38.0</td>\n",
       "    </tr>\n",
       "    <tr>\n",
       "      <th>3188986</th>\n",
       "      <td>465774</td>\n",
       "      <td>6192</td>\n",
       "      <td>156</td>\n",
       "      <td>235243</td>\n",
       "      <td>41.0</td>\n",
       "    </tr>\n",
       "  </tbody>\n",
       "</table>\n",
       "</div>"
      ],
      "text/plain": [
       "         user_id  item_id  last_watch_dt  total_dur  watched_pct\n",
       "736952      9373    13218            150       2787         62.0\n",
       "2190107    68961    12192            117       7346         10.0\n",
       "333802    110030    16340            150         61          2.0\n",
       "4470388   999751     1189            138       1830         38.0\n",
       "3188986   465774     6192            156     235243         41.0"
      ]
     },
     "execution_count": 273,
     "metadata": {},
     "output_type": "execute_result"
    }
   ],
   "source": [
    "df['last_watch_dt'] = (pd.to_datetime(df['last_watch_dt']) - pd.to_datetime(df['last_watch_dt']).min())\n",
    "df['last_watch_dt'] = df.last_watch_dt.apply(lambda x: int(str(x).split()[0]))\n",
    "df.sample(5)"
   ]
  },
  {
   "cell_type": "markdown",
   "id": "b0aa4631-aa3a-4abd-a0a9-56bbb1e4983d",
   "metadata": {},
   "source": [
    "## Popular bias"
   ]
  },
  {
   "cell_type": "code",
   "execution_count": 274,
   "id": "5912e517-4c86-4e1c-9799-b849f8371023",
   "metadata": {},
   "outputs": [
    {
     "data": {
      "text/plain": [
       "<Axes: xlabel='index'>"
      ]
     },
     "execution_count": 274,
     "metadata": {},
     "output_type": "execute_result"
    },
    {
     "data": {
      "image/png": "[encoded data removed]",
      "text/plain": [
       "<Figure size 640x480 with 1 Axes>"
      ]
     },
     "metadata": {},
     "output_type": "display_data"
    }
   ],
   "source": [
    "g = df.item_id.value_counts(True).cumsum().reset_index().reset_index()\n",
    "g.plot(x='index', y='proportion')"
   ]
  },
  {
   "cell_type": "code",
   "execution_count": 275,
   "id": "360a7cb9-409e-452c-b36b-fc67ae4c7e02",
   "metadata": {},
   "outputs": [
    {
     "data": {
      "text/plain": [
       "<Axes: xlabel='index'>"
      ]
     },
     "execution_count": 275,
     "metadata": {},
     "output_type": "execute_result"
    },
    {
     "data": {
      "image/png": "[encoded data removed]",
      "text/plain": [
       "<Figure size 640x480 with 1 Axes>"
      ]
     },
     "metadata": {},
     "output_type": "display_data"
    }
   ],
   "source": [
    "g = df.item_id.value_counts(True)[:200].cumsum().reset_index().reset_index()\n",
    "g.plot(x='index', y='proportion')"
   ]
  },
  {
   "cell_type": "markdown",
   "id": "65d60e41-b044-40e6-97e9-58aa7010f269",
   "metadata": {},
   "source": [
    "## Популярность айтема по времени"
   ]
  },
  {
   "cell_type": "code",
   "execution_count": 279,
   "id": "444a5d1f-73cb-426c-b8ba-069f2fda01f5",
   "metadata": {},
   "outputs": [
    {
     "data": {
      "text/plain": [
       "<Axes: >"
      ]
     },
     "execution_count": 279,
     "metadata": {},
     "output_type": "execute_result"
    },
    {
     "data": {
      "image/png": "[encoded data removed]",
      "text/plain": [
       "<Figure size 640x480 with 1 Axes>"
      ]
     },
     "metadata": {},
     "output_type": "display_data"
    }
   ],
   "source": [
    "popular_items = df.item_id.value_counts()[:300].index.tolist()\n",
    "\n",
    "sampled_id = np.random.choice(popular_items)\n",
    "\n",
    "interactions = df.loc[df.item_id==sampled_id].copy()\n",
    "interactions.last_watch_dt.hist()"
   ]
  },
  {
   "cell_type": "code",
   "execution_count": 281,
   "id": "0656522d-2968-4a1c-8543-a964093ebd64",
   "metadata": {},
   "outputs": [
    {
     "data": {
      "text/html": [
       "<div>\n",
       "<style scoped>\n",
       "    .dataframe tbody tr th:only-of-type {\n",
       "        vertical-align: middle;\n",
       "    }\n",
       "\n",
       "    .dataframe tbody tr th {\n",
       "        vertical-align: top;\n",
       "    }\n",
       "\n",
       "    .dataframe thead th {\n",
       "        text-align: right;\n",
       "    }\n",
       "</style>\n",
       "<table border=\"1\" class=\"dataframe\">\n",
       "  <thead>\n",
       "    <tr style=\"text-align: right;\">\n",
       "      <th></th>\n",
       "      <th>item_id</th>\n",
       "      <th>last_watch_dt</th>\n",
       "    </tr>\n",
       "  </thead>\n",
       "  <tbody>\n",
       "    <tr>\n",
       "      <th>6751</th>\n",
       "      <td>7107</td>\n",
       "      <td>87</td>\n",
       "    </tr>\n",
       "    <tr>\n",
       "      <th>8359</th>\n",
       "      <td>8801</td>\n",
       "      <td>140</td>\n",
       "    </tr>\n",
       "    <tr>\n",
       "      <th>11826</th>\n",
       "      <td>12463</td>\n",
       "      <td>141</td>\n",
       "    </tr>\n",
       "    <tr>\n",
       "      <th>4486</th>\n",
       "      <td>4716</td>\n",
       "      <td>141</td>\n",
       "    </tr>\n",
       "    <tr>\n",
       "      <th>14</th>\n",
       "      <td>14</td>\n",
       "      <td>162</td>\n",
       "    </tr>\n",
       "  </tbody>\n",
       "</table>\n",
       "</div>"
      ],
      "text/plain": [
       "       item_id  last_watch_dt\n",
       "6751      7107             87\n",
       "8359      8801            140\n",
       "11826    12463            141\n",
       "4486      4716            141\n",
       "14          14            162"
      ]
     },
     "execution_count": 281,
     "metadata": {},
     "output_type": "execute_result"
    }
   ],
   "source": [
    "temp = df.groupby('item_id').agg({'last_watch_dt':'max'}).reset_index()\n",
    "temp = temp.loc[temp.item_id.isin(popular_items)].copy()\n",
    "temp = temp.sort_values(by='last_watch_dt')\n",
    "temp.head()"
   ]
  },
  {
   "cell_type": "code",
   "execution_count": 282,
   "id": "53ff4b65-aeb9-433c-91a0-5fd1d9ac623f",
   "metadata": {},
   "outputs": [
    {
     "data": {
      "text/plain": [
       "<Axes: >"
      ]
     },
     "execution_count": 282,
     "metadata": {},
     "output_type": "execute_result"
    },
    {
     "data": {
      "image/png": "[encoded data removed]",
      "text/plain": [
       "<Figure size 640x480 with 1 Axes>"
      ]
     },
     "metadata": {},
     "output_type": "display_data"
    }
   ],
   "source": [
    "interactions = df.loc[df.item_id==7107].copy()\n",
    "interactions.last_watch_dt.hist()"
   ]
  },
  {
   "cell_type": "markdown",
   "id": "4431870f-c7be-47d4-9f6f-4f95739c3762",
   "metadata": {},
   "source": [
    "Этот айтем не встретится в тесте скорее всего, хоть он и популярный."
   ]
  },
  {
   "cell_type": "markdown",
   "id": "837c422e-8130-4d8b-80d8-895d749976e2",
   "metadata": {},
   "source": [
    "## Сделаем протокол тестирования"
   ]
  },
  {
   "cell_type": "code",
   "execution_count": 283,
   "id": "1a0df672-7a64-4ba7-aea2-9aed9c13ecb6",
   "metadata": {},
   "outputs": [
    {
     "data": {
      "text/plain": [
       "<Axes: >"
      ]
     },
     "execution_count": 283,
     "metadata": {},
     "output_type": "execute_result"
    },
    {
     "data": {
      "image/png": "[encoded data removed]",
      "text/plain": [
       "<Figure size 640x480 with 1 Axes>"
      ]
     },
     "metadata": {},
     "output_type": "display_data"
    }
   ],
   "source": [
    "df.last_watch_dt.hist(bins=50)"
   ]
  },
  {
   "cell_type": "code",
   "execution_count": 284,
   "id": "1017b62e-68ce-4bfb-b44f-9e1b391aa08b",
   "metadata": {},
   "outputs": [
    {
     "name": "stdout",
     "output_type": "stream",
     "text": [
      "число людей и там и там:  134670\n",
      "число людей всего: 880449\n"
     ]
    }
   ],
   "source": [
    "train_df = df.loc[(df.last_watch_dt < 160-7)].copy()\n",
    "test_df = df.loc[(df.last_watch_dt >= 160-7)].copy()\n",
    "\n",
    "train_users = train_df.user_id.unique()\n",
    "test_users = test_df.user_id.unique()\n",
    "\n",
    "all_included = np.intersect1d(train_users, test_users)\n",
    "\n",
    "print('число людей и там и там: ', all_included.shape[0])\n",
    "print('число людей всего:', train_users.shape[0])"
   ]
  },
  {
   "cell_type": "code",
   "execution_count": 233,
   "id": "8f30d288-bdd7-4304-81ef-61c3b9b75ac9",
   "metadata": {},
   "outputs": [
    {
     "data": {
      "text/plain": [
       "0.37768022181146027"
      ]
     },
     "execution_count": 233,
     "metadata": {},
     "output_type": "execute_result"
    }
   ],
   "source": [
    "len(set(test_users) - set(train_users)) / len(test_users)"
   ]
  },
  {
   "cell_type": "markdown",
   "id": "de1eb6f2-f78c-4403-aebd-a0561a049360",
   "metadata": {},
   "source": [
    "## Теперь переведем к соединенному датасету все"
   ]
  },
  {
   "cell_type": "code",
   "execution_count": 285,
   "id": "3686c2f1-9a9b-4684-b3d3-06c891252549",
   "metadata": {},
   "outputs": [],
   "source": [
    "n_users = 5000\n",
    "\n",
    "all_included = np.random.choice(all_included, size=n_users, replace=False)\n",
    "\n",
    "train_df = train_df.loc[train_df.user_id.isin(all_included)].copy()\n",
    "test_df = test_df.loc[test_df.user_id.isin(all_included)].copy()\n",
    "\n",
    "assert train_df.last_watch_dt.max() < test_df.last_watch_dt.min()\n",
    "assert train_df.user_id.nunique() == n_users\n",
    "assert test_df.user_id.nunique() == n_users\n"
   ]
  },
  {
   "cell_type": "code",
   "execution_count": 287,
   "id": "1c995549-bc88-4af3-a8ce-ca19baa30ee2",
   "metadata": {},
   "outputs": [
    {
     "data": {
      "text/html": [
       "<div>\n",
       "<style scoped>\n",
       "    .dataframe tbody tr th:only-of-type {\n",
       "        vertical-align: middle;\n",
       "    }\n",
       "\n",
       "    .dataframe tbody tr th {\n",
       "        vertical-align: top;\n",
       "    }\n",
       "\n",
       "    .dataframe thead th {\n",
       "        text-align: right;\n",
       "    }\n",
       "</style>\n",
       "<table border=\"1\" class=\"dataframe\">\n",
       "  <thead>\n",
       "    <tr style=\"text-align: right;\">\n",
       "      <th></th>\n",
       "      <th>user_id</th>\n",
       "      <th>item_id</th>\n",
       "      <th>last_watch_dt</th>\n",
       "      <th>total_dur</th>\n",
       "      <th>watched_pct</th>\n",
       "    </tr>\n",
       "  </thead>\n",
       "  <tbody>\n",
       "    <tr>\n",
       "      <th>27</th>\n",
       "      <td>841859</td>\n",
       "      <td>3935</td>\n",
       "      <td>94</td>\n",
       "      <td>8862</td>\n",
       "      <td>100.0</td>\n",
       "    </tr>\n",
       "    <tr>\n",
       "      <th>230</th>\n",
       "      <td>500077</td>\n",
       "      <td>3819</td>\n",
       "      <td>130</td>\n",
       "      <td>961</td>\n",
       "      <td>8.0</td>\n",
       "    </tr>\n",
       "    <tr>\n",
       "      <th>349</th>\n",
       "      <td>622633</td>\n",
       "      <td>6957</td>\n",
       "      <td>140</td>\n",
       "      <td>1407</td>\n",
       "      <td>2.0</td>\n",
       "    </tr>\n",
       "    <tr>\n",
       "      <th>577</th>\n",
       "      <td>661386</td>\n",
       "      <td>6195</td>\n",
       "      <td>151</td>\n",
       "      <td>49</td>\n",
       "      <td>0.0</td>\n",
       "    </tr>\n",
       "    <tr>\n",
       "      <th>619</th>\n",
       "      <td>72137</td>\n",
       "      <td>3784</td>\n",
       "      <td>138</td>\n",
       "      <td>6</td>\n",
       "      <td>0.0</td>\n",
       "    </tr>\n",
       "  </tbody>\n",
       "</table>\n",
       "</div>"
      ],
      "text/plain": [
       "     user_id  item_id  last_watch_dt  total_dur  watched_pct\n",
       "27    841859     3935             94       8862        100.0\n",
       "230   500077     3819            130        961          8.0\n",
       "349   622633     6957            140       1407          2.0\n",
       "577   661386     6195            151         49          0.0\n",
       "619    72137     3784            138          6          0.0"
      ]
     },
     "execution_count": 287,
     "metadata": {},
     "output_type": "execute_result"
    }
   ],
   "source": [
    "train_df.head()"
   ]
  },
  {
   "cell_type": "code",
   "execution_count": 286,
   "id": "4a1e9f17-02e9-4c7f-aa54-4a331b7244b2",
   "metadata": {},
   "outputs": [
    {
     "data": {
      "text/html": [
       "<div>\n",
       "<style scoped>\n",
       "    .dataframe tbody tr th:only-of-type {\n",
       "        vertical-align: middle;\n",
       "    }\n",
       "\n",
       "    .dataframe tbody tr th {\n",
       "        vertical-align: top;\n",
       "    }\n",
       "\n",
       "    .dataframe thead th {\n",
       "        text-align: right;\n",
       "    }\n",
       "</style>\n",
       "<table border=\"1\" class=\"dataframe\">\n",
       "  <thead>\n",
       "    <tr style=\"text-align: right;\">\n",
       "      <th></th>\n",
       "      <th>user_id</th>\n",
       "      <th>train_interactions</th>\n",
       "    </tr>\n",
       "  </thead>\n",
       "  <tbody>\n",
       "    <tr>\n",
       "      <th>0</th>\n",
       "      <td>175</td>\n",
       "      <td>[(13865, 100), (9728, 109), (10440, 117), (128...</td>\n",
       "    </tr>\n",
       "    <tr>\n",
       "      <th>1</th>\n",
       "      <td>315</td>\n",
       "      <td>[(3792, 58), (11697, 58), (8636, 78), (9070, 8...</td>\n",
       "    </tr>\n",
       "    <tr>\n",
       "      <th>2</th>\n",
       "      <td>581</td>\n",
       "      <td>[(10440, 127)]</td>\n",
       "    </tr>\n",
       "    <tr>\n",
       "      <th>3</th>\n",
       "      <td>733</td>\n",
       "      <td>[(4946, 147), (5693, 147), (11769, 147), (1189...</td>\n",
       "    </tr>\n",
       "    <tr>\n",
       "      <th>4</th>\n",
       "      <td>860</td>\n",
       "      <td>[(4495, 138), (9728, 138), (3734, 143), (142, ...</td>\n",
       "    </tr>\n",
       "  </tbody>\n",
       "</table>\n",
       "</div>"
      ],
      "text/plain": [
       "   user_id                                 train_interactions\n",
       "0      175  [(13865, 100), (9728, 109), (10440, 117), (128...\n",
       "1      315  [(3792, 58), (11697, 58), (8636, 78), (9070, 8...\n",
       "2      581                                     [(10440, 127)]\n",
       "3      733  [(4946, 147), (5693, 147), (11769, 147), (1189...\n",
       "4      860  [(4495, 138), (9728, 138), (3734, 143), (142, ..."
      ]
     },
     "execution_count": 286,
     "metadata": {},
     "output_type": "execute_result"
    }
   ],
   "source": [
    "train_grouped = train_df.groupby('user_id').apply(\n",
    "    lambda x: [(t1, t2) for t1, t2 in sorted(zip(x.item_id, \n",
    "                                                 x.last_watch_dt), key=lambda x: x[1])]\n",
    ").reset_index()\n",
    "train_grouped.rename({0:'train_interactions'}, axis=1, inplace=True)\n",
    "\n",
    "test_grouped = test_df.groupby('user_id').apply(\n",
    "    lambda x: [(t1, t2) for t1, t2 in sorted(zip(x.item_id,\n",
    "                                                         x.last_watch_dt), key=lambda x: x[1])]\n",
    ").reset_index()\n",
    "test_grouped.rename({0:'test_interactions'}, axis=1, inplace=True)\n",
    "\n",
    "train_grouped.head()"
   ]
  },
  {
   "cell_type": "code",
   "execution_count": 289,
   "id": "594ade13-ff8b-4ded-9c73-00ea48be4bd9",
   "metadata": {},
   "outputs": [
    {
     "data": {
      "text/html": [
       "<div>\n",
       "<style scoped>\n",
       "    .dataframe tbody tr th:only-of-type {\n",
       "        vertical-align: middle;\n",
       "    }\n",
       "\n",
       "    .dataframe tbody tr th {\n",
       "        vertical-align: top;\n",
       "    }\n",
       "\n",
       "    .dataframe thead th {\n",
       "        text-align: right;\n",
       "    }\n",
       "</style>\n",
       "<table border=\"1\" class=\"dataframe\">\n",
       "  <thead>\n",
       "    <tr style=\"text-align: right;\">\n",
       "      <th></th>\n",
       "      <th>user_id</th>\n",
       "      <th>train_interactions</th>\n",
       "      <th>test_interactions</th>\n",
       "    </tr>\n",
       "  </thead>\n",
       "  <tbody>\n",
       "    <tr>\n",
       "      <th>0</th>\n",
       "      <td>175</td>\n",
       "      <td>[(13865, 100), (9728, 109), (10440, 117), (128...</td>\n",
       "      <td>[(15297, 153)]</td>\n",
       "    </tr>\n",
       "    <tr>\n",
       "      <th>1</th>\n",
       "      <td>315</td>\n",
       "      <td>[(3792, 58), (11697, 58), (8636, 78), (9070, 8...</td>\n",
       "      <td>[(6945, 154), (1978, 156)]</td>\n",
       "    </tr>\n",
       "    <tr>\n",
       "      <th>2</th>\n",
       "      <td>581</td>\n",
       "      <td>[(10440, 127)]</td>\n",
       "      <td>[(9728, 158), (7269, 158)]</td>\n",
       "    </tr>\n",
       "    <tr>\n",
       "      <th>3</th>\n",
       "      <td>733</td>\n",
       "      <td>[(4946, 147), (5693, 147), (11769, 147), (1189...</td>\n",
       "      <td>[(11131, 153), (3363, 154), (15297, 154), (473...</td>\n",
       "    </tr>\n",
       "    <tr>\n",
       "      <th>4</th>\n",
       "      <td>860</td>\n",
       "      <td>[(4495, 138), (9728, 138), (3734, 143), (142, ...</td>\n",
       "      <td>[(10544, 153), (15297, 153), (1712, 161), (644...</td>\n",
       "    </tr>\n",
       "  </tbody>\n",
       "</table>\n",
       "</div>"
      ],
      "text/plain": [
       "   user_id                                 train_interactions  \\\n",
       "0      175  [(13865, 100), (9728, 109), (10440, 117), (128...   \n",
       "1      315  [(3792, 58), (11697, 58), (8636, 78), (9070, 8...   \n",
       "2      581                                     [(10440, 127)]   \n",
       "3      733  [(4946, 147), (5693, 147), (11769, 147), (1189...   \n",
       "4      860  [(4495, 138), (9728, 138), (3734, 143), (142, ...   \n",
       "\n",
       "                                   test_interactions  \n",
       "0                                     [(15297, 153)]  \n",
       "1                         [(6945, 154), (1978, 156)]  \n",
       "2                         [(9728, 158), (7269, 158)]  \n",
       "3  [(11131, 153), (3363, 154), (15297, 154), (473...  \n",
       "4  [(10544, 153), (15297, 153), (1712, 161), (644...  "
      ]
     },
     "execution_count": 289,
     "metadata": {},
     "output_type": "execute_result"
    }
   ],
   "source": [
    "joined = train_grouped.merge(test_grouped)\n",
    "joined.head()"
   ]
  },
  {
   "cell_type": "code",
   "execution_count": 290,
   "id": "60c1459f-7341-416f-94c7-55f30253e217",
   "metadata": {},
   "outputs": [],
   "source": [
    "def ndcg_metric(gt_items, predicted):\n",
    "    \n",
    "    at = len(predicted)\n",
    "    relevance = np.array([1 if x in predicted else 0 for x in gt_items])\n",
    "    # DCG uses the relevance of the recommended items\n",
    "    rank_dcg = dcg(relevance)\n",
    "\n",
    "    if rank_dcg == 0.0:\n",
    "        return 0.0\n",
    "\n",
    "    # IDCG has all relevances to 1 (or the values provided), up to the number of items in the test set that can fit in the list length\n",
    "    ideal_dcg = dcg(np.sort(relevance)[::-1][:at])\n",
    "\n",
    "    if ideal_dcg == 0.0:\n",
    "        return 0.0\n",
    "\n",
    "    ndcg_ = rank_dcg / ideal_dcg\n",
    "\n",
    "    return ndcg_\n",
    "\n",
    "\n",
    "def dcg(scores):\n",
    "    return np.sum(np.divide(np.power(2, scores) - 1, np.log2(np.arange(scores.shape[0], dtype=np.float64) + 2)),\n",
    "                  dtype=np.float64)\n",
    "\n",
    "\n",
    "def recall_metric(gt_items, predicted):\n",
    "    \n",
    "    n_gt = len(gt_items)\n",
    "    intersection = len(set(gt_items).intersection(set(predicted)))\n",
    "    return intersection / n_gt\n",
    "\n",
    "\n",
    "\n",
    "def evaluate_recommender(df, model_preds, gt_col='test_interactions', topn=10):\n",
    "    \n",
    "    metric_values = []\n",
    "    \n",
    "    for idx, row in df.iterrows():\n",
    "        gt_items = [x[0] for x in row[gt_col]]\n",
    "        metric_values.append((ndcg_metric(gt_items, row[model_preds]),\n",
    "                              recall_metric(gt_items, row[model_preds])))\n",
    "        \n",
    "    return {'ndcg':np.mean([x[0] for x in metric_values]),\n",
    "            'recall':np.mean([x[1] for x in metric_values])}\n",
    "            \n"
   ]
  },
  {
   "cell_type": "code",
   "execution_count": 291,
   "id": "5377f454-eb96-4dd1-b25d-bf3b0404d993",
   "metadata": {},
   "outputs": [],
   "source": [
    "def get_metrics(df, model_preds, gt_col='test_interactions', topn=10):\n",
    "    \n",
    "    metric_values = []\n",
    "    \n",
    "    for idx, row in df.iterrows():\n",
    "        gt_items = [x[0] for x in row[gt_col]]\n",
    "        metric_values.append((ndcg_metric(gt_items, row[model_preds]),\n",
    "                              recall_metric(gt_items, row[model_preds])))\n",
    "        \n",
    "    return metric_values\n",
    "        "
   ]
  },
  {
   "cell_type": "code",
   "execution_count": 298,
   "id": "dd2ee6a6-914c-4f2d-91c8-c80bde97d84e",
   "metadata": {},
   "outputs": [
    {
     "data": {
      "text/html": [
       "<div>\n",
       "<style scoped>\n",
       "    .dataframe tbody tr th:only-of-type {\n",
       "        vertical-align: middle;\n",
       "    }\n",
       "\n",
       "    .dataframe tbody tr th {\n",
       "        vertical-align: top;\n",
       "    }\n",
       "\n",
       "    .dataframe thead th {\n",
       "        text-align: right;\n",
       "    }\n",
       "</style>\n",
       "<table border=\"1\" class=\"dataframe\">\n",
       "  <thead>\n",
       "    <tr style=\"text-align: right;\">\n",
       "      <th></th>\n",
       "      <th>user_id</th>\n",
       "      <th>train_interactions</th>\n",
       "      <th>test_interactions</th>\n",
       "      <th>random_recs</th>\n",
       "    </tr>\n",
       "  </thead>\n",
       "  <tbody>\n",
       "    <tr>\n",
       "      <th>0</th>\n",
       "      <td>175</td>\n",
       "      <td>[(13865, 100), (9728, 109), (10440, 117), (128...</td>\n",
       "      <td>[(15297, 153)]</td>\n",
       "      <td>[7560, 4590, 8442]</td>\n",
       "    </tr>\n",
       "    <tr>\n",
       "      <th>1</th>\n",
       "      <td>315</td>\n",
       "      <td>[(3792, 58), (11697, 58), (8636, 78), (9070, 8...</td>\n",
       "      <td>[(6945, 154), (1978, 156)]</td>\n",
       "      <td>[7560, 4590, 8442]</td>\n",
       "    </tr>\n",
       "    <tr>\n",
       "      <th>2</th>\n",
       "      <td>581</td>\n",
       "      <td>[(10440, 127)]</td>\n",
       "      <td>[(9728, 158), (7269, 158)]</td>\n",
       "      <td>[7560, 4590, 8442]</td>\n",
       "    </tr>\n",
       "    <tr>\n",
       "      <th>3</th>\n",
       "      <td>733</td>\n",
       "      <td>[(4946, 147), (5693, 147), (11769, 147), (1189...</td>\n",
       "      <td>[(11131, 153), (3363, 154), (15297, 154), (473...</td>\n",
       "      <td>[7560, 4590, 8442]</td>\n",
       "    </tr>\n",
       "    <tr>\n",
       "      <th>4</th>\n",
       "      <td>860</td>\n",
       "      <td>[(4495, 138), (9728, 138), (3734, 143), (142, ...</td>\n",
       "      <td>[(10544, 153), (15297, 153), (1712, 161), (644...</td>\n",
       "      <td>[7560, 4590, 8442]</td>\n",
       "    </tr>\n",
       "  </tbody>\n",
       "</table>\n",
       "</div>"
      ],
      "text/plain": [
       "   user_id                                 train_interactions  \\\n",
       "0      175  [(13865, 100), (9728, 109), (10440, 117), (128...   \n",
       "1      315  [(3792, 58), (11697, 58), (8636, 78), (9070, 8...   \n",
       "2      581                                     [(10440, 127)]   \n",
       "3      733  [(4946, 147), (5693, 147), (11769, 147), (1189...   \n",
       "4      860  [(4495, 138), (9728, 138), (3734, 143), (142, ...   \n",
       "\n",
       "                                   test_interactions         random_recs  \n",
       "0                                     [(15297, 153)]  [7560, 4590, 8442]  \n",
       "1                         [(6945, 154), (1978, 156)]  [7560, 4590, 8442]  \n",
       "2                         [(9728, 158), (7269, 158)]  [7560, 4590, 8442]  \n",
       "3  [(11131, 153), (3363, 154), (15297, 154), (473...  [7560, 4590, 8442]  \n",
       "4  [(10544, 153), (15297, 153), (1712, 161), (644...  [7560, 4590, 8442]  "
      ]
     },
     "execution_count": 298,
     "metadata": {},
     "output_type": "execute_result"
    }
   ],
   "source": [
    "class Random:\n",
    "\n",
    "    def __init__(self):\n",
    "\n",
    "        self.trained = False\n",
    "\n",
    "    def fit(self, df, col='train_interactions'):\n",
    "\n",
    "        items = set()\n",
    "        for _, row in df.iterrows():\n",
    "            for item, _ in row[col]:\n",
    "                items.add(item)\n",
    "\n",
    "        self.items = list(items)\n",
    "        self.trained = True\n",
    "\n",
    "    def predict(self, df, topn=100):\n",
    "        assert self.trained\n",
    "        return [np.random.choice(self.items, replace=False, size=topn)]*len(df)\n",
    "\n",
    "\n",
    "random = Random()\n",
    "random.fit(joined)\n",
    "\n",
    "joined['random_recs'] = random.predict(joined, topn=3)\n",
    "joined.head()  "
   ]
  },
  {
   "cell_type": "code",
   "execution_count": 299,
   "id": "107b24e3-00d0-4466-be0f-3377d34c83a0",
   "metadata": {},
   "outputs": [
    {
     "data": {
      "text/plain": [
       "{'ndcg': 0.00015280197828134527, 'recall': 7.5e-05}"
      ]
     },
     "execution_count": 299,
     "metadata": {},
     "output_type": "execute_result"
    }
   ],
   "source": [
    "evaluate_recommender(joined, model_preds='random_recs')"
   ]
  },
  {
   "cell_type": "code",
   "execution_count": 302,
   "id": "e22d4612-4b07-4473-bdbb-e48b9ccb052b",
   "metadata": {},
   "outputs": [
    {
     "data": {
      "text/plain": [
       "user_id  item_id\n",
       "0        6006       1\n",
       "732072   12318      1\n",
       "         3804       1\n",
       "         3343       1\n",
       "732071   15297      1\n",
       "                   ..\n",
       "366421   14317      1\n",
       "         13865      1\n",
       "         13243      1\n",
       "         13159      1\n",
       "1097557  15297      1\n",
       "Name: count, Length: 5476251, dtype: int64"
      ]
     },
     "execution_count": 302,
     "metadata": {},
     "output_type": "execute_result"
    }
   ],
   "source": [
    "df[['user_id','item_id']].value_counts()"
   ]
  },
  {
   "cell_type": "code",
   "execution_count": 303,
   "id": "ac8d261e-1b5f-4894-93db-eb9eb414bfd1",
   "metadata": {},
   "outputs": [
    {
     "data": {
      "text/html": [
       "<div>\n",
       "<style scoped>\n",
       "    .dataframe tbody tr th:only-of-type {\n",
       "        vertical-align: middle;\n",
       "    }\n",
       "\n",
       "    .dataframe tbody tr th {\n",
       "        vertical-align: top;\n",
       "    }\n",
       "\n",
       "    .dataframe thead th {\n",
       "        text-align: right;\n",
       "    }\n",
       "</style>\n",
       "<table border=\"1\" class=\"dataframe\">\n",
       "  <thead>\n",
       "    <tr style=\"text-align: right;\">\n",
       "      <th></th>\n",
       "      <th>user_id</th>\n",
       "      <th>train_interactions</th>\n",
       "      <th>test_interactions</th>\n",
       "      <th>random_recs</th>\n",
       "      <th>toppopular_recs</th>\n",
       "    </tr>\n",
       "  </thead>\n",
       "  <tbody>\n",
       "    <tr>\n",
       "      <th>0</th>\n",
       "      <td>175</td>\n",
       "      <td>[(13865, 100), (9728, 109), (10440, 117), (128...</td>\n",
       "      <td>[(15297, 153)]</td>\n",
       "      <td>[7560, 4590, 8442]</td>\n",
       "      <td>[10440, 9728, 15297, 13865, 3734, 4151, 4880, ...</td>\n",
       "    </tr>\n",
       "    <tr>\n",
       "      <th>1</th>\n",
       "      <td>315</td>\n",
       "      <td>[(3792, 58), (11697, 58), (8636, 78), (9070, 8...</td>\n",
       "      <td>[(6945, 154), (1978, 156)]</td>\n",
       "      <td>[7560, 4590, 8442]</td>\n",
       "      <td>[10440, 9728, 15297, 13865, 3734, 4151, 4880, ...</td>\n",
       "    </tr>\n",
       "    <tr>\n",
       "      <th>2</th>\n",
       "      <td>581</td>\n",
       "      <td>[(10440, 127)]</td>\n",
       "      <td>[(9728, 158), (7269, 158)]</td>\n",
       "      <td>[7560, 4590, 8442]</td>\n",
       "      <td>[10440, 9728, 15297, 13865, 3734, 4151, 4880, ...</td>\n",
       "    </tr>\n",
       "    <tr>\n",
       "      <th>3</th>\n",
       "      <td>733</td>\n",
       "      <td>[(4946, 147), (5693, 147), (11769, 147), (1189...</td>\n",
       "      <td>[(11131, 153), (3363, 154), (15297, 154), (473...</td>\n",
       "      <td>[7560, 4590, 8442]</td>\n",
       "      <td>[10440, 9728, 15297, 13865, 3734, 4151, 4880, ...</td>\n",
       "    </tr>\n",
       "    <tr>\n",
       "      <th>4</th>\n",
       "      <td>860</td>\n",
       "      <td>[(4495, 138), (9728, 138), (3734, 143), (142, ...</td>\n",
       "      <td>[(10544, 153), (15297, 153), (1712, 161), (644...</td>\n",
       "      <td>[7560, 4590, 8442]</td>\n",
       "      <td>[10440, 9728, 15297, 13865, 3734, 4151, 4880, ...</td>\n",
       "    </tr>\n",
       "  </tbody>\n",
       "</table>\n",
       "</div>"
      ],
      "text/plain": [
       "   user_id                                 train_interactions  \\\n",
       "0      175  [(13865, 100), (9728, 109), (10440, 117), (128...   \n",
       "1      315  [(3792, 58), (11697, 58), (8636, 78), (9070, 8...   \n",
       "2      581                                     [(10440, 127)]   \n",
       "3      733  [(4946, 147), (5693, 147), (11769, 147), (1189...   \n",
       "4      860  [(4495, 138), (9728, 138), (3734, 143), (142, ...   \n",
       "\n",
       "                                   test_interactions         random_recs  \\\n",
       "0                                     [(15297, 153)]  [7560, 4590, 8442]   \n",
       "1                         [(6945, 154), (1978, 156)]  [7560, 4590, 8442]   \n",
       "2                         [(9728, 158), (7269, 158)]  [7560, 4590, 8442]   \n",
       "3  [(11131, 153), (3363, 154), (15297, 154), (473...  [7560, 4590, 8442]   \n",
       "4  [(10544, 153), (15297, 153), (1712, 161), (644...  [7560, 4590, 8442]   \n",
       "\n",
       "                                     toppopular_recs  \n",
       "0  [10440, 9728, 15297, 13865, 3734, 4151, 4880, ...  \n",
       "1  [10440, 9728, 15297, 13865, 3734, 4151, 4880, ...  \n",
       "2  [10440, 9728, 15297, 13865, 3734, 4151, 4880, ...  \n",
       "3  [10440, 9728, 15297, 13865, 3734, 4151, 4880, ...  \n",
       "4  [10440, 9728, 15297, 13865, 3734, 4151, 4880, ...  "
      ]
     },
     "execution_count": 303,
     "metadata": {},
     "output_type": "execute_result"
    }
   ],
   "source": [
    "class TopPopular:\n",
    "\n",
    "    def __init__(self):\n",
    "\n",
    "        self.trained = False\n",
    "    \n",
    "    def fit(self, df, col='train_interactions'):\n",
    "        \n",
    "        counts = {}\n",
    "        for _, row in df.iterrows():\n",
    "            for item, _ in row[col]:\n",
    "                if item in counts:\n",
    "                    counts[item] += 1\n",
    "                else:\n",
    "                    counts[item] = 1\n",
    "                    \n",
    "        counts = sorted(counts.items(), key=lambda x: x[1], reverse=True)\n",
    "        \n",
    "        self.recommenations = [x[0] for x in counts]\n",
    "        self.trained = True\n",
    "        \n",
    "    def predict(self, df, topn=100)  -> List[np.ndarray]:\n",
    "        \n",
    "        assert self.trained\n",
    "        return [self.recommenations[:topn]]*len(df)\n",
    "\n",
    "    \n",
    "toppop = TopPopular()\n",
    "toppop.fit(joined)\n",
    "\n",
    "joined['toppopular_recs'] = toppop.predict(joined)\n",
    "joined.head()       "
   ]
  },
  {
   "cell_type": "code",
   "execution_count": 304,
   "id": "dfd3c545-53f8-46a4-89b9-4cf61475599a",
   "metadata": {},
   "outputs": [
    {
     "data": {
      "text/plain": [
       "{'ndcg': 0.47828402489761757, 'recall': 0.3606713485967016}"
      ]
     },
     "execution_count": 304,
     "metadata": {},
     "output_type": "execute_result"
    }
   ],
   "source": [
    "evaluate_recommender(joined, model_preds='toppopular_recs')"
   ]
  },
  {
   "cell_type": "raw",
   "id": "921c4697-5233-4c52-8f8c-4c1f02deb10f",
   "metadata": {},
   "source": [
    "в нашем алгоритме есть недостаток, какой?"
   ]
  },
  {
   "cell_type": "code",
   "execution_count": 306,
   "id": "4a01f209-5f6a-4643-9d1d-5fcec5598f28",
   "metadata": {},
   "outputs": [
    {
     "data": {
      "text/html": [
       "<div>\n",
       "<style scoped>\n",
       "    .dataframe tbody tr th:only-of-type {\n",
       "        vertical-align: middle;\n",
       "    }\n",
       "\n",
       "    .dataframe tbody tr th {\n",
       "        vertical-align: top;\n",
       "    }\n",
       "\n",
       "    .dataframe thead th {\n",
       "        text-align: right;\n",
       "    }\n",
       "</style>\n",
       "<table border=\"1\" class=\"dataframe\">\n",
       "  <thead>\n",
       "    <tr style=\"text-align: right;\">\n",
       "      <th></th>\n",
       "      <th>user_id</th>\n",
       "      <th>train_interactions</th>\n",
       "      <th>test_interactions</th>\n",
       "      <th>random_recs</th>\n",
       "      <th>toppopular_recs</th>\n",
       "      <th>toppopular_recs_filtered</th>\n",
       "    </tr>\n",
       "  </thead>\n",
       "  <tbody>\n",
       "    <tr>\n",
       "      <th>0</th>\n",
       "      <td>175</td>\n",
       "      <td>[(13865, 100), (9728, 109), (10440, 117), (128...</td>\n",
       "      <td>[(15297, 153)]</td>\n",
       "      <td>[7560, 4590, 8442]</td>\n",
       "      <td>[10440, 9728, 15297, 13865, 3734, 4151, 4880, ...</td>\n",
       "      <td>[15297, 3734, 4151, 4880, 2657, 142, 12192, 99...</td>\n",
       "    </tr>\n",
       "    <tr>\n",
       "      <th>1</th>\n",
       "      <td>315</td>\n",
       "      <td>[(3792, 58), (11697, 58), (8636, 78), (9070, 8...</td>\n",
       "      <td>[(6945, 154), (1978, 156)]</td>\n",
       "      <td>[7560, 4590, 8442]</td>\n",
       "      <td>[10440, 9728, 15297, 13865, 3734, 4151, 4880, ...</td>\n",
       "      <td>[9728, 15297, 13865, 3734, 4151, 4880, 142, 12...</td>\n",
       "    </tr>\n",
       "    <tr>\n",
       "      <th>2</th>\n",
       "      <td>581</td>\n",
       "      <td>[(10440, 127)]</td>\n",
       "      <td>[(9728, 158), (7269, 158)]</td>\n",
       "      <td>[7560, 4590, 8442]</td>\n",
       "      <td>[10440, 9728, 15297, 13865, 3734, 4151, 4880, ...</td>\n",
       "      <td>[9728, 15297, 13865, 3734, 4151, 4880, 2657, 1...</td>\n",
       "    </tr>\n",
       "    <tr>\n",
       "      <th>3</th>\n",
       "      <td>733</td>\n",
       "      <td>[(4946, 147), (5693, 147), (11769, 147), (1189...</td>\n",
       "      <td>[(11131, 153), (3363, 154), (15297, 154), (473...</td>\n",
       "      <td>[7560, 4590, 8442]</td>\n",
       "      <td>[10440, 9728, 15297, 13865, 3734, 4151, 4880, ...</td>\n",
       "      <td>[10440, 9728, 15297, 13865, 3734, 4151, 4880, ...</td>\n",
       "    </tr>\n",
       "    <tr>\n",
       "      <th>4</th>\n",
       "      <td>860</td>\n",
       "      <td>[(4495, 138), (9728, 138), (3734, 143), (142, ...</td>\n",
       "      <td>[(10544, 153), (15297, 153), (1712, 161), (644...</td>\n",
       "      <td>[7560, 4590, 8442]</td>\n",
       "      <td>[10440, 9728, 15297, 13865, 3734, 4151, 4880, ...</td>\n",
       "      <td>[10440, 15297, 13865, 4151, 4880, 2657, 12192,...</td>\n",
       "    </tr>\n",
       "  </tbody>\n",
       "</table>\n",
       "</div>"
      ],
      "text/plain": [
       "   user_id                                 train_interactions  \\\n",
       "0      175  [(13865, 100), (9728, 109), (10440, 117), (128...   \n",
       "1      315  [(3792, 58), (11697, 58), (8636, 78), (9070, 8...   \n",
       "2      581                                     [(10440, 127)]   \n",
       "3      733  [(4946, 147), (5693, 147), (11769, 147), (1189...   \n",
       "4      860  [(4495, 138), (9728, 138), (3734, 143), (142, ...   \n",
       "\n",
       "                                   test_interactions         random_recs  \\\n",
       "0                                     [(15297, 153)]  [7560, 4590, 8442]   \n",
       "1                         [(6945, 154), (1978, 156)]  [7560, 4590, 8442]   \n",
       "2                         [(9728, 158), (7269, 158)]  [7560, 4590, 8442]   \n",
       "3  [(11131, 153), (3363, 154), (15297, 154), (473...  [7560, 4590, 8442]   \n",
       "4  [(10544, 153), (15297, 153), (1712, 161), (644...  [7560, 4590, 8442]   \n",
       "\n",
       "                                     toppopular_recs  \\\n",
       "0  [10440, 9728, 15297, 13865, 3734, 4151, 4880, ...   \n",
       "1  [10440, 9728, 15297, 13865, 3734, 4151, 4880, ...   \n",
       "2  [10440, 9728, 15297, 13865, 3734, 4151, 4880, ...   \n",
       "3  [10440, 9728, 15297, 13865, 3734, 4151, 4880, ...   \n",
       "4  [10440, 9728, 15297, 13865, 3734, 4151, 4880, ...   \n",
       "\n",
       "                            toppopular_recs_filtered  \n",
       "0  [15297, 3734, 4151, 4880, 2657, 142, 12192, 99...  \n",
       "1  [9728, 15297, 13865, 3734, 4151, 4880, 142, 12...  \n",
       "2  [9728, 15297, 13865, 3734, 4151, 4880, 2657, 1...  \n",
       "3  [10440, 9728, 15297, 13865, 3734, 4151, 4880, ...  \n",
       "4  [10440, 15297, 13865, 4151, 4880, 2657, 12192,...  "
      ]
     },
     "execution_count": 306,
     "metadata": {},
     "output_type": "execute_result"
    }
   ],
   "source": [
    "class ModifiedTopPopular(TopPopular):\n",
    "\n",
    "    def __init__(self):\n",
    "\n",
    "        self.trained = False\n",
    "\n",
    "        \n",
    "    def predict(self, df, topn=100)  -> List[np.ndarray]:\n",
    "        \n",
    "        assert self.trained\n",
    "        \n",
    "        all_recs = []\n",
    "        \n",
    "        for idx, row in df.iterrows():\n",
    "            \n",
    "            user_recs = []\n",
    "            \n",
    "            user_interactions = set([x[0] for x in row['train_interactions']])\n",
    "            \n",
    "            for elem in self.recommenations:\n",
    "                if elem not in user_interactions:\n",
    "                    user_recs.append(elem)\n",
    "                    \n",
    "                if len(user_recs) == topn:\n",
    "                    break\n",
    "                    \n",
    "            all_recs.append(user_recs)\n",
    "                \n",
    "        return all_recs\n",
    "\n",
    "    \n",
    "toppop = ModifiedTopPopular()\n",
    "toppop.fit(joined)\n",
    "joined['toppopular_recs_filtered'] = toppop.predict(joined)\n",
    "joined.head()       "
   ]
  },
  {
   "cell_type": "code",
   "execution_count": 307,
   "id": "04808a1b-b24e-4ad0-ae65-895ab0e2a0e3",
   "metadata": {},
   "outputs": [
    {
     "data": {
      "text/plain": [
       "{'ndcg': 0.48344034959635535, 'recall': 0.365494793034093}"
      ]
     },
     "execution_count": 307,
     "metadata": {},
     "output_type": "execute_result"
    }
   ],
   "source": [
    "evaluate_recommender(joined, model_preds='toppopular_recs_filtered')"
   ]
  },
  {
   "cell_type": "markdown",
   "id": "545f62bc-5d17-46b3-9a84-de7e89933488",
   "metadata": {},
   "source": [
    "## Теперь выкинем айтемы, которые не показывались в момент перед тестом"
   ]
  },
  {
   "cell_type": "code",
   "execution_count": 309,
   "id": "6c3cf836-cdd9-4d87-839c-6e215dfd7e60",
   "metadata": {},
   "outputs": [],
   "source": [
    "ld = train_df.groupby('item_id').agg({'last_watch_dt':'max'}).reset_index()\n",
    "validated_items = ld.loc[ld.last_watch_dt == 152].item_id.unique()\n",
    "\n",
    "#validated_items"
   ]
  },
  {
   "cell_type": "code",
   "execution_count": 310,
   "id": "b34f964c-5e29-4aa2-9163-1798f06bf4e1",
   "metadata": {},
   "outputs": [
    {
     "data": {
      "text/plain": [
       "item_id          16511\n",
       "last_watch_dt      152\n",
       "dtype: int64"
      ]
     },
     "execution_count": 310,
     "metadata": {},
     "output_type": "execute_result"
    }
   ],
   "source": [
    "ld.max()"
   ]
  },
  {
   "cell_type": "code",
   "execution_count": 311,
   "id": "c59ec2e5-2856-4cbe-9f4d-fd13f9393b33",
   "metadata": {},
   "outputs": [
    {
     "data": {
      "text/html": [
       "<div>\n",
       "<style scoped>\n",
       "    .dataframe tbody tr th:only-of-type {\n",
       "        vertical-align: middle;\n",
       "    }\n",
       "\n",
       "    .dataframe tbody tr th {\n",
       "        vertical-align: top;\n",
       "    }\n",
       "\n",
       "    .dataframe thead th {\n",
       "        text-align: right;\n",
       "    }\n",
       "</style>\n",
       "<table border=\"1\" class=\"dataframe\">\n",
       "  <thead>\n",
       "    <tr style=\"text-align: right;\">\n",
       "      <th></th>\n",
       "      <th>user_id</th>\n",
       "      <th>train_interactions</th>\n",
       "      <th>test_interactions</th>\n",
       "      <th>random_recs</th>\n",
       "      <th>toppopular_recs</th>\n",
       "      <th>toppopular_recs_filtered</th>\n",
       "      <th>actual_toppop</th>\n",
       "    </tr>\n",
       "  </thead>\n",
       "  <tbody>\n",
       "    <tr>\n",
       "      <th>0</th>\n",
       "      <td>175</td>\n",
       "      <td>[(13865, 100), (9728, 109), (10440, 117), (128...</td>\n",
       "      <td>[(15297, 153)]</td>\n",
       "      <td>[7560, 4590, 8442]</td>\n",
       "      <td>[10440, 9728, 15297, 13865, 3734, 4151, 4880, ...</td>\n",
       "      <td>[15297, 3734, 4151, 4880, 2657, 142, 12192, 99...</td>\n",
       "      <td>[15297, 3734, 4151, 4880, 2657, 142, 12192, 99...</td>\n",
       "    </tr>\n",
       "    <tr>\n",
       "      <th>1</th>\n",
       "      <td>315</td>\n",
       "      <td>[(3792, 58), (11697, 58), (8636, 78), (9070, 8...</td>\n",
       "      <td>[(6945, 154), (1978, 156)]</td>\n",
       "      <td>[7560, 4590, 8442]</td>\n",
       "      <td>[10440, 9728, 15297, 13865, 3734, 4151, 4880, ...</td>\n",
       "      <td>[9728, 15297, 13865, 3734, 4151, 4880, 142, 12...</td>\n",
       "      <td>[9728, 15297, 13865, 3734, 4151, 4880, 142, 12...</td>\n",
       "    </tr>\n",
       "    <tr>\n",
       "      <th>2</th>\n",
       "      <td>581</td>\n",
       "      <td>[(10440, 127)]</td>\n",
       "      <td>[(9728, 158), (7269, 158)]</td>\n",
       "      <td>[7560, 4590, 8442]</td>\n",
       "      <td>[10440, 9728, 15297, 13865, 3734, 4151, 4880, ...</td>\n",
       "      <td>[9728, 15297, 13865, 3734, 4151, 4880, 2657, 1...</td>\n",
       "      <td>[9728, 15297, 13865, 3734, 4151, 4880, 2657, 1...</td>\n",
       "    </tr>\n",
       "    <tr>\n",
       "      <th>3</th>\n",
       "      <td>733</td>\n",
       "      <td>[(4946, 147), (5693, 147), (11769, 147), (1189...</td>\n",
       "      <td>[(11131, 153), (3363, 154), (15297, 154), (473...</td>\n",
       "      <td>[7560, 4590, 8442]</td>\n",
       "      <td>[10440, 9728, 15297, 13865, 3734, 4151, 4880, ...</td>\n",
       "      <td>[10440, 9728, 15297, 13865, 3734, 4151, 4880, ...</td>\n",
       "      <td>[10440, 9728, 15297, 13865, 3734, 4151, 4880, ...</td>\n",
       "    </tr>\n",
       "    <tr>\n",
       "      <th>4</th>\n",
       "      <td>860</td>\n",
       "      <td>[(4495, 138), (9728, 138), (3734, 143), (142, ...</td>\n",
       "      <td>[(10544, 153), (15297, 153), (1712, 161), (644...</td>\n",
       "      <td>[7560, 4590, 8442]</td>\n",
       "      <td>[10440, 9728, 15297, 13865, 3734, 4151, 4880, ...</td>\n",
       "      <td>[10440, 15297, 13865, 4151, 4880, 2657, 12192,...</td>\n",
       "      <td>[10440, 15297, 13865, 4151, 4880, 2657, 12192,...</td>\n",
       "    </tr>\n",
       "  </tbody>\n",
       "</table>\n",
       "</div>"
      ],
      "text/plain": [
       "   user_id                                 train_interactions  \\\n",
       "0      175  [(13865, 100), (9728, 109), (10440, 117), (128...   \n",
       "1      315  [(3792, 58), (11697, 58), (8636, 78), (9070, 8...   \n",
       "2      581                                     [(10440, 127)]   \n",
       "3      733  [(4946, 147), (5693, 147), (11769, 147), (1189...   \n",
       "4      860  [(4495, 138), (9728, 138), (3734, 143), (142, ...   \n",
       "\n",
       "                                   test_interactions         random_recs  \\\n",
       "0                                     [(15297, 153)]  [7560, 4590, 8442]   \n",
       "1                         [(6945, 154), (1978, 156)]  [7560, 4590, 8442]   \n",
       "2                         [(9728, 158), (7269, 158)]  [7560, 4590, 8442]   \n",
       "3  [(11131, 153), (3363, 154), (15297, 154), (473...  [7560, 4590, 8442]   \n",
       "4  [(10544, 153), (15297, 153), (1712, 161), (644...  [7560, 4590, 8442]   \n",
       "\n",
       "                                     toppopular_recs  \\\n",
       "0  [10440, 9728, 15297, 13865, 3734, 4151, 4880, ...   \n",
       "1  [10440, 9728, 15297, 13865, 3734, 4151, 4880, ...   \n",
       "2  [10440, 9728, 15297, 13865, 3734, 4151, 4880, ...   \n",
       "3  [10440, 9728, 15297, 13865, 3734, 4151, 4880, ...   \n",
       "4  [10440, 9728, 15297, 13865, 3734, 4151, 4880, ...   \n",
       "\n",
       "                            toppopular_recs_filtered  \\\n",
       "0  [15297, 3734, 4151, 4880, 2657, 142, 12192, 99...   \n",
       "1  [9728, 15297, 13865, 3734, 4151, 4880, 142, 12...   \n",
       "2  [9728, 15297, 13865, 3734, 4151, 4880, 2657, 1...   \n",
       "3  [10440, 9728, 15297, 13865, 3734, 4151, 4880, ...   \n",
       "4  [10440, 15297, 13865, 4151, 4880, 2657, 12192,...   \n",
       "\n",
       "                                       actual_toppop  \n",
       "0  [15297, 3734, 4151, 4880, 2657, 142, 12192, 99...  \n",
       "1  [9728, 15297, 13865, 3734, 4151, 4880, 142, 12...  \n",
       "2  [9728, 15297, 13865, 3734, 4151, 4880, 2657, 1...  \n",
       "3  [10440, 9728, 15297, 13865, 3734, 4151, 4880, ...  \n",
       "4  [10440, 15297, 13865, 4151, 4880, 2657, 12192,...  "
      ]
     },
     "execution_count": 311,
     "metadata": {},
     "output_type": "execute_result"
    }
   ],
   "source": [
    "class ActualTopPopular(TopPopular):\n",
    "\n",
    "    def __init__(self):\n",
    "\n",
    "        self.trained = False\n",
    "\n",
    "        \n",
    "    def predict(self, df, only_items=None, topn=100)  -> List[np.ndarray]:\n",
    "        \n",
    "        assert self.trained\n",
    "\n",
    "        only_items = set(only_items)\n",
    "        \n",
    "        all_recs = []\n",
    "        \n",
    "        for idx, row in df.iterrows():\n",
    "            \n",
    "            user_recs = []\n",
    "            \n",
    "            user_interactions = set([x[0] for x in row['train_interactions']])\n",
    "            \n",
    "            for elem in self.recommenations:\n",
    "                if elem not in user_interactions and elem in only_items:\n",
    "                    user_recs.append(elem)\n",
    "                    \n",
    "                if len(user_recs) == topn:\n",
    "                    break\n",
    "                    \n",
    "            all_recs.append(user_recs)\n",
    "                \n",
    "        return all_recs\n",
    "\n",
    "    \n",
    "toppop = ActualTopPopular()\n",
    "toppop.fit(joined)\n",
    "joined['actual_toppop'] = toppop.predict(joined, only_items=validated_items)\n",
    "joined.head()       "
   ]
  },
  {
   "cell_type": "code",
   "execution_count": 312,
   "id": "74b21aa9-fa21-444f-91e6-62f9e856102b",
   "metadata": {},
   "outputs": [
    {
     "data": {
      "text/plain": [
       "{'ndcg': 0.4893428956060403, 'recall': 0.3701190946971148}"
      ]
     },
     "execution_count": 312,
     "metadata": {},
     "output_type": "execute_result"
    }
   ],
   "source": [
    "evaluate_recommender(joined, model_preds='actual_toppop')"
   ]
  },
  {
   "cell_type": "markdown",
   "id": "4e03dbb4-ec67-438b-b644-47888eaa8f99",
   "metadata": {},
   "source": [
    "## Сработает ли тут Toppersonal?"
   ]
  },
  {
   "cell_type": "code",
   "execution_count": 249,
   "id": "618c6108-6098-4a49-ab51-6d1509418e50",
   "metadata": {},
   "outputs": [
    {
     "data": {
      "text/plain": [
       "user_id  item_id\n",
       "0        6006       1\n",
       "732072   12318      1\n",
       "         3804       1\n",
       "         3343       1\n",
       "732071   15297      1\n",
       "Name: count, dtype: int64"
      ]
     },
     "execution_count": 249,
     "metadata": {},
     "output_type": "execute_result"
    }
   ],
   "source": [
    "df[['user_id','item_id']].value_counts()[:5]"
   ]
  },
  {
   "cell_type": "markdown",
   "id": "1fac49b0-a76c-43be-93a6-98c243161c14",
   "metadata": {},
   "source": [
    "## Построим EASE"
   ]
  },
  {
   "cell_type": "code",
   "execution_count": 313,
   "id": "5032d6a8-52c4-4b8c-a6f9-78d3bfea3300",
   "metadata": {},
   "outputs": [
    {
     "data": {
      "text/html": [
       "<div>\n",
       "<style scoped>\n",
       "    .dataframe tbody tr th:only-of-type {\n",
       "        vertical-align: middle;\n",
       "    }\n",
       "\n",
       "    .dataframe tbody tr th {\n",
       "        vertical-align: top;\n",
       "    }\n",
       "\n",
       "    .dataframe thead th {\n",
       "        text-align: right;\n",
       "    }\n",
       "</style>\n",
       "<table border=\"1\" class=\"dataframe\">\n",
       "  <thead>\n",
       "    <tr style=\"text-align: right;\">\n",
       "      <th></th>\n",
       "      <th>user_id</th>\n",
       "      <th>item_id</th>\n",
       "      <th>last_watch_dt</th>\n",
       "      <th>total_dur</th>\n",
       "      <th>watched_pct</th>\n",
       "    </tr>\n",
       "  </thead>\n",
       "  <tbody>\n",
       "    <tr>\n",
       "      <th>2612932</th>\n",
       "      <td>723</td>\n",
       "      <td>244</td>\n",
       "      <td>56</td>\n",
       "      <td>2755</td>\n",
       "      <td>35.0</td>\n",
       "    </tr>\n",
       "    <tr>\n",
       "      <th>2751841</th>\n",
       "      <td>945</td>\n",
       "      <td>347</td>\n",
       "      <td>136</td>\n",
       "      <td>1110</td>\n",
       "      <td>20.0</td>\n",
       "    </tr>\n",
       "    <tr>\n",
       "      <th>3723976</th>\n",
       "      <td>834</td>\n",
       "      <td>1055</td>\n",
       "      <td>151</td>\n",
       "      <td>4890</td>\n",
       "      <td>93.0</td>\n",
       "    </tr>\n",
       "    <tr>\n",
       "      <th>422692</th>\n",
       "      <td>93</td>\n",
       "      <td>891</td>\n",
       "      <td>56</td>\n",
       "      <td>171</td>\n",
       "      <td>5.0</td>\n",
       "    </tr>\n",
       "    <tr>\n",
       "      <th>4845310</th>\n",
       "      <td>3817</td>\n",
       "      <td>1151</td>\n",
       "      <td>143</td>\n",
       "      <td>730</td>\n",
       "      <td>9.0</td>\n",
       "    </tr>\n",
       "  </tbody>\n",
       "</table>\n",
       "</div>"
      ],
      "text/plain": [
       "         user_id  item_id  last_watch_dt  total_dur  watched_pct\n",
       "2612932      723      244             56       2755         35.0\n",
       "2751841      945      347            136       1110         20.0\n",
       "3723976      834     1055            151       4890         93.0\n",
       "422692        93      891             56        171          5.0\n",
       "4845310     3817     1151            143        730          9.0"
      ]
     },
     "execution_count": 313,
     "metadata": {},
     "output_type": "execute_result"
    }
   ],
   "source": [
    "item2id = {k:v for v, k in enumerate(train_df.item_id.unique())}\n",
    "user2id = {k:v for v, k in enumerate(train_df.user_id.unique())}\n",
    "\n",
    "id2item = {k:v for v, k in item2id.items()}\n",
    "id2user = {k:v for v, k in user2id.items()}\n",
    "\n",
    "train_df['user_id'] = train_df.user_id.apply(lambda x: user2id[x])\n",
    "train_df['item_id'] = train_df.item_id.apply(lambda x: item2id[x])\n",
    "\n",
    "train_df.sample(5)"
   ]
  },
  {
   "cell_type": "code",
   "execution_count": 315,
   "id": "edffd222-2128-4c38-befc-a429b338f571",
   "metadata": {},
   "outputs": [
    {
     "data": {
      "text/plain": [
       "<5000x5352 sparse matrix of type '<class 'numpy.float64'>'\n",
       "\twith 59545 stored elements in COOrdinate format>"
      ]
     },
     "execution_count": 315,
     "metadata": {},
     "output_type": "execute_result"
    }
   ],
   "source": [
    "from scipy import sparse as sps\n",
    "\n",
    "matrix = sps.coo_matrix(\n",
    "    (np.ones(train_df.shape[0]), (train_df['user_id'], train_df['item_id'])),\n",
    "    shape=(len(user2id), len(item2id)),\n",
    ")\n",
    "matrix"
   ]
  },
  {
   "cell_type": "code",
   "execution_count": 321,
   "id": "4bd9285e-cfbd-495f-b578-620f9560e5e0",
   "metadata": {},
   "outputs": [
    {
     "name": "stdout",
     "output_type": "stream",
     "text": [
      "CPU times: user 18.3 s, sys: 807 ms, total: 19.1 s\n",
      "Wall time: 3.91 s\n"
     ]
    }
   ],
   "source": [
    "%%time\n",
    "\n",
    "# Обучаем конечную модель\n",
    "# Мы взяли реализацию из RecBole\n",
    "# \n",
    "def fit_ease(X, reg_weight=100):\n",
    "    \n",
    " # gram matrix\n",
    "    G = X.T @ X\n",
    "\n",
    "    # add reg to diagonal\n",
    "    G += reg_weight * sps.identity(G.shape[0])\n",
    "\n",
    "    # convert to dense because inverse will be dense\n",
    "    G = G.todense()\n",
    "\n",
    "    # invert. this takes most of the time\n",
    "    P = np.linalg.inv(G)\n",
    "    B = P / (-np.diag(P))\n",
    "    # zero out diag\n",
    "    np.fill_diagonal(B, 0.)\n",
    "    \n",
    "    return B\n",
    "\n",
    "w = fit_ease(matrix)"
   ]
  },
  {
   "cell_type": "code",
   "execution_count": 322,
   "id": "fd86c747-9b21-40be-8c39-526d2dfcb355",
   "metadata": {},
   "outputs": [
    {
     "data": {
      "text/plain": [
       "(5352, 5352)"
      ]
     },
     "execution_count": 322,
     "metadata": {},
     "output_type": "execute_result"
    }
   ],
   "source": [
    "w.shape"
   ]
  },
  {
   "cell_type": "code",
   "execution_count": 323,
   "id": "4342d9c7-7eb6-4ca0-af41-fff009c42217",
   "metadata": {},
   "outputs": [
    {
     "data": {
      "text/html": [
       "<div>\n",
       "<style scoped>\n",
       "    .dataframe tbody tr th:only-of-type {\n",
       "        vertical-align: middle;\n",
       "    }\n",
       "\n",
       "    .dataframe tbody tr th {\n",
       "        vertical-align: top;\n",
       "    }\n",
       "\n",
       "    .dataframe thead th {\n",
       "        text-align: right;\n",
       "    }\n",
       "</style>\n",
       "<table border=\"1\" class=\"dataframe\">\n",
       "  <thead>\n",
       "    <tr style=\"text-align: right;\">\n",
       "      <th></th>\n",
       "      <th>user_id</th>\n",
       "      <th>train_interactions</th>\n",
       "      <th>test_interactions</th>\n",
       "      <th>random_recs</th>\n",
       "      <th>toppopular_recs</th>\n",
       "      <th>toppopular_recs_filtered</th>\n",
       "      <th>actual_toppop</th>\n",
       "      <th>ease_preds</th>\n",
       "    </tr>\n",
       "  </thead>\n",
       "  <tbody>\n",
       "    <tr>\n",
       "      <th>0</th>\n",
       "      <td>175</td>\n",
       "      <td>[(13865, 100), (9728, 109), (10440, 117), (128...</td>\n",
       "      <td>[(15297, 153)]</td>\n",
       "      <td>[7560, 4590, 8442]</td>\n",
       "      <td>[10440, 9728, 15297, 13865, 3734, 4151, 4880, ...</td>\n",
       "      <td>[15297, 3734, 4151, 4880, 2657, 142, 12192, 99...</td>\n",
       "      <td>[15297, 3734, 4151, 4880, 2657, 142, 12192, 99...</td>\n",
       "      <td>[9728, 13865, 15297, 10440, 3734, 9996, 12995,...</td>\n",
       "    </tr>\n",
       "    <tr>\n",
       "      <th>1</th>\n",
       "      <td>315</td>\n",
       "      <td>[(3792, 58), (11697, 58), (8636, 78), (9070, 8...</td>\n",
       "      <td>[(6945, 154), (1978, 156)]</td>\n",
       "      <td>[7560, 4590, 8442]</td>\n",
       "      <td>[10440, 9728, 15297, 13865, 3734, 4151, 4880, ...</td>\n",
       "      <td>[9728, 15297, 13865, 3734, 4151, 4880, 142, 12...</td>\n",
       "      <td>[9728, 15297, 13865, 3734, 4151, 4880, 142, 12...</td>\n",
       "      <td>[15297, 10440, 4151, 13865, 9728, 2657, 142, 9...</td>\n",
       "    </tr>\n",
       "    <tr>\n",
       "      <th>2</th>\n",
       "      <td>581</td>\n",
       "      <td>[(10440, 127)]</td>\n",
       "      <td>[(9728, 158), (7269, 158)]</td>\n",
       "      <td>[7560, 4590, 8442]</td>\n",
       "      <td>[10440, 9728, 15297, 13865, 3734, 4151, 4880, ...</td>\n",
       "      <td>[9728, 15297, 13865, 3734, 4151, 4880, 2657, 1...</td>\n",
       "      <td>[9728, 15297, 13865, 3734, 4151, 4880, 2657, 1...</td>\n",
       "      <td>[15297, 9728, 13865, 2657, 9996, 4151, 4880, 1...</td>\n",
       "    </tr>\n",
       "    <tr>\n",
       "      <th>3</th>\n",
       "      <td>733</td>\n",
       "      <td>[(4946, 147), (5693, 147), (11769, 147), (1189...</td>\n",
       "      <td>[(11131, 153), (3363, 154), (15297, 154), (473...</td>\n",
       "      <td>[7560, 4590, 8442]</td>\n",
       "      <td>[10440, 9728, 15297, 13865, 3734, 4151, 4880, ...</td>\n",
       "      <td>[10440, 9728, 15297, 13865, 3734, 4151, 4880, ...</td>\n",
       "      <td>[10440, 9728, 15297, 13865, 3734, 4151, 4880, ...</td>\n",
       "      <td>[10440, 9728, 13865, 12192, 15297, 5434, 11769...</td>\n",
       "    </tr>\n",
       "    <tr>\n",
       "      <th>4</th>\n",
       "      <td>860</td>\n",
       "      <td>[(4495, 138), (9728, 138), (3734, 143), (142, ...</td>\n",
       "      <td>[(10544, 153), (15297, 153), (1712, 161), (644...</td>\n",
       "      <td>[7560, 4590, 8442]</td>\n",
       "      <td>[10440, 9728, 15297, 13865, 3734, 4151, 4880, ...</td>\n",
       "      <td>[10440, 15297, 13865, 4151, 4880, 2657, 12192,...</td>\n",
       "      <td>[10440, 15297, 13865, 4151, 4880, 2657, 12192,...</td>\n",
       "      <td>[13865, 15297, 10440, 4151, 9728, 4880, 3734, ...</td>\n",
       "    </tr>\n",
       "  </tbody>\n",
       "</table>\n",
       "</div>"
      ],
      "text/plain": [
       "   user_id                                 train_interactions  \\\n",
       "0      175  [(13865, 100), (9728, 109), (10440, 117), (128...   \n",
       "1      315  [(3792, 58), (11697, 58), (8636, 78), (9070, 8...   \n",
       "2      581                                     [(10440, 127)]   \n",
       "3      733  [(4946, 147), (5693, 147), (11769, 147), (1189...   \n",
       "4      860  [(4495, 138), (9728, 138), (3734, 143), (142, ...   \n",
       "\n",
       "                                   test_interactions         random_recs  \\\n",
       "0                                     [(15297, 153)]  [7560, 4590, 8442]   \n",
       "1                         [(6945, 154), (1978, 156)]  [7560, 4590, 8442]   \n",
       "2                         [(9728, 158), (7269, 158)]  [7560, 4590, 8442]   \n",
       "3  [(11131, 153), (3363, 154), (15297, 154), (473...  [7560, 4590, 8442]   \n",
       "4  [(10544, 153), (15297, 153), (1712, 161), (644...  [7560, 4590, 8442]   \n",
       "\n",
       "                                     toppopular_recs  \\\n",
       "0  [10440, 9728, 15297, 13865, 3734, 4151, 4880, ...   \n",
       "1  [10440, 9728, 15297, 13865, 3734, 4151, 4880, ...   \n",
       "2  [10440, 9728, 15297, 13865, 3734, 4151, 4880, ...   \n",
       "3  [10440, 9728, 15297, 13865, 3734, 4151, 4880, ...   \n",
       "4  [10440, 9728, 15297, 13865, 3734, 4151, 4880, ...   \n",
       "\n",
       "                            toppopular_recs_filtered  \\\n",
       "0  [15297, 3734, 4151, 4880, 2657, 142, 12192, 99...   \n",
       "1  [9728, 15297, 13865, 3734, 4151, 4880, 142, 12...   \n",
       "2  [9728, 15297, 13865, 3734, 4151, 4880, 2657, 1...   \n",
       "3  [10440, 9728, 15297, 13865, 3734, 4151, 4880, ...   \n",
       "4  [10440, 15297, 13865, 4151, 4880, 2657, 12192,...   \n",
       "\n",
       "                                       actual_toppop  \\\n",
       "0  [15297, 3734, 4151, 4880, 2657, 142, 12192, 99...   \n",
       "1  [9728, 15297, 13865, 3734, 4151, 4880, 142, 12...   \n",
       "2  [9728, 15297, 13865, 3734, 4151, 4880, 2657, 1...   \n",
       "3  [10440, 9728, 15297, 13865, 3734, 4151, 4880, ...   \n",
       "4  [10440, 15297, 13865, 4151, 4880, 2657, 12192,...   \n",
       "\n",
       "                                          ease_preds  \n",
       "0  [9728, 13865, 15297, 10440, 3734, 9996, 12995,...  \n",
       "1  [15297, 10440, 4151, 13865, 9728, 2657, 142, 9...  \n",
       "2  [15297, 9728, 13865, 2657, 9996, 4151, 4880, 1...  \n",
       "3  [10440, 9728, 13865, 12192, 15297, 5434, 11769...  \n",
       "4  [13865, 15297, 10440, 4151, 9728, 4880, 3734, ...  "
      ]
     },
     "execution_count": 323,
     "metadata": {},
     "output_type": "execute_result"
    }
   ],
   "source": [
    "def get_preds(x, item2id, id2item):\n",
    "\n",
    "    user_items = [t[0] for t in x]\n",
    "    encoded = [item2id[t] for t in user_items if t in item2id]\n",
    "\n",
    "    # Составляем вектор интеракций человека\n",
    "    vector = np.zeros(len(item2id))\n",
    "    vector[encoded] = 1\n",
    "\n",
    "    vector = sps.csr_matrix(vector)\n",
    "\n",
    "    preds = np.array(vector.dot(w))[0]#.toarray()\n",
    "    preds[encoded==1] = -np.inf\n",
    "\n",
    "    ranks = np.argsort(-preds)\n",
    "    decoded = [id2item[t] for t in ranks][:100]\n",
    "    \n",
    "    return decoded\n",
    "\n",
    "\n",
    "joined['ease_preds'] = joined.train_interactions.apply(lambda x: get_preds(x, item2id, id2item))\n",
    "joined.head()"
   ]
  },
  {
   "cell_type": "code",
   "execution_count": 325,
   "id": "5feefe07-2750-4095-a796-4e3615c8df3b",
   "metadata": {},
   "outputs": [
    {
     "data": {
      "text/plain": [
       "{'ndcg': 0.47590992690179174, 'recall': 0.3542604483788808}"
      ]
     },
     "execution_count": 325,
     "metadata": {},
     "output_type": "execute_result"
    }
   ],
   "source": [
    "evaluate_recommender(joined, model_preds='ease_preds') # lambda 100"
   ]
  },
  {
   "cell_type": "code",
   "execution_count": 319,
   "id": "966b970d-4296-4101-b859-d6172db2ee34",
   "metadata": {},
   "outputs": [
    {
     "data": {
      "text/plain": [
       "{'ndcg': 0.50781990916091, 'recall': 0.3889052160186385}"
      ]
     },
     "execution_count": 319,
     "metadata": {},
     "output_type": "execute_result"
    }
   ],
   "source": [
    "evaluate_recommender(pd.concat([joined, []]), model_preds='ease_preds') # lambda = 1000"
   ]
  },
  {
   "cell_type": "code",
   "execution_count": null,
   "id": "14ac2363-5f0c-4617-8aa9-bfe8de67c30f",
   "metadata": {},
   "outputs": [],
   "source": []
  }
 ],
 "metadata": {
  "kernelspec": {
   "display_name": "Python 3",
   "language": "python",
   "name": "python3"
  },
  "language_info": {
   "codemirror_mode": {
    "name": "ipython",
    "version": 3
   },
   "file_extension": ".py",
   "mimetype": "text/x-python",
   "name": "python",
   "nbconvert_exporter": "python",
   "pygments_lexer": "ipython3",
   "version": "3.8.0"
  }
 },
 "nbformat": 4,
 "nbformat_minor": 5
}

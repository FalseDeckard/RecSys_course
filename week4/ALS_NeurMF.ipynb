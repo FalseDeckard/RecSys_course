{
 "cells": [
  {
   "cell_type": "code",
   "execution_count": 1,
   "id": "e5fbada3-40bc-4748-9897-1c0e15d7892a",
   "metadata": {},
   "outputs": [],
   "source": [
    "import pandas as pd\n",
    "import numpy as np\n",
    "from matplotlib import pyplot as plt\n",
    "from typing import List\n",
    "\n",
    "from sklearn.preprocessing import LabelEncoder\n",
    "\n",
    "%matplotlib inline"
   ]
  },
  {
   "cell_type": "markdown",
   "id": "4098f8b8-a49a-4a66-92e2-e75c7acc4988",
   "metadata": {},
   "source": [
    "## Считаем данные соревнования от MTS по RecSys"
   ]
  },
  {
   "cell_type": "code",
   "execution_count": 2,
   "id": "02af9415-838f-446e-80ed-f6083cc9cb27",
   "metadata": {},
   "outputs": [
    {
     "data": {
      "text/html": [
       "<div>\n",
       "<style scoped>\n",
       "    .dataframe tbody tr th:only-of-type {\n",
       "        vertical-align: middle;\n",
       "    }\n",
       "\n",
       "    .dataframe tbody tr th {\n",
       "        vertical-align: top;\n",
       "    }\n",
       "\n",
       "    .dataframe thead th {\n",
       "        text-align: right;\n",
       "    }\n",
       "</style>\n",
       "<table border=\"1\" class=\"dataframe\">\n",
       "  <thead>\n",
       "    <tr style=\"text-align: right;\">\n",
       "      <th></th>\n",
       "      <th>user_id</th>\n",
       "      <th>item_id</th>\n",
       "      <th>last_watch_dt</th>\n",
       "      <th>total_dur</th>\n",
       "      <th>watched_pct</th>\n",
       "    </tr>\n",
       "  </thead>\n",
       "  <tbody>\n",
       "    <tr>\n",
       "      <th>0</th>\n",
       "      <td>176549</td>\n",
       "      <td>9506</td>\n",
       "      <td>2021-05-11</td>\n",
       "      <td>4250</td>\n",
       "      <td>72.0</td>\n",
       "    </tr>\n",
       "    <tr>\n",
       "      <th>1</th>\n",
       "      <td>699317</td>\n",
       "      <td>1659</td>\n",
       "      <td>2021-05-29</td>\n",
       "      <td>8317</td>\n",
       "      <td>100.0</td>\n",
       "    </tr>\n",
       "    <tr>\n",
       "      <th>2</th>\n",
       "      <td>656683</td>\n",
       "      <td>7107</td>\n",
       "      <td>2021-05-09</td>\n",
       "      <td>10</td>\n",
       "      <td>0.0</td>\n",
       "    </tr>\n",
       "    <tr>\n",
       "      <th>3</th>\n",
       "      <td>864613</td>\n",
       "      <td>7638</td>\n",
       "      <td>2021-07-05</td>\n",
       "      <td>14483</td>\n",
       "      <td>100.0</td>\n",
       "    </tr>\n",
       "    <tr>\n",
       "      <th>4</th>\n",
       "      <td>964868</td>\n",
       "      <td>9506</td>\n",
       "      <td>2021-04-30</td>\n",
       "      <td>6725</td>\n",
       "      <td>100.0</td>\n",
       "    </tr>\n",
       "  </tbody>\n",
       "</table>\n",
       "</div>"
      ],
      "text/plain": [
       "   user_id  item_id last_watch_dt  total_dur  watched_pct\n",
       "0   176549     9506    2021-05-11       4250         72.0\n",
       "1   699317     1659    2021-05-29       8317        100.0\n",
       "2   656683     7107    2021-05-09         10          0.0\n",
       "3   864613     7638    2021-07-05      14483        100.0\n",
       "4   964868     9506    2021-04-30       6725        100.0"
      ]
     },
     "execution_count": 2,
     "metadata": {},
     "output_type": "execute_result"
    }
   ],
   "source": [
    "df = pd.read_csv(\"interactions.csv\")\n",
    "df.head()"
   ]
  },
  {
   "cell_type": "code",
   "execution_count": 3,
   "id": "7b1a83b4-4a66-4a5e-b99e-a8db80f25696",
   "metadata": {},
   "outputs": [
    {
     "data": {
      "text/plain": [
       "(962179, 15706)"
      ]
     },
     "execution_count": 3,
     "metadata": {},
     "output_type": "execute_result"
    }
   ],
   "source": [
    "df.user_id.nunique(), df.item_id.nunique()"
   ]
  },
  {
   "cell_type": "code",
   "execution_count": 4,
   "id": "2423aac3-b950-48b4-821c-11dadcde191b",
   "metadata": {},
   "outputs": [
    {
     "data": {
      "text/plain": [
       "('2021-03-13', '2021-08-22')"
      ]
     },
     "execution_count": 4,
     "metadata": {},
     "output_type": "execute_result"
    }
   ],
   "source": [
    "df.last_watch_dt.min(), df.last_watch_dt.max()"
   ]
  },
  {
   "cell_type": "code",
   "execution_count": 5,
   "id": "78153b4e-975b-4493-95e7-e503f7c68757",
   "metadata": {},
   "outputs": [
    {
     "data": {
      "text/html": [
       "<div>\n",
       "<style scoped>\n",
       "    .dataframe tbody tr th:only-of-type {\n",
       "        vertical-align: middle;\n",
       "    }\n",
       "\n",
       "    .dataframe tbody tr th {\n",
       "        vertical-align: top;\n",
       "    }\n",
       "\n",
       "    .dataframe thead th {\n",
       "        text-align: right;\n",
       "    }\n",
       "</style>\n",
       "<table border=\"1\" class=\"dataframe\">\n",
       "  <thead>\n",
       "    <tr style=\"text-align: right;\">\n",
       "      <th></th>\n",
       "      <th>user_id</th>\n",
       "      <th>item_id</th>\n",
       "      <th>last_watch_dt</th>\n",
       "      <th>total_dur</th>\n",
       "      <th>watched_pct</th>\n",
       "    </tr>\n",
       "  </thead>\n",
       "  <tbody>\n",
       "    <tr>\n",
       "      <th>4032774</th>\n",
       "      <td>1036382</td>\n",
       "      <td>3734</td>\n",
       "      <td>131</td>\n",
       "      <td>5420</td>\n",
       "      <td>99.0</td>\n",
       "    </tr>\n",
       "    <tr>\n",
       "      <th>3457373</th>\n",
       "      <td>143286</td>\n",
       "      <td>4151</td>\n",
       "      <td>158</td>\n",
       "      <td>42</td>\n",
       "      <td>0.0</td>\n",
       "    </tr>\n",
       "    <tr>\n",
       "      <th>1860952</th>\n",
       "      <td>431079</td>\n",
       "      <td>8134</td>\n",
       "      <td>131</td>\n",
       "      <td>606</td>\n",
       "      <td>100.0</td>\n",
       "    </tr>\n",
       "    <tr>\n",
       "      <th>5379920</th>\n",
       "      <td>444338</td>\n",
       "      <td>10440</td>\n",
       "      <td>97</td>\n",
       "      <td>51334</td>\n",
       "      <td>90.0</td>\n",
       "    </tr>\n",
       "    <tr>\n",
       "      <th>5387072</th>\n",
       "      <td>1017803</td>\n",
       "      <td>9811</td>\n",
       "      <td>63</td>\n",
       "      <td>7215</td>\n",
       "      <td>100.0</td>\n",
       "    </tr>\n",
       "  </tbody>\n",
       "</table>\n",
       "</div>"
      ],
      "text/plain": [
       "         user_id  item_id  last_watch_dt  total_dur  watched_pct\n",
       "4032774  1036382     3734            131       5420         99.0\n",
       "3457373   143286     4151            158         42          0.0\n",
       "1860952   431079     8134            131        606        100.0\n",
       "5379920   444338    10440             97      51334         90.0\n",
       "5387072  1017803     9811             63       7215        100.0"
      ]
     },
     "execution_count": 5,
     "metadata": {},
     "output_type": "execute_result"
    }
   ],
   "source": [
    "df[\"last_watch_dt\"] = pd.to_datetime(df[\"last_watch_dt\"]) - pd.to_datetime(df[\"last_watch_dt\"]).min()\n",
    "df[\"last_watch_dt\"] = df.last_watch_dt.apply(lambda x: int(str(x).split()[0]))\n",
    "df.sample(5)"
   ]
  },
  {
   "cell_type": "markdown",
   "id": "b0aa4631-aa3a-4abd-a0a9-56bbb1e4983d",
   "metadata": {},
   "source": [
    "## Popular bias"
   ]
  },
  {
   "cell_type": "code",
   "execution_count": 6,
   "id": "5912e517-4c86-4e1c-9799-b849f8371023",
   "metadata": {},
   "outputs": [
    {
     "data": {
      "text/plain": [
       "<AxesSubplot: xlabel='index'>"
      ]
     },
     "execution_count": 6,
     "metadata": {},
     "output_type": "execute_result"
    },
    {
     "data": {
      "image/png": "[encoded data removed]",
      "text/plain": [
       "<Figure size 640x480 with 1 Axes>"
      ]
     },
     "metadata": {},
     "output_type": "display_data"
    }
   ],
   "source": [
    "g = df.item_id.value_counts(True).cumsum().reset_index().reset_index()\n",
    "g.plot(x=\"index\", y=\"proportion\")"
   ]
  },
  {
   "cell_type": "code",
   "execution_count": 7,
   "id": "360a7cb9-409e-452c-b36b-fc67ae4c7e02",
   "metadata": {},
   "outputs": [
    {
     "data": {
      "text/plain": [
       "<AxesSubplot: xlabel='index'>"
      ]
     },
     "execution_count": 7,
     "metadata": {},
     "output_type": "execute_result"
    },
    {
     "data": {
      "image/png": "[encoded data removed]",
      "text/plain": [
       "<Figure size 640x480 with 1 Axes>"
      ]
     },
     "metadata": {},
     "output_type": "display_data"
    }
   ],
   "source": [
    "g = df.item_id.value_counts(True)[:200].cumsum().reset_index().reset_index()\n",
    "g.plot(x=\"index\", y=\"proportion\")"
   ]
  },
  {
   "cell_type": "markdown",
   "id": "65d60e41-b044-40e6-97e9-58aa7010f269",
   "metadata": {},
   "source": [
    "## Популярность айтема по времени"
   ]
  },
  {
   "cell_type": "code",
   "execution_count": 8,
   "id": "444a5d1f-73cb-426c-b8ba-069f2fda01f5",
   "metadata": {},
   "outputs": [
    {
     "data": {
      "text/plain": [
       "<AxesSubplot: >"
      ]
     },
     "execution_count": 8,
     "metadata": {},
     "output_type": "execute_result"
    },
    {
     "data": {
      "image/png": "[encoded data removed]",
      "text/plain": [
       "<Figure size 640x480 with 1 Axes>"
      ]
     },
     "metadata": {},
     "output_type": "display_data"
    }
   ],
   "source": [
    "popular_items = df.item_id.value_counts()[:300].index.tolist()\n",
    "\n",
    "sampled_id = np.random.choice(popular_items)\n",
    "\n",
    "interactions = df.loc[df.item_id == sampled_id].copy()\n",
    "interactions.last_watch_dt.hist()"
   ]
  },
  {
   "cell_type": "code",
   "execution_count": 9,
   "id": "0656522d-2968-4a1c-8543-a964093ebd64",
   "metadata": {},
   "outputs": [
    {
     "data": {
      "text/html": [
       "<div>\n",
       "<style scoped>\n",
       "    .dataframe tbody tr th:only-of-type {\n",
       "        vertical-align: middle;\n",
       "    }\n",
       "\n",
       "    .dataframe tbody tr th {\n",
       "        vertical-align: top;\n",
       "    }\n",
       "\n",
       "    .dataframe thead th {\n",
       "        text-align: right;\n",
       "    }\n",
       "</style>\n",
       "<table border=\"1\" class=\"dataframe\">\n",
       "  <thead>\n",
       "    <tr style=\"text-align: right;\">\n",
       "      <th></th>\n",
       "      <th>item_id</th>\n",
       "      <th>last_watch_dt</th>\n",
       "    </tr>\n",
       "  </thead>\n",
       "  <tbody>\n",
       "    <tr>\n",
       "      <th>6751</th>\n",
       "      <td>7107</td>\n",
       "      <td>87</td>\n",
       "    </tr>\n",
       "    <tr>\n",
       "      <th>8359</th>\n",
       "      <td>8801</td>\n",
       "      <td>140</td>\n",
       "    </tr>\n",
       "    <tr>\n",
       "      <th>11826</th>\n",
       "      <td>12463</td>\n",
       "      <td>141</td>\n",
       "    </tr>\n",
       "    <tr>\n",
       "      <th>4486</th>\n",
       "      <td>4716</td>\n",
       "      <td>141</td>\n",
       "    </tr>\n",
       "    <tr>\n",
       "      <th>14</th>\n",
       "      <td>14</td>\n",
       "      <td>162</td>\n",
       "    </tr>\n",
       "  </tbody>\n",
       "</table>\n",
       "</div>"
      ],
      "text/plain": [
       "       item_id  last_watch_dt\n",
       "6751      7107             87\n",
       "8359      8801            140\n",
       "11826    12463            141\n",
       "4486      4716            141\n",
       "14          14            162"
      ]
     },
     "execution_count": 9,
     "metadata": {},
     "output_type": "execute_result"
    }
   ],
   "source": [
    "temp = df.groupby(\"item_id\").agg({\"last_watch_dt\": \"max\"}).reset_index()\n",
    "temp = temp.loc[temp.item_id.isin(popular_items)].copy()\n",
    "temp = temp.sort_values(by=\"last_watch_dt\")\n",
    "temp.head()"
   ]
  },
  {
   "cell_type": "code",
   "execution_count": 10,
   "id": "53ff4b65-aeb9-433c-91a0-5fd1d9ac623f",
   "metadata": {},
   "outputs": [
    {
     "data": {
      "text/plain": [
       "<AxesSubplot: >"
      ]
     },
     "execution_count": 10,
     "metadata": {},
     "output_type": "execute_result"
    },
    {
     "data": {
      "image/png": "[encoded data removed]",
      "text/plain": [
       "<Figure size 640x480 with 1 Axes>"
      ]
     },
     "metadata": {},
     "output_type": "display_data"
    }
   ],
   "source": [
    "interactions = df.loc[df.item_id == 7107].copy()\n",
    "interactions.last_watch_dt.hist()"
   ]
  },
  {
   "cell_type": "markdown",
   "id": "4431870f-c7be-47d4-9f6f-4f95739c3762",
   "metadata": {},
   "source": [
    "этот айтем не встретится в тесте скорее всего, хоть он и популярный"
   ]
  },
  {
   "cell_type": "markdown",
   "id": "837c422e-8130-4d8b-80d8-895d749976e2",
   "metadata": {},
   "source": [
    "## Сделаем протокол тестирования"
   ]
  },
  {
   "cell_type": "code",
   "execution_count": 11,
   "id": "1a0df672-7a64-4ba7-aea2-9aed9c13ecb6",
   "metadata": {},
   "outputs": [
    {
     "data": {
      "text/plain": [
       "<AxesSubplot: >"
      ]
     },
     "execution_count": 11,
     "metadata": {},
     "output_type": "execute_result"
    },
    {
     "data": {
      "image/png": "[encoded data removed]",
      "text/plain": [
       "<Figure size 640x480 with 1 Axes>"
      ]
     },
     "metadata": {},
     "output_type": "display_data"
    }
   ],
   "source": [
    "df.last_watch_dt.hist(bins=50)"
   ]
  },
  {
   "cell_type": "code",
   "execution_count": 12,
   "id": "1017b62e-68ce-4bfb-b44f-9e1b391aa08b",
   "metadata": {},
   "outputs": [
    {
     "name": "stdout",
     "output_type": "stream",
     "text": [
      "Размер тестовой выборки до фильтрации: 608469\n",
      "Размер тестовой выборки после фильтрации: 404241 (было удалено 204228 строк или 33.56%)\n",
      "Число уникальных пользователей в тестовой выборке: 132257\n"
     ]
    }
   ],
   "source": [
    "train_df = df[(df.last_watch_dt < 160 - 7)]\n",
    "test_df = df[(df.last_watch_dt >= 160 - 7)]\n",
    "\n",
    "train_users = train_df.user_id.unique()\n",
    "train_items = train_df.item_id.unique()\n",
    "\n",
    "test_users = test_df.user_id.unique()\n",
    "\n",
    "all_included = np.intersect1d(train_users, test_users)\n",
    "\n",
    "old_shape = test_df.shape[0]\n",
    "print(f\"Размер тестовой выборки до фильтрации: {old_shape}\")\n",
    "test_df = test_df[test_df.user_id.isin(train_users)]\n",
    "test_df = test_df[test_df.item_id.isin(train_items)]\n",
    "\n",
    "\n",
    "test_users = test_df.user_id.unique()\n",
    "all_included = np.intersect1d(train_users, test_users)\n",
    "print(\n",
    "    f\"Размер тестовой выборки после фильтрации: {test_df.shape[0]} (было удалено {old_shape - test_df.shape[0]} строк или {100 * (old_shape - test_df.shape[0]) / old_shape:.2f}%)\"\n",
    ")\n",
    "print(f\"Число уникальных пользователей в тестовой выборке: {test_df.user_id.nunique()}\")"
   ]
  },
  {
   "cell_type": "markdown",
   "id": "de1eb6f2-f78c-4403-aebd-a0561a049360",
   "metadata": {},
   "source": [
    "## Теперь переведем к соединенному датасету все"
   ]
  },
  {
   "cell_type": "code",
   "execution_count": 13,
   "id": "3686c2f1-9a9b-4684-b3d3-06c891252549",
   "metadata": {},
   "outputs": [
    {
     "name": "stdout",
     "output_type": "stream",
     "text": [
      "50000\n"
     ]
    }
   ],
   "source": [
    "n_users = 50_000\n",
    "\n",
    "all_included = np.random.choice(all_included, size=n_users, replace=False)\n",
    "print(len(all_included))\n",
    "train_df = train_df[train_df.user_id.isin(all_included)]\n",
    "test_df = test_df[test_df.user_id.isin(all_included)]\n",
    "\n",
    "assert train_df.last_watch_dt.max() < test_df.last_watch_dt.min()\n",
    "assert train_df.user_id.nunique() == n_users\n",
    "assert test_df.user_id.nunique() == n_users\n",
    "test_df = test_df[test_df.user_id.isin(train_df.user_id.unique())]\n",
    "test_df = test_df[test_df.item_id.isin(train_df.item_id.unique())]"
   ]
  },
  {
   "cell_type": "code",
   "execution_count": 14,
   "id": "4a1e9f17-02e9-4c7f-aa54-4a331b7244b2",
   "metadata": {},
   "outputs": [
    {
     "data": {
      "text/html": [
       "<div>\n",
       "<style scoped>\n",
       "    .dataframe tbody tr th:only-of-type {\n",
       "        vertical-align: middle;\n",
       "    }\n",
       "\n",
       "    .dataframe tbody tr th {\n",
       "        vertical-align: top;\n",
       "    }\n",
       "\n",
       "    .dataframe thead th {\n",
       "        text-align: right;\n",
       "    }\n",
       "</style>\n",
       "<table border=\"1\" class=\"dataframe\">\n",
       "  <thead>\n",
       "    <tr style=\"text-align: right;\">\n",
       "      <th></th>\n",
       "      <th>user_id</th>\n",
       "      <th>train_interactions</th>\n",
       "    </tr>\n",
       "  </thead>\n",
       "  <tbody>\n",
       "    <tr>\n",
       "      <th>0</th>\n",
       "      <td>3</td>\n",
       "      <td>[(2657, 82), (3734, 131), (9728, 132), (10440,...</td>\n",
       "    </tr>\n",
       "    <tr>\n",
       "      <th>1</th>\n",
       "      <td>21</td>\n",
       "      <td>[(10283, 7), (15997, 15), (12261, 17), (4345, ...</td>\n",
       "    </tr>\n",
       "    <tr>\n",
       "      <th>2</th>\n",
       "      <td>47</td>\n",
       "      <td>[(13361, 138), (13865, 138), (7401, 142), (129...</td>\n",
       "    </tr>\n",
       "    <tr>\n",
       "      <th>3</th>\n",
       "      <td>120</td>\n",
       "      <td>[(15297, 151), (6809, 151), (1000, 151)]</td>\n",
       "    </tr>\n",
       "    <tr>\n",
       "      <th>4</th>\n",
       "      <td>136</td>\n",
       "      <td>[(2720, 132), (3800, 141)]</td>\n",
       "    </tr>\n",
       "  </tbody>\n",
       "</table>\n",
       "</div>"
      ],
      "text/plain": [
       "   user_id                                 train_interactions\n",
       "0        3  [(2657, 82), (3734, 131), (9728, 132), (10440,...\n",
       "1       21  [(10283, 7), (15997, 15), (12261, 17), (4345, ...\n",
       "2       47  [(13361, 138), (13865, 138), (7401, 142), (129...\n",
       "3      120           [(15297, 151), (6809, 151), (1000, 151)]\n",
       "4      136                         [(2720, 132), (3800, 141)]"
      ]
     },
     "execution_count": 14,
     "metadata": {},
     "output_type": "execute_result"
    }
   ],
   "source": [
    "train_grouped = (\n",
    "    train_df.groupby(\"user_id\")\n",
    "    .apply(lambda x: [(t1, t2) for t1, t2 in sorted(zip(x.item_id, x.last_watch_dt), key=lambda x: x[1])])\n",
    "    .reset_index()\n",
    ")\n",
    "train_grouped.rename({0: \"train_interactions\"}, axis=1, inplace=True)\n",
    "\n",
    "test_grouped = (\n",
    "    test_df.groupby(\"user_id\")\n",
    "    .apply(lambda x: [(t1, t2) for t1, t2 in sorted(zip(x.item_id, x.last_watch_dt), key=lambda x: x[1])])\n",
    "    .reset_index()\n",
    ")\n",
    "test_grouped.rename({0: \"test_interactions\"}, axis=1, inplace=True)\n",
    "\n",
    "train_grouped.head()"
   ]
  },
  {
   "cell_type": "code",
   "execution_count": 15,
   "id": "ab93d75d",
   "metadata": {},
   "outputs": [
    {
     "data": {
      "image/png": "[encoded data removed]",
      "text/plain": [
       "<Figure size 640x480 with 1 Axes>"
      ]
     },
     "metadata": {},
     "output_type": "display_data"
    },
    {
     "data": {
      "text/plain": [
       "count    50000.00000\n",
       "mean        12.16434\n",
       "std         18.75366\n",
       "min          1.00000\n",
       "25%          3.00000\n",
       "50%          6.00000\n",
       "75%         14.00000\n",
       "max        734.00000\n",
       "Name: train_interactions, dtype: float64"
      ]
     },
     "execution_count": 15,
     "metadata": {},
     "output_type": "execute_result"
    }
   ],
   "source": [
    "plt.hist(train_grouped[\"train_interactions\"].apply(len), bins=100)\n",
    "plt.title(\"Распределение числа взаимодействий на пользователя в обучающей выборке\")\n",
    "plt.show()\n",
    "train_grouped[\"train_interactions\"].apply(len).describe()"
   ]
  },
  {
   "cell_type": "code",
   "execution_count": 16,
   "id": "594ade13-ff8b-4ded-9c73-00ea48be4bd9",
   "metadata": {},
   "outputs": [
    {
     "data": {
      "text/html": [
       "<div>\n",
       "<style scoped>\n",
       "    .dataframe tbody tr th:only-of-type {\n",
       "        vertical-align: middle;\n",
       "    }\n",
       "\n",
       "    .dataframe tbody tr th {\n",
       "        vertical-align: top;\n",
       "    }\n",
       "\n",
       "    .dataframe thead th {\n",
       "        text-align: right;\n",
       "    }\n",
       "</style>\n",
       "<table border=\"1\" class=\"dataframe\">\n",
       "  <thead>\n",
       "    <tr style=\"text-align: right;\">\n",
       "      <th></th>\n",
       "      <th>user_id</th>\n",
       "      <th>train_interactions</th>\n",
       "      <th>test_interactions</th>\n",
       "    </tr>\n",
       "  </thead>\n",
       "  <tbody>\n",
       "    <tr>\n",
       "      <th>0</th>\n",
       "      <td>3</td>\n",
       "      <td>[(2657, 82), (3734, 131), (9728, 132), (10440,...</td>\n",
       "      <td>[(142, 153), (10240, 156), (965, 156), (47, 15...</td>\n",
       "    </tr>\n",
       "    <tr>\n",
       "      <th>1</th>\n",
       "      <td>21</td>\n",
       "      <td>[(10283, 7), (15997, 15), (12261, 17), (4345, ...</td>\n",
       "      <td>[(13787, 158), (14488, 158)]</td>\n",
       "    </tr>\n",
       "    <tr>\n",
       "      <th>2</th>\n",
       "      <td>47</td>\n",
       "      <td>[(13361, 138), (13865, 138), (7401, 142), (129...</td>\n",
       "      <td>[(14488, 160)]</td>\n",
       "    </tr>\n",
       "    <tr>\n",
       "      <th>3</th>\n",
       "      <td>120</td>\n",
       "      <td>[(15297, 151), (6809, 151), (1000, 151)]</td>\n",
       "      <td>[(10440, 157), (13865, 157)]</td>\n",
       "    </tr>\n",
       "    <tr>\n",
       "      <th>4</th>\n",
       "      <td>136</td>\n",
       "      <td>[(2720, 132), (3800, 141)]</td>\n",
       "      <td>[(5294, 161), (9728, 161)]</td>\n",
       "    </tr>\n",
       "  </tbody>\n",
       "</table>\n",
       "</div>"
      ],
      "text/plain": [
       "   user_id                                 train_interactions   \n",
       "0        3  [(2657, 82), (3734, 131), (9728, 132), (10440,...  \\\n",
       "1       21  [(10283, 7), (15997, 15), (12261, 17), (4345, ...   \n",
       "2       47  [(13361, 138), (13865, 138), (7401, 142), (129...   \n",
       "3      120           [(15297, 151), (6809, 151), (1000, 151)]   \n",
       "4      136                         [(2720, 132), (3800, 141)]   \n",
       "\n",
       "                                   test_interactions  \n",
       "0  [(142, 153), (10240, 156), (965, 156), (47, 15...  \n",
       "1                       [(13787, 158), (14488, 158)]  \n",
       "2                                     [(14488, 160)]  \n",
       "3                       [(10440, 157), (13865, 157)]  \n",
       "4                         [(5294, 161), (9728, 161)]  "
      ]
     },
     "execution_count": 16,
     "metadata": {},
     "output_type": "execute_result"
    }
   ],
   "source": [
    "joined = train_grouped.merge(test_grouped)\n",
    "joined.head()"
   ]
  },
  {
   "cell_type": "code",
   "execution_count": 17,
   "id": "60c1459f-7341-416f-94c7-55f30253e217",
   "metadata": {},
   "outputs": [],
   "source": [
    "def ndcg_metric(gt_items, predicted):\n",
    "\n",
    "    at = len(predicted)\n",
    "    relevance = np.array([1 if x in predicted else 0 for x in gt_items])\n",
    "    # DCG uses the relevance of the recommended items\n",
    "    rank_dcg = dcg(relevance)\n",
    "\n",
    "    if rank_dcg == 0.0:\n",
    "        return 0.0\n",
    "\n",
    "    # IDCG has all relevances to 1 (or the values provided), up to the number of items in the test set that can fit in the list length\n",
    "    ideal_dcg = dcg(np.sort(relevance)[::-1][:at])\n",
    "\n",
    "    if ideal_dcg == 0.0:\n",
    "        return 0.0\n",
    "\n",
    "    ndcg_ = rank_dcg / ideal_dcg\n",
    "\n",
    "    return ndcg_\n",
    "\n",
    "\n",
    "def dcg(scores):\n",
    "    return np.sum(\n",
    "        np.divide(np.power(2, scores) - 1, np.log2(np.arange(scores.shape[0], dtype=np.float64) + 2)), dtype=np.float64\n",
    "    )\n",
    "\n",
    "\n",
    "def recall_metric(gt_items, predicted):\n",
    "\n",
    "    n_gt = len(gt_items)\n",
    "    intersection = len(set(gt_items).intersection(set(predicted)))\n",
    "    return intersection / n_gt\n",
    "\n",
    "\n",
    "def evaluate_recommender(df, model_preds, gt_col=\"test_interactions\", topn=10):\n",
    "\n",
    "    metric_values = []\n",
    "\n",
    "    for idx, row in df.iterrows():\n",
    "        gt_items = [x[0] for x in row[gt_col]]\n",
    "        metric_values.append((ndcg_metric(gt_items, row[model_preds]), recall_metric(gt_items, row[model_preds])))\n",
    "\n",
    "    return {\"ndcg\": np.mean([x[0] for x in metric_values]), \"recall\": np.mean([x[1] for x in metric_values])}"
   ]
  },
  {
   "cell_type": "code",
   "execution_count": 18,
   "id": "5377f454-eb96-4dd1-b25d-bf3b0404d993",
   "metadata": {},
   "outputs": [],
   "source": [
    "def get_metrics(df, model_preds, gt_col=\"test_interactions\", topn=10):\n",
    "\n",
    "    metric_values = []\n",
    "\n",
    "    for idx, row in df.iterrows():\n",
    "        gt_items = [x[0] for x in row[gt_col]]\n",
    "        metric_values.append((ndcg_metric(gt_items, row[model_preds]), recall_metric(gt_items, row[model_preds])))\n",
    "\n",
    "    return metric_values"
   ]
  },
  {
   "cell_type": "code",
   "execution_count": 19,
   "id": "ac8d261e-1b5f-4894-93db-eb9eb414bfd1",
   "metadata": {},
   "outputs": [
    {
     "data": {
      "text/html": [
       "<div>\n",
       "<style scoped>\n",
       "    .dataframe tbody tr th:only-of-type {\n",
       "        vertical-align: middle;\n",
       "    }\n",
       "\n",
       "    .dataframe tbody tr th {\n",
       "        vertical-align: top;\n",
       "    }\n",
       "\n",
       "    .dataframe thead th {\n",
       "        text-align: right;\n",
       "    }\n",
       "</style>\n",
       "<table border=\"1\" class=\"dataframe\">\n",
       "  <thead>\n",
       "    <tr style=\"text-align: right;\">\n",
       "      <th></th>\n",
       "      <th>user_id</th>\n",
       "      <th>train_interactions</th>\n",
       "      <th>test_interactions</th>\n",
       "      <th>toppopular_recs</th>\n",
       "    </tr>\n",
       "  </thead>\n",
       "  <tbody>\n",
       "    <tr>\n",
       "      <th>0</th>\n",
       "      <td>3</td>\n",
       "      <td>[(2657, 82), (3734, 131), (9728, 132), (10440,...</td>\n",
       "      <td>[(142, 153), (10240, 156), (965, 156), (47, 15...</td>\n",
       "      <td>[15297, 13865, 142, 9996, 8636, 6809, 7829, 75...</td>\n",
       "    </tr>\n",
       "    <tr>\n",
       "      <th>1</th>\n",
       "      <td>21</td>\n",
       "      <td>[(10283, 7), (15997, 15), (12261, 17), (4345, ...</td>\n",
       "      <td>[(13787, 158), (14488, 158)]</td>\n",
       "      <td>[15297, 9728, 3734, 4151, 4880, 2657, 142, 999...</td>\n",
       "    </tr>\n",
       "    <tr>\n",
       "      <th>2</th>\n",
       "      <td>47</td>\n",
       "      <td>[(13361, 138), (13865, 138), (7401, 142), (129...</td>\n",
       "      <td>[(14488, 160)]</td>\n",
       "      <td>[10440, 15297, 9728, 3734, 4151, 4880, 2657, 1...</td>\n",
       "    </tr>\n",
       "    <tr>\n",
       "      <th>3</th>\n",
       "      <td>120</td>\n",
       "      <td>[(15297, 151), (6809, 151), (1000, 151)]</td>\n",
       "      <td>[(10440, 157), (13865, 157)]</td>\n",
       "      <td>[10440, 9728, 13865, 3734, 4151, 4880, 2657, 1...</td>\n",
       "    </tr>\n",
       "    <tr>\n",
       "      <th>4</th>\n",
       "      <td>136</td>\n",
       "      <td>[(2720, 132), (3800, 141)]</td>\n",
       "      <td>[(5294, 161), (9728, 161)]</td>\n",
       "      <td>[10440, 15297, 9728, 13865, 3734, 4151, 4880, ...</td>\n",
       "    </tr>\n",
       "  </tbody>\n",
       "</table>\n",
       "</div>"
      ],
      "text/plain": [
       "   user_id                                 train_interactions   \n",
       "0        3  [(2657, 82), (3734, 131), (9728, 132), (10440,...  \\\n",
       "1       21  [(10283, 7), (15997, 15), (12261, 17), (4345, ...   \n",
       "2       47  [(13361, 138), (13865, 138), (7401, 142), (129...   \n",
       "3      120           [(15297, 151), (6809, 151), (1000, 151)]   \n",
       "4      136                         [(2720, 132), (3800, 141)]   \n",
       "\n",
       "                                   test_interactions   \n",
       "0  [(142, 153), (10240, 156), (965, 156), (47, 15...  \\\n",
       "1                       [(13787, 158), (14488, 158)]   \n",
       "2                                     [(14488, 160)]   \n",
       "3                       [(10440, 157), (13865, 157)]   \n",
       "4                         [(5294, 161), (9728, 161)]   \n",
       "\n",
       "                                     toppopular_recs  \n",
       "0  [15297, 13865, 142, 9996, 8636, 6809, 7829, 75...  \n",
       "1  [15297, 9728, 3734, 4151, 4880, 2657, 142, 999...  \n",
       "2  [10440, 15297, 9728, 3734, 4151, 4880, 2657, 1...  \n",
       "3  [10440, 9728, 13865, 3734, 4151, 4880, 2657, 1...  \n",
       "4  [10440, 15297, 9728, 13865, 3734, 4151, 4880, ...  "
      ]
     },
     "execution_count": 19,
     "metadata": {},
     "output_type": "execute_result"
    }
   ],
   "source": [
    "class TopPopular:\n",
    "    def __init__(self):\n",
    "\n",
    "        self.trained = False\n",
    "\n",
    "    def fit(self, df, col=\"train_interactions\"):\n",
    "\n",
    "        counts = {}\n",
    "        for _, row in df.iterrows():\n",
    "            for item, _ in row[col]:\n",
    "                if item in counts:\n",
    "                    counts[item] += 1\n",
    "                else:\n",
    "                    counts[item] = 1\n",
    "\n",
    "        counts = sorted(counts.items(), key=lambda x: x[1], reverse=True)\n",
    "\n",
    "        self.recommenations = [x[0] for x in counts]\n",
    "        self.trained = True\n",
    "\n",
    "    def predict(self, df, topn=100) -> List[np.ndarray]:\n",
    "\n",
    "        assert self.trained\n",
    "\n",
    "        all_recs = []\n",
    "\n",
    "        for idx, row in df.iterrows():\n",
    "\n",
    "            user_recs = []\n",
    "\n",
    "            user_interactions = set([x[0] for x in row[\"train_interactions\"]])\n",
    "\n",
    "            for elem in self.recommenations:\n",
    "                if elem not in user_interactions:\n",
    "                    user_recs.append(elem)\n",
    "\n",
    "                if len(user_recs) == topn:\n",
    "                    break\n",
    "\n",
    "            all_recs.append(user_recs)\n",
    "\n",
    "        return all_recs\n",
    "\n",
    "\n",
    "toppop = TopPopular()\n",
    "toppop.fit(joined)\n",
    "\n",
    "joined[\"toppopular_recs\"] = toppop.predict(joined)\n",
    "joined.head()"
   ]
  },
  {
   "cell_type": "code",
   "execution_count": 20,
   "id": "dfd3c545-53f8-46a4-89b9-4cf61475599a",
   "metadata": {},
   "outputs": [
    {
     "data": {
      "text/plain": [
       "{'ndcg': 0.48970274722663365, 'recall': 0.37645140301035773}"
      ]
     },
     "execution_count": 20,
     "metadata": {},
     "output_type": "execute_result"
    }
   ],
   "source": [
    "evaluate_recommender(joined, model_preds=\"toppopular_recs\")"
   ]
  },
  {
   "cell_type": "markdown",
   "id": "545f62bc-5d17-46b3-9a84-de7e89933488",
   "metadata": {},
   "source": [
    "## Теперь выкинем айтемы, которые не показывались в момент перед тестом"
   ]
  },
  {
   "cell_type": "code",
   "execution_count": 21,
   "id": "6c3cf836-cdd9-4d87-839c-6e215dfd7e60",
   "metadata": {},
   "outputs": [],
   "source": [
    "ld = train_df.groupby(\"item_id\").agg({\"last_watch_dt\": \"max\"}).reset_index()\n",
    "validated_items = ld.loc[ld.last_watch_dt == 152].item_id.unique()\n",
    "\n",
    "# validated_items"
   ]
  },
  {
   "cell_type": "code",
   "execution_count": 22,
   "id": "b34f964c-5e29-4aa2-9163-1798f06bf4e1",
   "metadata": {},
   "outputs": [
    {
     "data": {
      "text/plain": [
       "item_id          16516\n",
       "last_watch_dt      152\n",
       "dtype: int64"
      ]
     },
     "execution_count": 22,
     "metadata": {},
     "output_type": "execute_result"
    }
   ],
   "source": [
    "ld.max()"
   ]
  },
  {
   "cell_type": "code",
   "execution_count": 23,
   "id": "c59ec2e5-2856-4cbe-9f4d-fd13f9393b33",
   "metadata": {},
   "outputs": [
    {
     "data": {
      "text/html": [
       "<div>\n",
       "<style scoped>\n",
       "    .dataframe tbody tr th:only-of-type {\n",
       "        vertical-align: middle;\n",
       "    }\n",
       "\n",
       "    .dataframe tbody tr th {\n",
       "        vertical-align: top;\n",
       "    }\n",
       "\n",
       "    .dataframe thead th {\n",
       "        text-align: right;\n",
       "    }\n",
       "</style>\n",
       "<table border=\"1\" class=\"dataframe\">\n",
       "  <thead>\n",
       "    <tr style=\"text-align: right;\">\n",
       "      <th></th>\n",
       "      <th>user_id</th>\n",
       "      <th>train_interactions</th>\n",
       "      <th>test_interactions</th>\n",
       "      <th>toppopular_recs</th>\n",
       "      <th>actual_toppop</th>\n",
       "    </tr>\n",
       "  </thead>\n",
       "  <tbody>\n",
       "    <tr>\n",
       "      <th>0</th>\n",
       "      <td>3</td>\n",
       "      <td>[(2657, 82), (3734, 131), (9728, 132), (10440,...</td>\n",
       "      <td>[(142, 153), (10240, 156), (965, 156), (47, 15...</td>\n",
       "      <td>[15297, 13865, 142, 9996, 8636, 6809, 7829, 75...</td>\n",
       "      <td>[15297, 13865, 142, 9996, 8636, 6809, 7829, 75...</td>\n",
       "    </tr>\n",
       "    <tr>\n",
       "      <th>1</th>\n",
       "      <td>21</td>\n",
       "      <td>[(10283, 7), (15997, 15), (12261, 17), (4345, ...</td>\n",
       "      <td>[(13787, 158), (14488, 158)]</td>\n",
       "      <td>[15297, 9728, 3734, 4151, 4880, 2657, 142, 999...</td>\n",
       "      <td>[15297, 9728, 3734, 4151, 4880, 2657, 142, 999...</td>\n",
       "    </tr>\n",
       "    <tr>\n",
       "      <th>2</th>\n",
       "      <td>47</td>\n",
       "      <td>[(13361, 138), (13865, 138), (7401, 142), (129...</td>\n",
       "      <td>[(14488, 160)]</td>\n",
       "      <td>[10440, 15297, 9728, 3734, 4151, 4880, 2657, 1...</td>\n",
       "      <td>[10440, 15297, 9728, 3734, 4151, 4880, 2657, 1...</td>\n",
       "    </tr>\n",
       "    <tr>\n",
       "      <th>3</th>\n",
       "      <td>120</td>\n",
       "      <td>[(15297, 151), (6809, 151), (1000, 151)]</td>\n",
       "      <td>[(10440, 157), (13865, 157)]</td>\n",
       "      <td>[10440, 9728, 13865, 3734, 4151, 4880, 2657, 1...</td>\n",
       "      <td>[10440, 9728, 13865, 3734, 4151, 4880, 2657, 1...</td>\n",
       "    </tr>\n",
       "    <tr>\n",
       "      <th>4</th>\n",
       "      <td>136</td>\n",
       "      <td>[(2720, 132), (3800, 141)]</td>\n",
       "      <td>[(5294, 161), (9728, 161)]</td>\n",
       "      <td>[10440, 15297, 9728, 13865, 3734, 4151, 4880, ...</td>\n",
       "      <td>[10440, 15297, 9728, 13865, 3734, 4151, 4880, ...</td>\n",
       "    </tr>\n",
       "  </tbody>\n",
       "</table>\n",
       "</div>"
      ],
      "text/plain": [
       "   user_id                                 train_interactions   \n",
       "0        3  [(2657, 82), (3734, 131), (9728, 132), (10440,...  \\\n",
       "1       21  [(10283, 7), (15997, 15), (12261, 17), (4345, ...   \n",
       "2       47  [(13361, 138), (13865, 138), (7401, 142), (129...   \n",
       "3      120           [(15297, 151), (6809, 151), (1000, 151)]   \n",
       "4      136                         [(2720, 132), (3800, 141)]   \n",
       "\n",
       "                                   test_interactions   \n",
       "0  [(142, 153), (10240, 156), (965, 156), (47, 15...  \\\n",
       "1                       [(13787, 158), (14488, 158)]   \n",
       "2                                     [(14488, 160)]   \n",
       "3                       [(10440, 157), (13865, 157)]   \n",
       "4                         [(5294, 161), (9728, 161)]   \n",
       "\n",
       "                                     toppopular_recs   \n",
       "0  [15297, 13865, 142, 9996, 8636, 6809, 7829, 75...  \\\n",
       "1  [15297, 9728, 3734, 4151, 4880, 2657, 142, 999...   \n",
       "2  [10440, 15297, 9728, 3734, 4151, 4880, 2657, 1...   \n",
       "3  [10440, 9728, 13865, 3734, 4151, 4880, 2657, 1...   \n",
       "4  [10440, 15297, 9728, 13865, 3734, 4151, 4880, ...   \n",
       "\n",
       "                                       actual_toppop  \n",
       "0  [15297, 13865, 142, 9996, 8636, 6809, 7829, 75...  \n",
       "1  [15297, 9728, 3734, 4151, 4880, 2657, 142, 999...  \n",
       "2  [10440, 15297, 9728, 3734, 4151, 4880, 2657, 1...  \n",
       "3  [10440, 9728, 13865, 3734, 4151, 4880, 2657, 1...  \n",
       "4  [10440, 15297, 9728, 13865, 3734, 4151, 4880, ...  "
      ]
     },
     "execution_count": 23,
     "metadata": {},
     "output_type": "execute_result"
    }
   ],
   "source": [
    "class ActualTopPopular(TopPopular):\n",
    "    def __init__(self):\n",
    "\n",
    "        self.trained = False\n",
    "\n",
    "    def predict(self, df, only_items=None, topn=100) -> List[np.ndarray]:\n",
    "\n",
    "        assert self.trained\n",
    "\n",
    "        only_items = set(only_items)\n",
    "\n",
    "        all_recs = []\n",
    "\n",
    "        for idx, row in df.iterrows():\n",
    "\n",
    "            user_recs = []\n",
    "\n",
    "            user_interactions = set([x[0] for x in row[\"train_interactions\"]])\n",
    "\n",
    "            for elem in self.recommenations:\n",
    "                if elem not in user_interactions and elem in only_items:\n",
    "                    user_recs.append(elem)\n",
    "\n",
    "                if len(user_recs) == topn:\n",
    "                    break\n",
    "\n",
    "            all_recs.append(user_recs)\n",
    "\n",
    "        return all_recs\n",
    "\n",
    "\n",
    "toppop = ActualTopPopular()\n",
    "toppop.fit(joined)\n",
    "joined[\"actual_toppop\"] = toppop.predict(joined, only_items=validated_items)\n",
    "joined.head()"
   ]
  },
  {
   "cell_type": "code",
   "execution_count": 24,
   "id": "74b21aa9-fa21-444f-91e6-62f9e856102b",
   "metadata": {},
   "outputs": [
    {
     "data": {
      "text/plain": [
       "{'ndcg': 0.49264188872872966, 'recall': 0.379082586310133}"
      ]
     },
     "execution_count": 24,
     "metadata": {},
     "output_type": "execute_result"
    }
   ],
   "source": [
    "evaluate_recommender(joined, model_preds=\"actual_toppop\")"
   ]
  },
  {
   "cell_type": "markdown",
   "id": "e64abd2e",
   "metadata": {},
   "source": [
    "### ALS\n",
    "\n",
    "Итак, поставлена задача построения модели со скрытыми переменными (latent factor model) для коллаборативной фильтрации:\n",
    "\n",
    "$$\\sum_{u,i} (r_{ui} - \\langle p_u, q_i \\rangle)^2 \\to \\min_{P,Q}. $$\n",
    "\n",
    "Напомним, что суммирование ведется по всем парам $(u, i),$ для которых известен рейтинг $r_{ui}$ (и только по ним), а $p_u, q_i$ – латентные представления пользователя $u$ и товара $i$ из соответствующих матрицы $P, Q$.\n",
    "\n",
    "Подход ALS (Alternating Least Squares) решает задачу, попеременно фиксируя матрицы $P$ и $Q$, — оказывается, что, зафиксировав одну из матриц, можно выписать аналитическое решение задачи для другой.\n",
    "\n",
    "$$\\nabla_{p_u} \\bigg[ \\sum_{u,i} (r_{ui} - \\langle p_u, q_i \\rangle)^2 \\bigg] = \\sum_{i} 2(r_{ui} - \\langle p_u, q_i \\rangle)q_i = 0$$\n",
    "\n",
    "Воспользовавшись тем, что $a^Tbc = cb^Ta$, получим\n",
    "$$\\sum_{i} r_{ui}q_i - \\sum_i q_i q_i^T p_u = 0.$$\n",
    "Тогда окончательно каждый столбец матрицы $P$ можно найти по формуле\n",
    "$$p_u = \\bigg( \\sum_i q_i q_i^T\\bigg)^{-1}\\sum_ir_{ui}q_i \\;\\; \\forall u,$$\n",
    "аналогично для столбцов матрицы $Q$\n",
    "$$q_i = \\bigg( \\sum_u p_u p_u^T\\bigg)^{-1}\\sum_ur_{ui}p_u \\;\\; \\forall i.$$\n",
    "\n",
    "Таким образом мы можем решать оптимизационную задачу, поочередно фиксируя одну из матриц $P$ или $Q$ и проводя оптимизацию по второй.\n",
    "\n",
    "**Оригинальная статья (для explicit feedback):**\n",
    "\n",
    "Bell, R.M. and Koren, Y., 2007, October. Scalable collaborative filtering with jointly derived neighborhood interpolation weights. In Seventh IEEE international conference on data mining (ICDM 2007) (pp. 43-52). IEEE.\n"
   ]
  },
  {
   "cell_type": "markdown",
   "id": "485c9020",
   "metadata": {},
   "source": [
    "### iALS\n",
    "\n",
    "\n",
    "**Статья для implicit данных:**\n",
    "\n",
    "\n",
    "Implicit feedback ALS:\n",
    "* Hu, Y., Koren, Y. and Volinsky, C., 2008, December. Collaborative filtering for implicit feedback datasets. In 2008 Eighth IEEE international conference on data mining (pp. 263-272). Ieee. http://yifanhu.net/PUB/cf.pdf\n",
    "\n",
    "**Особенности:**\n",
    "\n",
    "1. Нет explicit данных (явных позитивных и отрицательных оценок). <br>\n",
    "2. Много шума в данных.  <br>\n",
    "3. Используются свои функции и метрики для оценки implicit feedback. Если в explicit $r_ui$ - это оценки предпочтений пользователя, то в implicit - это степень уверенности. <br>"
   ]
  },
  {
   "attachments": {
    "image-2.png": {
     "image/png": "[encoded data removed]"
    },
    "image-3.png": {
     "image/png": "[encoded data removed]"
    },
    "image.png": {
     "image/png": "[encoded data removed]"
    }
   },
   "cell_type": "markdown",
   "id": "cdb4e32f",
   "metadata": {},
   "source": [
    "Наша задача оптимизации в том, что мы стремимся минимизировать целевую функцию и найти\n",
    "оптимальные $X$ и $Y$. В частности, мы стремимся минимизировать ошибку наименьших квадратов наблюдаемых оценок\n",
    "(и упорядочить):\n",
    "\n",
    "![image.png](attachment:image.png)  \n",
    "\n",
    "Для implicit feedback:\n",
    "\n",
    "![image-2.png](attachment:image-2.png)  \n",
    "\n",
    "![image-3.png](attachment:image-3.png)\n",
    "\n",
    "\n",
    "Авторы статьи вводят набор переменных, $c_ui$, которые измеряют нашу уверенность в наблюдении за $p_ui$. Чем больше значение наблюдения за пользовательским элементом, тем больше вы уверены в этом значении. Таким образом, у нас есть некоторая минимальная уверенность в $p_ui$ для каждой пары пользовательских элементов, но по мере того, как мы наблюдаем больше положительных предпочтений по паре пользователь-объект, наша уверенность в $p_ui$ = 1 соответственно возрастает. Скорость увеличения регулируется константой $\\alpha$.\n",
    "\n",
    "<img src='https://raw.githubusercontent.com/anamarina/RecSys_course/main/week2/images/als.png' width=700 height=500>\n"
   ]
  },
  {
   "cell_type": "markdown",
   "id": "7c229f45",
   "metadata": {},
   "source": [
    "\n",
    "| Критерий | ALS  |  iALS | \n",
    "|---|---|---|\n",
    "| Тип данных | Этот подход используется, когда у вас есть явные рейтинги или оценки, предоставленные пользователями для различных предметов. Например, пользователи могут оценивать фильмы по шкале от 1 до 5. |  Этот подход используется, когда у вас есть неявные сигналы взаимодействия между пользователями и предметами, такие как клики, просмотры, покупки или временные интервалы между действиями. |  \n",
    "|\n",
    "|Цель | Модель стремится точно предсказать явные рейтинги или оценки, которые пользователи могли бы дать предметам. | Модель стремится моделировать уровень уверенности или важности взаимодействия между пользователем и предметом, но не предсказывает явные рейтинги.|  \n",
    "|\n",
    "|Функции потерь| Обычно использует функцию потерь, такую как среднеквадратичная ошибка (MSE), для минимизации разницы между предсказанными и фактическими оценками. | Использует функцию потерь, которая учитывает уверенность в неявных взаимодействиях и стремится увеличить уверенность для более важных взаимодействий.| \n",
    "|\n",
    "|Взвешивание| Не уделяет внимания взаимодействиям, которые не были явно оценены пользователями. Исключает информацию о неявных действиях. | Дополнительная параметризация. Учитывает все неявные действия, но с учетом их уверенности или веса, что позволяет модели учесть важность различных видов взаимодействий| \n",
    "|"
   ]
  },
  {
   "cell_type": "code",
   "execution_count": 24,
   "id": "fd4a2015",
   "metadata": {},
   "outputs": [],
   "source": [
    "from sklearn.metrics import mean_squared_error\n",
    "\n",
    "\n",
    "class NaiveALS:\n",
    "    def __init__(self, n_iters, n_factors, reg):\n",
    "        self.reg = reg\n",
    "        self.n_iters = n_iters\n",
    "        self.n_factors = n_factors\n",
    "\n",
    "    def fit(self, train: pd.DataFrame, test: pd.DataFrame):\n",
    "        n_users = train[\"user_id\"].nunique()\n",
    "        m_items = train[\"item_id\"].nunique()\n",
    "\n",
    "        user_encoder = LabelEncoder()\n",
    "        item_encoder = LabelEncoder()\n",
    "\n",
    "        encoded_users = user_encoder.fit_transform(train_df[\"user_id\"].values)\n",
    "        encoded_item = item_encoder.fit_transform(train_df[\"item_id\"].values)\n",
    "\n",
    "        train_ratings = np.zeros((n_users, m_items))\n",
    "        train_ratings[encoded_users, encoded_item] = 1\n",
    "\n",
    "        self.P = np.random.rand(n_users, self.n_factors)\n",
    "        self.Q = np.random.rand(m_items, self.n_factors)\n",
    "\n",
    "        for i in range(self.n_iters):\n",
    "            self.P = self._als_step(train, self.P, self.Q)\n",
    "            self.Q = self._als_step(train.T, self.Q, self.P)\n",
    "            predictions = self.predict()\n",
    "            train_mse = self.compute_mse(train, predictions)\n",
    "            print(f\"loss on {i} step: {train_mse}\")\n",
    "\n",
    "    def _als_step(self, ratings, solve_vecs, fixed_vecs):\n",
    "        A = fixed_vecs.T.dot(fixed_vecs) + np.eye(self.n_factors) * self.reg\n",
    "        b = ratings.dot(fixed_vecs)\n",
    "        A_inv = np.linalg.inv(A)\n",
    "        solve_vecs = b.dot(A_inv)\n",
    "        return solve_vecs\n",
    "\n",
    "    def predict(self):\n",
    "        pred = self.user_factors.dot(self.item_factors.T)\n",
    "        return pred\n",
    "\n",
    "    @staticmethod\n",
    "    def compute_mse(y_true, y_pred):\n",
    "        mask = np.nonzero(y_true)\n",
    "        mse = mean_squared_error(y_true[mask], y_pred[mask])\n",
    "        return mse"
   ]
  },
  {
   "cell_type": "code",
   "execution_count": 25,
   "id": "63543234",
   "metadata": {},
   "outputs": [
    {
     "name": "stdout",
     "output_type": "stream",
     "text": [
      "\u001b[33mDEPRECATION: Configuring installation scheme with distutils config files is deprecated and will no longer work in the near future. If you are using a Homebrew or Linuxbrew Python, please see discussion at https://github.com/Homebrew/homebrew-core/issues/76621\u001b[0m\u001b[33m\n",
      "\u001b[0mRequirement already satisfied: implicit in /usr/local/lib/python3.9/site-packages (0.7.2)\n",
      "Requirement already satisfied: tqdm>=4.27 in /usr/local/lib/python3.9/site-packages (from implicit) (4.64.1)\n",
      "Requirement already satisfied: numpy>=1.17.0 in /usr/local/lib/python3.9/site-packages (from implicit) (1.22.2)\n",
      "Requirement already satisfied: threadpoolctl in /usr/local/lib/python3.9/site-packages (from implicit) (3.3.0)\n",
      "Requirement already satisfied: scipy>=0.16 in /usr/local/lib/python3.9/site-packages (from implicit) (1.9.0)\n",
      "\u001b[33mDEPRECATION: Configuring installation scheme with distutils config files is deprecated and will no longer work in the near future. If you are using a Homebrew or Linuxbrew Python, please see discussion at https://github.com/Homebrew/homebrew-core/issues/76621\u001b[0m\u001b[33m\n",
      "\u001b[0m\n",
      "\u001b[1m[\u001b[0m\u001b[34;49mnotice\u001b[0m\u001b[1;39;49m]\u001b[0m\u001b[39;49m A new release of pip available: \u001b[0m\u001b[31;49m22.3.1\u001b[0m\u001b[39;49m -> \u001b[0m\u001b[32;49m24.0\u001b[0m\n",
      "\u001b[1m[\u001b[0m\u001b[34;49mnotice\u001b[0m\u001b[1;39;49m]\u001b[0m\u001b[39;49m To update, run: \u001b[0m\u001b[32;49mpython3.9 -m pip install --upgrade pip\u001b[0m\n"
     ]
    }
   ],
   "source": [
    "!pip install implicit"
   ]
  },
  {
   "cell_type": "code",
   "execution_count": 26,
   "id": "7842f324",
   "metadata": {},
   "outputs": [],
   "source": [
    "from scipy.sparse import csr_matrix\n",
    "from implicit.als import AlternatingLeastSquares\n",
    "from implicit.bpr import BayesianPersonalizedRanking\n",
    "\n",
    "from tqdm.auto import tqdm\n",
    "\n",
    "\n",
    "class ImplicitModel:\n",
    "    def __init__(self, model):\n",
    "        self.model = model\n",
    "        self.trained = False\n",
    "\n",
    "    def fit(self, train_df: pd.DataFrame):\n",
    "        self.item_encoder = LabelEncoder()\n",
    "        self.user_encoder = LabelEncoder()\n",
    "        self.item_encoder.fit(train_df.item_id)\n",
    "        self.user_encoder.fit(train_df.user_id)\n",
    "\n",
    "        self.train_ratings = self.encode_table(train_df, [\"user_id\", \"item_id\"])\n",
    "        self.model.fit(self.train_ratings)\n",
    "        self.trained = True\n",
    "\n",
    "    def predict(self, test_df: pd.DataFrame, top_k: int = 100):\n",
    "        if not self.trained:\n",
    "            raise ValueError(\"Model is not fitted. Please, fit the model first\")\n",
    "        users_to_predict = test_df.user_id\n",
    "        encoded_users = self.user_encoder.transform(users_to_predict)\n",
    "        user_recs = self.model.recommend(\n",
    "            encoded_users, self.train_ratings[encoded_users], N=top_k, filter_already_liked_items=True\n",
    "        )[0]\n",
    "        recs = [self.item_encoder.inverse_transform(x) for x in user_recs]\n",
    "        return recs\n",
    "\n",
    "    def encode_table(\n",
    "        self,\n",
    "        df: pd.DataFrame,\n",
    "        axis_names: List[str],\n",
    "    ) -> np.ndarray:\n",
    "        user_ids = self.user_encoder.transform(df[axis_names[0]])\n",
    "        item_ids = self.item_encoder.transform(df[axis_names[1]])\n",
    "\n",
    "        matrix_shape = len(self.user_encoder.classes_), len(self.item_encoder.classes_)\n",
    "\n",
    "        sparse = csr_matrix((np.ones(len(user_ids)), (user_ids, item_ids)), shape=matrix_shape, dtype=np.float32)\n",
    "\n",
    "        return sparse"
   ]
  },
  {
   "cell_type": "code",
   "execution_count": 41,
   "id": "3a1956ec",
   "metadata": {},
   "outputs": [
    {
     "data": {
      "application/vnd.jupyter.widget-view+json": {
       "model_id": "ccb2a9429f6b4813b507bd7e6da1397d",
       "version_major": 2,
       "version_minor": 0
      },
      "text/plain": [
       "  0%|          | 0/3 [00:00<?, ?it/s]"
      ]
     },
     "metadata": {},
     "output_type": "display_data"
    }
   ],
   "source": [
    "als = AlternatingLeastSquares(iterations=3, factors=32, regularization=0.01, calculate_training_loss=True)\n",
    "als_recommender = ImplicitModel(als)\n",
    "als_recommender.fit(train_df)"
   ]
  },
  {
   "cell_type": "code",
   "execution_count": 42,
   "id": "7b9d4563",
   "metadata": {},
   "outputs": [
    {
     "data": {
      "text/plain": [
       "{'ndcg': 0.1107979293816422, 'recall': 0.06815840771390895}"
      ]
     },
     "execution_count": 42,
     "metadata": {},
     "output_type": "execute_result"
    }
   ],
   "source": [
    "preds = als_recommender.predict(joined, top_k=10)\n",
    "joined[\"als_recs\"] = preds\n",
    "evaluate_recommender(joined, model_preds=\"als_recs\")"
   ]
  },
  {
   "cell_type": "code",
   "execution_count": 43,
   "id": "c89323c2",
   "metadata": {},
   "outputs": [
    {
     "data": {
      "text/html": [
       "<div>\n",
       "<style scoped>\n",
       "    .dataframe tbody tr th:only-of-type {\n",
       "        vertical-align: middle;\n",
       "    }\n",
       "\n",
       "    .dataframe tbody tr th {\n",
       "        vertical-align: top;\n",
       "    }\n",
       "\n",
       "    .dataframe thead th {\n",
       "        text-align: right;\n",
       "    }\n",
       "</style>\n",
       "<table border=\"1\" class=\"dataframe\">\n",
       "  <thead>\n",
       "    <tr style=\"text-align: right;\">\n",
       "      <th></th>\n",
       "      <th>als_recs</th>\n",
       "      <th>actual_toppop</th>\n",
       "    </tr>\n",
       "  </thead>\n",
       "  <tbody>\n",
       "    <tr>\n",
       "      <th>0</th>\n",
       "      <td>[14431, 7102, 5434, 6162, 7571, 12995, 4457, 8...</td>\n",
       "      <td>[15297, 13865, 142, 9996, 8636, 6809, 7829, 75...</td>\n",
       "    </tr>\n",
       "    <tr>\n",
       "      <th>1</th>\n",
       "      <td>[14431, 4880, 4740, 4436, 12981, 12324, 14703,...</td>\n",
       "      <td>[15297, 9728, 3734, 4151, 4880, 2657, 142, 999...</td>\n",
       "    </tr>\n",
       "    <tr>\n",
       "      <th>2</th>\n",
       "      <td>[4495, 7793, 16228, 1449, 14317, 5693, 12192, ...</td>\n",
       "      <td>[10440, 15297, 9728, 3734, 4151, 4880, 2657, 1...</td>\n",
       "    </tr>\n",
       "    <tr>\n",
       "      <th>3</th>\n",
       "      <td>[14317, 6192, 16228, 11778, 13018, 4716, 16166...</td>\n",
       "      <td>[10440, 9728, 13865, 3734, 4151, 4880, 2657, 1...</td>\n",
       "    </tr>\n",
       "    <tr>\n",
       "      <th>4</th>\n",
       "      <td>[12192, 101, 2657, 9996, 4740, 14470, 10878, 3...</td>\n",
       "      <td>[10440, 15297, 9728, 13865, 3734, 4151, 4880, ...</td>\n",
       "    </tr>\n",
       "    <tr>\n",
       "      <th>...</th>\n",
       "      <td>...</td>\n",
       "      <td>...</td>\n",
       "    </tr>\n",
       "    <tr>\n",
       "      <th>49958</th>\n",
       "      <td>[1916, 12981, 14703, 4740, 3076, 9194, 12463, ...</td>\n",
       "      <td>[13865, 3734, 4151, 4880, 2657, 9996, 8636, 12...</td>\n",
       "    </tr>\n",
       "    <tr>\n",
       "      <th>49959</th>\n",
       "      <td>[12981, 7102, 4740, 14703, 5250, 14741, 10464,...</td>\n",
       "      <td>[10440, 15297, 9728, 3734, 4151, 4880, 2657, 1...</td>\n",
       "    </tr>\n",
       "    <tr>\n",
       "      <th>49960</th>\n",
       "      <td>[12192, 14317, 7793, 4457, 101, 1287, 11237, 4...</td>\n",
       "      <td>[10440, 15297, 9728, 13865, 3734, 4151, 4880, ...</td>\n",
       "    </tr>\n",
       "    <tr>\n",
       "      <th>49961</th>\n",
       "      <td>[7626, 8636, 14741, 10942, 11237, 7417, 7793, ...</td>\n",
       "      <td>[10440, 15297, 13865, 4151, 2657, 142, 9996, 8...</td>\n",
       "    </tr>\n",
       "    <tr>\n",
       "      <th>49962</th>\n",
       "      <td>[10464, 16166, 7417, 14317, 4457, 4151, 12356,...</td>\n",
       "      <td>[10440, 15297, 9728, 13865, 3734, 4151, 4880, ...</td>\n",
       "    </tr>\n",
       "  </tbody>\n",
       "</table>\n",
       "<p>49963 rows × 2 columns</p>\n",
       "</div>"
      ],
      "text/plain": [
       "                                                als_recs   \n",
       "0      [14431, 7102, 5434, 6162, 7571, 12995, 4457, 8...  \\\n",
       "1      [14431, 4880, 4740, 4436, 12981, 12324, 14703,...   \n",
       "2      [4495, 7793, 16228, 1449, 14317, 5693, 12192, ...   \n",
       "3      [14317, 6192, 16228, 11778, 13018, 4716, 16166...   \n",
       "4      [12192, 101, 2657, 9996, 4740, 14470, 10878, 3...   \n",
       "...                                                  ...   \n",
       "49958  [1916, 12981, 14703, 4740, 3076, 9194, 12463, ...   \n",
       "49959  [12981, 7102, 4740, 14703, 5250, 14741, 10464,...   \n",
       "49960  [12192, 14317, 7793, 4457, 101, 1287, 11237, 4...   \n",
       "49961  [7626, 8636, 14741, 10942, 11237, 7417, 7793, ...   \n",
       "49962  [10464, 16166, 7417, 14317, 4457, 4151, 12356,...   \n",
       "\n",
       "                                           actual_toppop  \n",
       "0      [15297, 13865, 142, 9996, 8636, 6809, 7829, 75...  \n",
       "1      [15297, 9728, 3734, 4151, 4880, 2657, 142, 999...  \n",
       "2      [10440, 15297, 9728, 3734, 4151, 4880, 2657, 1...  \n",
       "3      [10440, 9728, 13865, 3734, 4151, 4880, 2657, 1...  \n",
       "4      [10440, 15297, 9728, 13865, 3734, 4151, 4880, ...  \n",
       "...                                                  ...  \n",
       "49958  [13865, 3734, 4151, 4880, 2657, 9996, 8636, 12...  \n",
       "49959  [10440, 15297, 9728, 3734, 4151, 4880, 2657, 1...  \n",
       "49960  [10440, 15297, 9728, 13865, 3734, 4151, 4880, ...  \n",
       "49961  [10440, 15297, 13865, 4151, 2657, 142, 9996, 8...  \n",
       "49962  [10440, 15297, 9728, 13865, 3734, 4151, 4880, ...  \n",
       "\n",
       "[49963 rows x 2 columns]"
      ]
     },
     "execution_count": 43,
     "metadata": {},
     "output_type": "execute_result"
    }
   ],
   "source": [
    "joined[[\"als_recs\", \"actual_toppop\"]]"
   ]
  },
  {
   "cell_type": "code",
   "execution_count": 30,
   "id": "b2c1bee9",
   "metadata": {},
   "outputs": [
    {
     "data": {
      "text/plain": [
       "(0.0022601978679605166,\n",
       " [(6219, 0.0005368269626411277),\n",
       "  (2392, 0.0003404251870019632),\n",
       "  (3103, 0.0002134137648068045),\n",
       "  (6666, 0.00017849792950986573),\n",
       "  (2657, 0.0001410165086725532),\n",
       "  (1697, 0.00013471646656506176),\n",
       "  (2837, 0.00012452149050015308),\n",
       "  (7805, 8.825598688757474e-05),\n",
       "  (6680, 8.660177075386799e-05),\n",
       "  (901, 4.832147658440955e-05)],\n",
       " (array([[ 7.15355655,  1.24460747,  1.3121567 ,  1.32487052,  1.29690443,\n",
       "           1.44090151,  1.22688874,  1.22673556,  1.30192359,  1.23592228,\n",
       "           1.31355944,  1.15487587,  1.20749785,  1.27380712,  1.22465785,\n",
       "           1.18757503],\n",
       "         [ 8.9033699 ,  7.11936123,  0.9575699 ,  1.07008164,  1.02942984,\n",
       "           0.85294902,  0.89402622,  1.09732763,  0.94587682,  1.04081531,\n",
       "           1.07118003,  1.09301731,  1.05114254,  0.83957497,  0.9397367 ,\n",
       "           0.8787824 ],\n",
       "         [ 9.38658714,  8.45040607,  7.16166219,  0.89980396,  1.0631984 ,\n",
       "           1.58358048,  1.18702971,  0.87900899,  1.22487892,  0.96650937,\n",
       "           0.9592917 ,  0.70955974,  1.02642745,  1.31974302,  0.9641416 ,\n",
       "           1.1486902 ],\n",
       "         [ 9.4775362 ,  9.26724148,  9.20720768,  6.95691186,  0.82619913,\n",
       "           0.86105887,  0.70073934,  0.76408876,  0.80196372,  0.76679959,\n",
       "           0.84290454,  0.71587371,  0.68285733,  0.75613604,  0.77391466,\n",
       "           0.67147199],\n",
       "         [ 9.27747917,  8.94301987, 10.30176067,  9.5242691 ,  6.87328428,\n",
       "           0.95266118,  0.74667852,  0.67311405,  0.8051929 ,  0.69883896,\n",
       "           0.72130282,  0.58121319,  0.69254418,  0.82043426,  0.68234149,\n",
       "           0.7175925 ],\n",
       "         [10.30757046,  7.86580896, 14.04851532, 10.23695564, 11.68974018,\n",
       "           7.29955039,  0.95654781,  0.48990911,  1.03846446,  0.63963808,\n",
       "           0.62766751,  0.26260161,  0.65052591,  1.1999277 ,  0.69418374,\n",
       "           0.92232104],\n",
       "         [ 8.776618  ,  7.89189053, 10.96706867,  8.52522564,  9.48462677,\n",
       "          12.70722008,  6.87545313,  0.53519926,  0.64381912,  0.57887715,\n",
       "           0.58644355,  0.49301109,  0.62954349,  0.74420942,  0.62606531,\n",
       "           0.70739674],\n",
       "         [ 8.77552223,  9.33907604,  8.95560265,  8.90612984,  8.91293526,\n",
       "           8.97084236,  8.71590328,  6.78908768,  0.43778144,  0.54553005,\n",
       "           0.58422683,  0.62881891,  0.56591687,  0.40044991,  0.5076591 ,\n",
       "           0.45109046],\n",
       "         [ 9.31338406,  8.35442257, 11.38624001,  9.41838741, 10.16137505,\n",
       "          13.66036034, 10.47999859,  8.69195175,  6.78880375,  0.45538727,\n",
       "           0.44705328,  0.30330032,  0.45634369,  0.63855538,  0.45592118,\n",
       "           0.53454278],\n",
       "         [ 8.84123993,  8.94817829,  9.5401907 ,  8.95542049,  9.13875866,\n",
       "          10.19423676,  9.24515247,  8.89096737,  9.32235336,  6.71757968,\n",
       "           0.48095508,  0.48889353,  0.47537745,  0.40147475,  0.45337418,\n",
       "           0.43318584],\n",
       "         [ 9.3966217 ,  9.26098347,  9.61944866,  9.61373329,  9.48030949,\n",
       "          10.32012558,  9.46965885,  9.34735584,  9.47523594,  9.31004429,\n",
       "           6.7407822 ,  0.49950329,  0.42543759,  0.37303323,  0.46404437,\n",
       "           0.38337228],\n",
       "         [ 8.26146984,  9.21895218,  7.64364576,  8.31841373,  7.9636488 ,\n",
       "           6.80697775,  7.81284475,  8.83966541,  7.37308216,  8.42457104,\n",
       "           8.95022774,  6.78757224,  0.4438515 ,  0.15548334,  0.39560873,\n",
       "           0.30304904],\n",
       "         [ 8.63790417,  8.98632431,  9.94189548,  8.3987484 ,  9.06361198,\n",
       "          10.25817394,  9.58588314,  9.0225811 ,  9.35546494,  9.0765152 ,\n",
       "           9.18040085,  8.59615421,  6.7192329 ,  0.35000889,  0.34722771,\n",
       "           0.41075049],\n",
       "         [ 9.11225128,  7.56262732, 11.92693996,  9.03392506, 10.18323517,\n",
       "          14.83307076, 11.28701591,  8.47882557, 11.57161617,  9.28138065,\n",
       "           9.48434925,  6.90879583,  9.39724827,  6.80085813,  0.35443857,\n",
       "           0.46778582],\n",
       "         [ 8.76065922,  8.21454334,  9.41166306,  8.87970257,  8.91006565,\n",
       "          10.47661018,  9.50743771,  8.5533514 ,  9.27567196,  8.83039284,\n",
       "           9.33404446,  8.16332722,  8.71992588,  9.50834656,  6.6807429 ,\n",
       "           0.34128021],\n",
       "         [ 8.49538517,  7.73443413, 10.6263113 ,  8.21871948,  9.15308857,\n",
       "          12.27410698, 10.35846138,  8.31989193, 10.14027309,  8.90790176,\n",
       "           8.97564125,  7.54183722,  9.3002615 , 10.70728111,  9.03546524,\n",
       "           6.69597693]]),\n",
       "  False))"
      ]
     },
     "execution_count": 30,
     "metadata": {},
     "output_type": "execute_result"
    }
   ],
   "source": [
    "user_id = 0\n",
    "item_id = 42\n",
    "\n",
    "als_recommender.model.explain(user_id, als_recommender.train_ratings[user_id], item_id)"
   ]
  },
  {
   "cell_type": "code",
   "execution_count": 36,
   "id": "a71261d8",
   "metadata": {},
   "outputs": [
    {
     "data": {
      "text/plain": [
       "<AxesSubplot: >"
      ]
     },
     "execution_count": 36,
     "metadata": {},
     "output_type": "execute_result"
    },
    {
     "data": {
      "image/png": "[encoded data removed]",
      "text/plain": [
       "<Figure size 640x480 with 2 Axes>"
      ]
     },
     "metadata": {},
     "output_type": "display_data"
    }
   ],
   "source": [
    "sns.heatmap(als_recommender.model.user_factors[0].reshape(-1, 1))"
   ]
  },
  {
   "cell_type": "code",
   "execution_count": 32,
   "id": "4c50ec82",
   "metadata": {},
   "outputs": [
    {
     "data": {
      "image/png": "[encoded data removed]",
      "text/plain": [
       "<Figure size 640x480 with 2 Axes>"
      ]
     },
     "metadata": {},
     "output_type": "display_data"
    },
    {
     "data": {
      "text/plain": [
       "[(6666, 3.5840073144914887e-29),\n",
       " (6219, 3.0063600647835145e-29),\n",
       " (2657, 2.3106031659725696e-29),\n",
       " (2392, 2.2344804921793126e-29),\n",
       " (3103, 1.8564603108459472e-29),\n",
       " (1697, 1.6331303180521187e-29),\n",
       " (7805, 1.146489731266984e-29),\n",
       " (2837, 5.399334131660368e-30),\n",
       " (6680, 4.438813597900415e-30),\n",
       " (901, 2.2829725645434205e-30)]"
      ]
     },
     "execution_count": 32,
     "metadata": {},
     "output_type": "execute_result"
    }
   ],
   "source": [
    "import seaborn as sns\n",
    "\n",
    "user_id = 0\n",
    "item_id = 42\n",
    "\n",
    "sns.heatmap(als_recommender.model.explain(user_id, als_recommender.train_ratings[user_id], item_id, N=10)[2][0])\n",
    "plt.show()\n",
    "als_recommender.model.explain(user_id, als_recommender.train_ratings[user_id], item_id, N=10)[1]"
   ]
  },
  {
   "cell_type": "code",
   "execution_count": 44,
   "id": "aa04f071",
   "metadata": {},
   "outputs": [
    {
     "data": {
      "application/vnd.jupyter.widget-view+json": {
       "model_id": "e5a74bc44d7e4341af4992ada82e4bd9",
       "version_major": 2,
       "version_minor": 0
      },
      "text/plain": [
       "  0%|          | 0/7 [00:00<?, ?it/s]"
      ]
     },
     "metadata": {},
     "output_type": "display_data"
    }
   ],
   "source": [
    "bpr = BayesianPersonalizedRanking(\n",
    "    iterations=7,\n",
    "    factors=16,\n",
    "    regularization=0.001,\n",
    "    learning_rate=0.001,\n",
    ")\n",
    "bpr_recommender = ImplicitModel(bpr)\n",
    "bpr_recommender.fit(train_df)"
   ]
  },
  {
   "cell_type": "code",
   "execution_count": 45,
   "id": "0eebfc9b",
   "metadata": {},
   "outputs": [
    {
     "data": {
      "text/plain": [
       "{'ndcg': 0.23501424254068656, 'recall': 0.1642022807947956}"
      ]
     },
     "execution_count": 45,
     "metadata": {},
     "output_type": "execute_result"
    }
   ],
   "source": [
    "preds = bpr_recommender.predict(joined, top_k=10)\n",
    "joined[\"bpr_recs\"] = preds\n",
    "evaluate_recommender(joined, model_preds=\"bpr_recs\")"
   ]
  },
  {
   "cell_type": "markdown",
   "id": "14c40efe",
   "metadata": {},
   "source": [
    "### Доп. материалы\n",
    "\n",
    "Есть **Weighted Matrix Factorization** (взвешенная матричная факторизация), которая раскладывает целевую функцию на две суммы:\n",
    "\n",
    "1) сумма по всем имеющимся интеракциям\n",
    "\n",
    "2) сумма по отсутствующим интеракциям (которые мы обозначали 0)\n",
    "\n",
    "\n",
    "$$min_{P \\in R^{m\\times d}, Q \\in R^{n\\times d}} \\sum_{(i,j) \\in obs} (A_{ij} - <P_i, Q_j>)^2 + w_{0} \\cdot \\sum_{(i,j) \\notin obs} (<P_{i}, Q_{j}>)^2$$\n",
    "\n",
    "Здесь $w_{0}$ — гиперпараметр, который взвешивает две компонентны, чтобы одна не преобладала над другой. Настройка этого гиперпараметра очень важна.\n",
    "\n",
    "На практике, вам также необходимо взвешивать наблюдаемые пары. Например, частые элементы (очень популярные видео на YouTube) или слишком активные пользователи могут доминировать в целевой функции. Вы можете скорректировать этот эффект, взвесив обучающие примеры, чтобы учесть их частоту в датасете. Можно заменить целевую функцию на:\n",
    "\n",
    "$$min_{P \\in R^{m\\times d}, Q \\in R^{n\\times d}} \\sum_{(i,j) \\in obs} w_{i,j} \\cdot (A_{ij} - <P_i, Q_j>)^2 + w_{0} \\cdot \\sum_{(i,j) \\notin obs} (<P_{i}, Q_{j}>)^2$$\n",
    "\n",
    "\n",
    "**Минимизация целевой функции**:\n",
    "\n",
    "* SGD (stochastic gradient descent) - общеизвестный и используемый везде метод, оптимизация происходит по наблюдениям из обучающей выборки. \n",
    "* MCMC (Markov chain Monte Carlo) - сэмплирование параметров из апостериорного распределения. \n",
    "* Weighted Alternating Least Squares (WALS) - специализированный лос под обозначенную выше целевую функцию, с попеременной оптимизацией по каждому параметру при фиксированных значениях остальных параметров. \n",
    "\n",
    "Лосс квадратичный для обеих матриц $P$ и $Q$.  \n",
    "WALS случайным образом инициализирует эмбеддинги и потом последовательно обновляет веса то одной, то второй матрицы:\n",
    "\n",
    "1) Фиксируем $P$, делаем итерацию оптимизации для решения $Q$. \n",
    "\n",
    "2) Фиксируем $Q$, делаем итерацию оптимизации для решения $P$. \n",
    "\n",
    "Каждый этап может быть решен в явном виде (через решение линейной системы). Этот метод гарантированно сходится, потому что каждый шаг гарантированно уменьшает потери.\n",
    "\n",
    "\n",
    "\n",
    "| Метод оптимизации  | Достоинства  |  Недостатки | \n",
    "|---|---|---|\n",
    "|  SGD |  Гибкий в использовании, можно брать другие лоссы | Медленнее, небыстро сходится  |  \n",
    "|  |  Можно распараллелить вычисления | Сложнее работать с отрицательными примерами, нужен negative sampling  |  \n",
    "|  WALS |  Быстрее сходится, чем SGD | Применим только к квадратичным лоссам  | \n",
    "|  |  Легче обрабатывать отсутсвующие интеракции |  |\n",
    "|   |  Можно распараллелить вычисления|  | \n",
    "\n",
    "\n",
    "\n",
    "## SVD \n",
    "\n",
    "<img src='https://www.dataminingapps.com/wp-content/uploads/2020/02/svd2.png'>\n",
    "\n",
    "SVD, помимо скалярного произведения, включает еще смещения по пользователю $b_u$ и объекту $b_i$. Предполагается, что смещения пользователей отражают тенденцию некоторых пользователей оценивать товары выше (или ниже) среднего. То же самое касается товаров: некоторые товары обычно оцениваются выше, чем некоторые другие. Модель SVD тогда выглядит следующим образом:\n",
    "\n",
    "$$\\hat r_{u,i} = \\mu + b_u + b_i + q_{i}^{T}p_{u},$$\n",
    "\n",
    "где $\\mu$ - глобальное среднее по всем оценкам в данных. Тогда задача оптимизации сводится к:\n",
    "\n",
    "$$ \\sum(r_{u,i} - \\hat r_{u,i}) ^ 2 +     \\lambda(b_i^2 + b_u^2 + ||q_i||^2 + ||p_u||^2),$$\n",
    "\n",
    "где $\\lambda$ - параметр регуляризации.\n",
    "\n",
    "Оптимизация через стохастический градиентный спуск:\n",
    "\n",
    "$$b_u \\leftarrow b_u + \\gamma (e_{ui} - \\lambda b_u)$$\n",
    "$$b_i \\leftarrow b_i + \\gamma (e_{ui} - \\lambda b_i)$$  \n",
    "$$p_u \\leftarrow p_u + \\gamma (e_{ui} \\cdot q_i - \\lambda p_u)$$\n",
    "$$q_i \\leftarrow q_i + \\gamma (e_{ui} \\cdot p_u - \\lambda q_i),$$\n",
    "\n",
    "где $\\gamma$ - это learning rate, <br>\n",
    "$e_{ui} =  r_{ui} - \\hat r_{u,i} = r_{u,i} - (\\mu + b_u + b_i + q_{i}^{T}p_{u})$ ошибка алгоритма на паре $(u, i)$."
   ]
  },
  {
   "cell_type": "markdown",
   "id": "95072e1b",
   "metadata": {},
   "source": [
    "### Hierarchical Alternating Least Squares\n",
    "\n",
    "Подход ALS требует вычислений обратных матриц, что накладывает сильные ограничения на размерность скрытых переменных. Альтернативой ALS является подход HALS (Hierarchical Alternating Least Squares), в котором на каждой итерации мы решаем оптимизационную задачу относительно только одной строчки матрицы $P$ или $Q$. Выведем аналитические формулы для $k$-ой строчки матрицы $P$.\n",
    "\n",
    "$$\\frac{\\partial}{\\partial P_{ku}} \\bigg[ \\sum_{u',i} (r_{u'i} - \\langle p_{u'}, q_i \\rangle)^2 \\bigg] = \\sum_{i} 2(r_{ui} - \\langle p_u, q_i \\rangle)Q_{ki} = 0$$\n",
    "\n",
    "$$\\sum_{i} (r_{ui} - \\sum_{s\\neq k} P_{su} Q_{si} )Q_{ki} - P_{ku}\\sum_i Q_{ki}^2 = 0$$\n",
    "\n",
    "$$P_{ku} = \\frac{\\sum_{i} (r_{ui} - \\sum_{s\\neq k} P_{su} Q_{si} )Q_{ki}}{\\sum_i Q_{ki}^2}$$\n",
    "\n",
    "### Neural Collaborative Filtering\n",
    "\n",
    "<img src='https://images.deepai.org/converted-papers/2004.12212/images/NCF.png' width=500>\n",
    "\n",
    "Нелинейным обобщением матричных разложений является коллаборативная фильтрация с помощью нейронных сетей. Сопоставим каждому пользователю $u$ one-hot encode вектор $\\alpha_u$, у которого на $u$-ом месте стоит $1$, а остальные координаты заполнены нулями, аналогично определим вектор $\\beta_i$ для товара $i$. В качестве алгоритма классификации (или регрессии, в зависимости от задачи) будем использовать нейросеть, у которой два полносвязных слоя на входе: один соответствует пользователям и принимает на вход вектор $\\alpha_u$, а второй соответствует товарам и принимает на вход вектор $\\beta_i$. После входных полносвязных слоев соответствующие представления необходимо сконкатенировать и передать в следующие полносвязные слои. На выходе нейронной сети мы получаем предсказание $\\widehat{r}_{ui}$ (на рисунке обозначено как $\\widehat{y}_{ui}$), которое сравниваем с истинным ответом для заданной пары $r_{ui}$ (на рисунке обозначен как $y_{ui}$).\n",
    "\n",
    "Несмотря на свою простоту модель обладает рядом важных достоинств:\n",
    "\n",
    "* мы можем легко обобщить модель на случай, когда у нас есть признаки пользователей или товаров, добавив эти признаки к векторам $\\alpha_u$ и $\\beta_i$ соответственно (также заметим, что добавление признаков в модель позволяет частично решить проблему холодного старта);\n",
    "* в зависимости от размеров выборки и природы данных мы можем адаптировать архитектуру под свои нужды, например, если у нас есть картинки в качестве признаков товаров, мы можем добавить сверточные слои в нашу нейронную сеть и обучать всю модель end-to-end.\n",
    "\n",
    "В этой модели мы по-прежнему можем получить латентные представления пользователей и товаров. На самом деле, латентными представлениями будут столбцы матрицы весов в первых полносвязных слоях (в предположении, что мы умножаем матрицу весов на вектор признаков справа).\n"
   ]
  },
  {
   "cell_type": "code",
   "execution_count": 47,
   "id": "00ca7e87",
   "metadata": {},
   "outputs": [],
   "source": [
    "import torch\n",
    "import torch.nn as nn"
   ]
  },
  {
   "cell_type": "code",
   "execution_count": 115,
   "id": "ee35b8c9",
   "metadata": {},
   "outputs": [],
   "source": [
    "class NCF(torch.nn.Module):\n",
    "    def __init__(self, n_users, m_items, n_factors, hidden_dim) -> None:\n",
    "        super().__init__()\n",
    "        self.n_users = n_users\n",
    "        self.m_items = m_items\n",
    "        self.n_factors = n_factors\n",
    "        self.hidden_dim = hidden_dim\n",
    "\n",
    "        self.user_embeddings = nn.Embedding(n_users, embedding_dim=n_factors)\n",
    "        self.item_embeddings = nn.Embedding(m_items, embedding_dim=n_factors)\n",
    "        self.sigmoid = nn.Sigmoid()\n",
    "\n",
    "        # dot() -> model\n",
    "        self.model = nn.Sequential(\n",
    "            nn.Linear(2 * n_factors, hidden_dim),\n",
    "            nn.ReLU(),\n",
    "            # nn.Dropout()\n",
    "            nn.Linear(hidden_dim, hidden_dim),\n",
    "            nn.ReLU(),\n",
    "            # nn.Dropout()\n",
    "            nn.Linear(hidden_dim, 1),\n",
    "        )\n",
    "\n",
    "    def forward(self, item, user):\n",
    "        user_embed = self.user_embeddings(user)\n",
    "        item_embed = self.item_embeddings(item)\n",
    "        concatenated = torch.cat([user_embed, item_embed], dim=-1)\n",
    "        prediction = self.model(concatenated)\n",
    "        prediction = self.sigmoid(prediction)\n",
    "        return prediction"
   ]
  },
  {
   "cell_type": "code",
   "execution_count": 73,
   "id": "ddbf3047",
   "metadata": {},
   "outputs": [],
   "source": [
    "user_encoder = LabelEncoder().fit(train_df[\"user_id\"])\n",
    "item_encoder = LabelEncoder().fit(train_df[\"item_id\"])"
   ]
  },
  {
   "cell_type": "code",
   "execution_count": 116,
   "id": "142943f4",
   "metadata": {},
   "outputs": [
    {
     "data": {
      "text/plain": [
       "NCF(\n",
       "  (user_embeddings): Embedding(50000, 16)\n",
       "  (item_embeddings): Embedding(10586, 16)\n",
       "  (sigmoid): Sigmoid()\n",
       "  (model): Sequential(\n",
       "    (0): Linear(in_features=32, out_features=64, bias=True)\n",
       "    (1): ReLU()\n",
       "    (2): Linear(in_features=64, out_features=64, bias=True)\n",
       "    (3): ReLU()\n",
       "    (4): Linear(in_features=64, out_features=1, bias=True)\n",
       "  )\n",
       ")"
      ]
     },
     "execution_count": 116,
     "metadata": {},
     "output_type": "execute_result"
    }
   ],
   "source": [
    "ncf_model = NCF(n_users=len(user_encoder.classes_), m_items=len(item_encoder.classes_), n_factors=16, hidden_dim=64)\n",
    "ncf_model"
   ]
  },
  {
   "cell_type": "code",
   "execution_count": 77,
   "id": "a2f8514c",
   "metadata": {},
   "outputs": [],
   "source": [
    "train_encoded_users = torch.Tensor(user_encoder.transform(train_df[\"user_id\"].values)).long()\n",
    "train_encoded_items = torch.Tensor(item_encoder.transform(train_df[\"item_id\"].values)).long()"
   ]
  },
  {
   "cell_type": "code",
   "execution_count": 92,
   "id": "63271b20",
   "metadata": {},
   "outputs": [],
   "source": [
    "def transform(x):\n",
    "    encoded = item_encoder.transform(x)\n",
    "    return encoded.tolist()"
   ]
  },
  {
   "cell_type": "code",
   "execution_count": 93,
   "id": "776bd547",
   "metadata": {},
   "outputs": [
    {
     "data": {
      "text/html": [
       "<div>\n",
       "<style scoped>\n",
       "    .dataframe tbody tr th:only-of-type {\n",
       "        vertical-align: middle;\n",
       "    }\n",
       "\n",
       "    .dataframe tbody tr th {\n",
       "        vertical-align: top;\n",
       "    }\n",
       "\n",
       "    .dataframe thead th {\n",
       "        text-align: right;\n",
       "    }\n",
       "</style>\n",
       "<table border=\"1\" class=\"dataframe\">\n",
       "  <thead>\n",
       "    <tr style=\"text-align: right;\">\n",
       "      <th></th>\n",
       "      <th>item_id</th>\n",
       "    </tr>\n",
       "    <tr>\n",
       "      <th>user_id</th>\n",
       "      <th></th>\n",
       "    </tr>\n",
       "  </thead>\n",
       "  <tbody>\n",
       "    <tr>\n",
       "      <th>3</th>\n",
       "      <td>[7805, 6219, 10512, 10084, 6666, 2228, 2657, 9...</td>\n",
       "    </tr>\n",
       "    <tr>\n",
       "      <th>21</th>\n",
       "      <td>[7847, 6939, 676, 10258, 5279, 2782, 4842, 831...</td>\n",
       "    </tr>\n",
       "    <tr>\n",
       "      <th>47</th>\n",
       "      <td>[4725, 8559, 8112, 8226, 8297, 8882]</td>\n",
       "    </tr>\n",
       "    <tr>\n",
       "      <th>120</th>\n",
       "      <td>[9822, 4352, 643]</td>\n",
       "    </tr>\n",
       "    <tr>\n",
       "      <th>136</th>\n",
       "      <td>[2435, 1735]</td>\n",
       "    </tr>\n",
       "    <tr>\n",
       "      <th>...</th>\n",
       "      <td>...</td>\n",
       "    </tr>\n",
       "    <tr>\n",
       "      <th>1097434</th>\n",
       "      <td>[9822, 726, 745, 4535, 4780, 324, 10538, 1195,...</td>\n",
       "    </tr>\n",
       "    <tr>\n",
       "      <th>1097459</th>\n",
       "      <td>[3939, 8098, 3499, 3954, 2430, 9874, 2588, 888...</td>\n",
       "    </tr>\n",
       "    <tr>\n",
       "      <th>1097463</th>\n",
       "      <td>[6396, 3630]</td>\n",
       "    </tr>\n",
       "    <tr>\n",
       "      <th>1097513</th>\n",
       "      <td>[4718, 5334, 9195, 227, 6360, 7093, 1159, 5006...</td>\n",
       "    </tr>\n",
       "    <tr>\n",
       "      <th>1097515</th>\n",
       "      <td>[1697]</td>\n",
       "    </tr>\n",
       "  </tbody>\n",
       "</table>\n",
       "<p>50000 rows × 1 columns</p>\n",
       "</div>"
      ],
      "text/plain": [
       "                                                   item_id\n",
       "user_id                                                   \n",
       "3        [7805, 6219, 10512, 10084, 6666, 2228, 2657, 9...\n",
       "21       [7847, 6939, 676, 10258, 5279, 2782, 4842, 831...\n",
       "47                    [4725, 8559, 8112, 8226, 8297, 8882]\n",
       "120                                      [9822, 4352, 643]\n",
       "136                                           [2435, 1735]\n",
       "...                                                    ...\n",
       "1097434  [9822, 726, 745, 4535, 4780, 324, 10538, 1195,...\n",
       "1097459  [3939, 8098, 3499, 3954, 2430, 9874, 2588, 888...\n",
       "1097463                                       [6396, 3630]\n",
       "1097513  [4718, 5334, 9195, 227, 6360, 7093, 1159, 5006...\n",
       "1097515                                             [1697]\n",
       "\n",
       "[50000 rows x 1 columns]"
      ]
     },
     "execution_count": 93,
     "metadata": {},
     "output_type": "execute_result"
    }
   ],
   "source": [
    "user_interactions = train_df.groupby([\"user_id\"]).agg({\"item_id\": transform})\n",
    "user_interactions"
   ]
  },
  {
   "cell_type": "markdown",
   "id": "bb247cf8",
   "metadata": {},
   "source": [
    "## Achtung!!!\n",
    "### Не пишите такой код в обычной жизни, он слишком неоптимальный (но зато понятный, что и нужно для обучения)\n",
    "В своем коде, пожалуйста, используете `torch.Dataset` и `torch.Dataloader`"
   ]
  },
  {
   "cell_type": "code",
   "execution_count": 119,
   "id": "71c2bcc9",
   "metadata": {},
   "outputs": [],
   "source": [
    "optimizer = torch.optim.SGD(ncf_model.parameters(), lr=1e-4)\n",
    "loss = nn.BCELoss()\n",
    "\n",
    "all_items = set(list(range(ncf_model.m_items)))\n",
    "\n",
    "for user, item in zip(train_encoded_users, train_encoded_items):\n",
    "    optimizer.zero_grad()\n",
    "    # сэмплируем негативы для пользователя из айтемов, с которыми он не взаимодействовал\n",
    "    seen_items = set(user_interactions.loc[user_encoder.inverse_transform([user.item()])])\n",
    "    unseen_items = list(all_items - seen_items)\n",
    "    neg_item = torch.Tensor([np.random.choice(unseen_items, size=1)]).long()[0][0]\n",
    "\n",
    "    # считаем скор позитивного взаимодействия\n",
    "    pos_prediction = ncf_model(item, user)\n",
    "    # считаем скор негативного взаимодействия\n",
    "    neg_prediction = ncf_model(neg_item, user)\n",
    "\n",
    "    # лосс для каждого из типов взаимодействий\n",
    "    cur_loss = loss(pos_prediction, torch.Tensor([1]).float())\n",
    "    cur_loss += loss(neg_prediction, torch.Tensor([0]).float())\n",
    "\n",
    "    cur_loss.backward()\n",
    "    optimizer.step()"
   ]
  },
  {
   "cell_type": "code",
   "execution_count": null,
   "id": "52712f97",
   "metadata": {},
   "outputs": [],
   "source": []
  }
 ],
 "metadata": {
  "kernelspec": {
   "display_name": "Python 3 (ipykernel)",
   "language": "python",
   "name": "python3"
  },
  "language_info": {
   "codemirror_mode": {
    "name": "ipython",
    "version": 3
   },
   "file_extension": ".py",
   "mimetype": "text/x-python",
   "name": "python",
   "nbconvert_exporter": "python",
   "pygments_lexer": "ipython3",
   "version": "3.10.12"
  }
 },
 "nbformat": 4,
 "nbformat_minor": 5
}

{
 "cells": [
  {
   "cell_type": "markdown",
   "id": "5121b629",
   "metadata": {},
   "source": [
    "# <center> Автоэнкодеры (AE) и Вариационные автоэнкодеры (VAE) в RecSys </center> "
   ]
  },
  {
   "cell_type": "code",
   "execution_count": null,
   "id": "481dc822",
   "metadata": {
    "scrolled": true
   },
   "outputs": [],
   "source": [
    "import warnings\n",
    "warnings.filterwarnings('ignore')\n",
    "\n",
    "import bottleneck as bn\n",
    "import matplotlib.pyplot as plt\n",
    "%matplotlib inline\n",
    "import numpy as np\n",
    "import os\n",
    "import random\n",
    "import pandas as pd\n",
    "import seaborn as sn\n",
    "import shutil\n",
    "import sys\n",
    "import tensorflow.compat.v1 as tf\n",
    "import torch\n",
    "tf.disable_v2_behavior()\n",
    "sn.set()\n",
    "\n",
    "from scipy import sparse"
   ]
  },
  {
   "cell_type": "markdown",
   "id": "45fc74fa",
   "metadata": {},
   "source": [
    "Отступление в виде статьи, которое даст обоснование, почему мы будем рассматривать именно Mult-VAE и Mult-DAE для RecSys из большого множества методов. \n",
    "\n",
    "**Ferrari Dacrema, M., Cremonesi, P. and Jannach, D., 2019, September. Are we really making much progress? A worrying analysis of recent neural recommendation approaches. In Proceedings of the 13th ACM conference on recommender systems (pp. 101-109).**\n",
    "\n",
    "Статья: https://arxiv.org/pdf/1907.06902.pdf \n",
    "\n",
    "Код: https://github.com/MaurizioFD/RecSys2019_DeepLearning_Evaluation?utm_source=catalyzex.com \n"
   ]
  },
  {
   "cell_type": "markdown",
   "id": "90e07ea6",
   "metadata": {},
   "source": [
    "\n",
    "Check-list:\n",
    "<br>\n",
    "<br>\n",
    "<div>\n",
    "  <input type=\"checkbox\" name=\"uchk\" checked>\n",
    "  <label for=\"uchk\">Доступность source code для модели и экспериментов</label> <br>\n",
    "  <input type=\"checkbox\" name=\"uchk\" checked>\n",
    "  <label for=\"uchk\">Использование открытых датасетов </label> <br>\n",
    "  <input type=\"checkbox\" name=\"uchk\" checked>\n",
    "  <label for=\"uchk\">Наличие перебора гиперпараметров новой предлагаемой модели</label> <br>\n",
    "  <input type=\"checkbox\" name=\"uchk\" checked>\n",
    "  <label for=\"uchk\">Наличие перебора гиперпараметров выбранных бейзлайнов</label> <br>\n",
    "  <input type=\"checkbox\" name=\"uchk\" checked>\n",
    "  <label for=\"uchk\">Наличие простых бейзлайнов</label> <br>\n",
    "  <input type=\"checkbox\" name=\"uchk\" checked>\n",
    "  <label for=\"uchk\">Желательно наличие бейзлайнов из разных семейств алгоритмов</label> <br>\n",
    "  <input type=\"checkbox\" name=\"uchk\" checked>\n",
    "  <label for=\"uchk\">Отсутствие обоснования новизны как гарантии SOTA</label> <br>\n",
    "  <input type=\"checkbox\" name=\"uchk\" checked>\n",
    "  <label for=\"uchk\">Описание неудачных экспериментов (проблема выжившего) </label> <br>\n",
    "  <input type=\"checkbox\" name=\"uchk\" checked>\n",
    "  <label for=\"uchk\">Использование схожего/одинакового препроцессинга с бейзлайнами и/или подробное описание</label> <br>\n",
    "  <input type=\"checkbox\" name=\"uchk\" checked>\n",
    "  <label for=\"uchk\">Использование схожего/одинакового evaluation с бейзлайнами и/или подробное описание</label> <br>\n",
    "  <input type=\"checkbox\" name=\"uchk\" checked>\n",
    "  <label for=\"uchk\">Использование одинаковых метрик качества и списка k с теми, что в бейзлайнах</label> <br>\n",
    "</div>"
   ]
  },
  {
   "cell_type": "markdown",
   "id": "8ce965c4",
   "metadata": {},
   "source": [
    "Что можно еще добавить? \n",
    "\n",
    "В частности, не забыть фиксировать сиды для воспроизводимости результатов. Например, так:"
   ]
  },
  {
   "cell_type": "code",
   "execution_count": 2,
   "id": "a37eea38",
   "metadata": {},
   "outputs": [],
   "source": [
    "def seed_everything(seed=42):\n",
    "    random.seed(seed)\n",
    "    os.environ['PYTHONHASHSEED'] = str(seed)\n",
    "    np.random.seed(seed)\n",
    "    torch.manual_seed(seed)\n",
    "    torch.cuda.manual_seed(seed)\n",
    "    torch.backends.cudnn.deterministic = True\n",
    "    \n",
    "seed_everything()"
   ]
  },
  {
   "cell_type": "markdown",
   "id": "5195196c",
   "metadata": {},
   "source": [
    "Mult-VAE - оказалась чуть ли не единственной моделью, которая смогла подтвердить свои результаты при воспроизведении и не проиграть простым бейзлайнам. \n",
    "\n",
    "Давайте вспомним, что такое автоэнкодеры, и обсудим, почему они применимы и эффективны в RecSys?"
   ]
  },
  {
   "cell_type": "markdown",
   "id": "1396424e",
   "metadata": {},
   "source": [
    "**Autoencoders (AE)**"
   ]
  },
  {
   "cell_type": "markdown",
   "id": "b35d3cfe",
   "metadata": {},
   "source": [
    "- В чем основная идея подхода? А для RecSys?\n",
    "- Какую функцию потерь минимизируем? Что такое ELBO? \n",
    "\n",
    "<img src='./images/AE.png' width=520>"
   ]
  },
  {
   "cell_type": "markdown",
   "id": "ae76f42e",
   "metadata": {},
   "source": [
    "**Variational Autoencoder (VAE)**\n",
    "\n",
    "- В Чем принципиальное отличие от AE?\n",
    "- Что такое ELBO? \n",
    "\n",
    "<img src='./images/VAE.png' width=500>\n",
    "<img src=https://developer-blogs.nvidia.com/wp-content/uploads/2021/02/Jupyter_Pt2__Figure1.png width=600>\n",
    "\n",
    "\\+ волшебная формулка $z = \\mu + \\sigma \\cdot \\epsilon$, где $\\sigma^2 =(\\sigma^2_1, \\sigma^2_2)$, и $\\epsilon \\sim N (0, 1)$.\n",
    "\n",
    "- Чем полезна предпосылка о стандартном нормальном распределении?\n",
    "<img src='./images/2d.png' width=400>\n",
    "<img src='./images/bell.png' width=400>\n",
    "\n",
    "Трюк с репараметризацией:\n",
    "\n",
    "<img src=https://habrastorage.org/r/w1560/web/a4e/ec5/3a3/a4eec53a3cf24b289e494e4f03f71a39.png width=600>"
   ]
  },
  {
   "cell_type": "markdown",
   "id": "30e121c0",
   "metadata": {},
   "source": [
    "**Достоинства VAE:**\n",
    "\n",
    "+ Одновременно тренируем способность нейросети реконструировать исходные данные и генерировать новые из аппроксимированного распределения. \n",
    "+ Из стандартного нормального распределения проще сэмплировать, чем у обычного автоэнкодера. \n",
    "\n",
    "Есть ли у VAE склонность к переобучению?"
   ]
  },
  {
   "cell_type": "markdown",
   "id": "83ec0b7d",
   "metadata": {},
   "source": [
    "\\+ есть еще **Denoising Autoencoder (DAE)**\n",
    "\n",
    "<img src='./images/compare.png' width=600> "
   ]
  },
  {
   "cell_type": "markdown",
   "id": "3c28a1d9",
   "metadata": {},
   "source": [
    "Теперь к RecSys адаптациям и особенностям.\n",
    "\n",
    "**Mult-VAE** - обобщение вариационного автоэнкодера для коллаборативной фильтрации. \n",
    "\n",
    "**Liang, D., Krishnan, R.G., Hoffman, M.D. and Jebara, T., 2018, April. Variational autoencoders for collaborative filtering. In Proceedings of the 2018 world wide web conference (pp. 689-698).**\n",
    "\n",
    "Статья: https://arxiv.org/pdf/1802.05814.pdf \n",
    "\n",
    "Формализация из статьи:"
   ]
  },
  {
   "cell_type": "markdown",
   "id": "87422293",
   "metadata": {},
   "source": [
    "\n",
    "\n",
    "$u \\in \\{1,\\dots,U\\}$ - пользователи, \n",
    "\n",
    "$i \\in \\{1,\\dots,I\\}$ - объекты (айтемы),\n",
    "\n",
    "$\\mathbf{X} \\in \\mathbb{N}^{U\\times I}$ - матрица интеракций из кликов в бинарном виде. \n",
    "\n",
    "$$\\mathbf{x}_u =[X_{u1},\\dots,X_{uI}]^\\top \\in \\mathbb{N}^I$$ - вектор по айтемам с числом кликов пользователя по каждому из них. \n",
    "\n",
    "Функция потерь для Mult-VAE для каждого пользователя $u$:\n",
    "\n",
    "$$\\mathcal{L}_u(\\theta, \\phi) = \\mathbb{E}_{q_\\phi(z_u | x_u)}[\\log p_\\theta(x_u | z_u)] - \\beta \\cdot KL(q_\\phi(z_u | x_u) \\| p(z_u))$$\n",
    "\n",
    "где $q_\\phi$ - аппроксимирующее вариационное распределение (inference модель), $\\beta$ - доп. параметр имитации отжига. \n",
    "\n",
    "Целевая функция для всего датасета - усреднение по пользователям. "
   ]
  },
  {
   "cell_type": "markdown",
   "id": "8defabca",
   "metadata": {},
   "source": [
    "\n",
    "Генеративный процесс: Для каждого пользователя $u$, модель сэмплирует $K$-размерный латентный вектор  $\\mathbf{z}_u$ из стандартного нормального распределения. Вектор $\\mathbf{z}_u$ преобразуется нелинейной функцией $f_\\theta (\\cdot) \\in \\mathbb{R}^I$, чтобы получить вероятностное распределение по всем $I$ айтемам $\\pi (\\mathbf{z}_u)$ на основе имевшегося $\\mathbf{x}_u$.\n",
    "$$\n",
    "\\mathbf{z}_u \\sim \\mathcal{N}(0, \\mathbf{I}_K),  \\pi(\\mathbf{z}_u) \\propto \\exp\\{f_\\theta (\\mathbf{z}_u\\},\\\\\n",
    "\\mathbf{x}_u \\sim \\mathrm{Mult}(N_u, \\pi(\\mathbf{z}_u))\n",
    "$$\n",
    "\n",
    "Целевая функция для Multi-DAE для каждого пользователя $u$:\n",
    "$$\n",
    "\\mathcal{L}_u(\\theta, \\phi) = \\log p_\\theta(\\mathbf{x}_u | g_\\phi(\\mathbf{x}_u))\n",
    "$$\n",
    "где $g_\\phi(\\cdot)$ - нелинейная \"encoder\" функция."
   ]
  },
  {
   "cell_type": "markdown",
   "id": "dae4bb17",
   "metadata": {},
   "source": [
    "\n",
    "Возьмем любимый датасет Movielens-20M. "
   ]
  },
  {
   "cell_type": "code",
   "execution_count": 3,
   "id": "9a483fce",
   "metadata": {},
   "outputs": [],
   "source": [
    "DATA_DIR = '.'\n",
    "raw_data = pd.read_csv(os.path.join(DATA_DIR, 'ratings.csv'), header=0)"
   ]
  },
  {
   "cell_type": "markdown",
   "id": "5c9105b1",
   "metadata": {},
   "source": [
    "В статье делалаи следующий препроцессинг:\n",
    "- Модель авторов обучается на бинарных данных, поэтому нужно задать порог для оценок, выше которого считаем за 1.\n",
    "- Разбить пользователей на training/validation/test. Обучаться будем на полной истории кликов пользователей из train, а предсказываться на новых пользователях, что часто приближено к реальным условиям индустриальных датасетов, хотя тоже есть свои ремарки. \n",
    "- Среди отложенных пользователей, 80% кликов оставить на train и 20% - на подсчет метрик качества. "
   ]
  },
  {
   "cell_type": "code",
   "execution_count": 4,
   "id": "3ca035a5",
   "metadata": {},
   "outputs": [
    {
     "data": {
      "text/html": [
       "<div>\n",
       "<style scoped>\n",
       "    .dataframe tbody tr th:only-of-type {\n",
       "        vertical-align: middle;\n",
       "    }\n",
       "\n",
       "    .dataframe tbody tr th {\n",
       "        vertical-align: top;\n",
       "    }\n",
       "\n",
       "    .dataframe thead th {\n",
       "        text-align: right;\n",
       "    }\n",
       "</style>\n",
       "<table border=\"1\" class=\"dataframe\">\n",
       "  <thead>\n",
       "    <tr style=\"text-align: right;\">\n",
       "      <th></th>\n",
       "      <th>userId</th>\n",
       "      <th>movieId</th>\n",
       "      <th>rating</th>\n",
       "      <th>timestamp</th>\n",
       "    </tr>\n",
       "  </thead>\n",
       "  <tbody>\n",
       "    <tr>\n",
       "      <th>0</th>\n",
       "      <td>1</td>\n",
       "      <td>1193</td>\n",
       "      <td>5</td>\n",
       "      <td>978300760</td>\n",
       "    </tr>\n",
       "    <tr>\n",
       "      <th>3</th>\n",
       "      <td>1</td>\n",
       "      <td>3408</td>\n",
       "      <td>4</td>\n",
       "      <td>978300275</td>\n",
       "    </tr>\n",
       "    <tr>\n",
       "      <th>4</th>\n",
       "      <td>1</td>\n",
       "      <td>2355</td>\n",
       "      <td>5</td>\n",
       "      <td>978824291</td>\n",
       "    </tr>\n",
       "    <tr>\n",
       "      <th>6</th>\n",
       "      <td>1</td>\n",
       "      <td>1287</td>\n",
       "      <td>5</td>\n",
       "      <td>978302039</td>\n",
       "    </tr>\n",
       "    <tr>\n",
       "      <th>7</th>\n",
       "      <td>1</td>\n",
       "      <td>2804</td>\n",
       "      <td>5</td>\n",
       "      <td>978300719</td>\n",
       "    </tr>\n",
       "  </tbody>\n",
       "</table>\n",
       "</div>"
      ],
      "text/plain": [
       "   userId  movieId  rating  timestamp\n",
       "0       1     1193       5  978300760\n",
       "3       1     3408       4  978300275\n",
       "4       1     2355       5  978824291\n",
       "6       1     1287       5  978302039\n",
       "7       1     2804       5  978300719"
      ]
     },
     "execution_count": 4,
     "metadata": {},
     "output_type": "execute_result"
    }
   ],
   "source": [
    "raw_data = raw_data[raw_data['rating'] > 3.5]\n",
    "raw_data.head()"
   ]
  },
  {
   "cell_type": "code",
   "execution_count": 5,
   "id": "1d105c59",
   "metadata": {},
   "outputs": [],
   "source": [
    "def get_count(tp, id):\n",
    "    playcount_groupbyid = tp[[id]].groupby(id, as_index=False)\n",
    "    count = playcount_groupbyid.size()\n",
    "    return count"
   ]
  },
  {
   "cell_type": "code",
   "execution_count": 6,
   "id": "fc2b3416",
   "metadata": {},
   "outputs": [],
   "source": [
    "def filter_triplets(tp, min_uc=0, min_sc=0): \n",
    "    if min_sc > 0:\n",
    "        itemcount = get_count(tp, 'movieId')\n",
    "        tp = tp[tp['movieId'].isin(itemcount.index[itemcount >= min_sc])]\n",
    "    \n",
    "    if min_uc > 0:\n",
    "        usercount = get_count(tp, 'userId')\n",
    "        tp = tp[tp['userId'].isin(usercount.index[usercount >= min_uc])]\n",
    "    \n",
    "    usercount, itemcount = get_count(tp, 'userId'), get_count(tp, 'movieId') \n",
    "    return tp, usercount, itemcount"
   ]
  },
  {
   "cell_type": "code",
   "execution_count": 7,
   "id": "951019fb",
   "metadata": {},
   "outputs": [],
   "source": [
    "raw_data, user_activity, item_popularity = filter_triplets(raw_data)"
   ]
  },
  {
   "cell_type": "markdown",
   "id": "07f60a74",
   "metadata": {},
   "source": [
    "Мы запустим без фильтров, но попробуйте с ними, чтобы понять, повлияет ли это на качество в лучшую сторону."
   ]
  },
  {
   "cell_type": "code",
   "execution_count": 8,
   "id": "b27398a3",
   "metadata": {},
   "outputs": [
    {
     "name": "stdout",
     "output_type": "stream",
     "text": [
      "В датасете 575281 интеракций от 6038 пользователей и всего по 3533 фильмов (sparsity: 2.697%)\n"
     ]
    }
   ],
   "source": [
    "sparsity = raw_data.shape[0] / (user_activity.shape[0] * item_popularity.shape[0])\n",
    "\n",
    "print(\"В датасете %d интеракций от %d пользователей и всего по %d фильмов (sparsity: %.3f%%)\" % \n",
    "      (raw_data.shape[0], user_activity.shape[0], item_popularity.shape[0], sparsity * 100))"
   ]
  },
  {
   "cell_type": "markdown",
   "id": "3d9adb3b",
   "metadata": {},
   "source": [
    "Сделаем train/test/val сплит"
   ]
  },
  {
   "cell_type": "code",
   "execution_count": 9,
   "id": "e6f0d18a",
   "metadata": {},
   "outputs": [],
   "source": [
    "unique_uid = user_activity.index\n",
    "\n",
    "np.random.seed(42)\n",
    "idx_perm = np.random.permutation(unique_uid.size)\n",
    "unique_uid = unique_uid[idx_perm]\n",
    "n_users = unique_uid.size\n",
    "n_heldout_users = 500\n",
    "\n",
    "tr_users = unique_uid[:(n_users - n_heldout_users * 2)]\n",
    "vd_users = unique_uid[(n_users - n_heldout_users * 2): (n_users - n_heldout_users)]\n",
    "te_users = unique_uid[(n_users - n_heldout_users):]\n",
    "\n",
    "train_plays = raw_data.loc[raw_data['userId'].isin(tr_users)]\n",
    "unique_sid = pd.unique(train_plays['movieId'])"
   ]
  },
  {
   "cell_type": "markdown",
   "id": "ace24952",
   "metadata": {},
   "source": [
    "И encoder каким-нибудь другим способом, которым еще не делали, для разнообраия). Например, простой словарь."
   ]
  },
  {
   "cell_type": "code",
   "execution_count": 10,
   "id": "9f53179b",
   "metadata": {},
   "outputs": [],
   "source": [
    "show2id = dict((sid, i) for (i, sid) in enumerate(unique_sid))\n",
    "profile2id = dict((pid, i) for (i, pid) in enumerate(unique_uid))"
   ]
  },
  {
   "cell_type": "code",
   "execution_count": 11,
   "id": "a08614db",
   "metadata": {},
   "outputs": [],
   "source": [
    "pro_dir = os.path.join(DATA_DIR, '.')\n",
    "\n",
    "if not os.path.exists(pro_dir):\n",
    "    os.makedirs(pro_dir)\n",
    "\n",
    "with open(os.path.join(pro_dir, 'unique_sid.txt'), 'w') as f:\n",
    "    for sid in unique_sid:\n",
    "        f.write('%s\\n' % sid)"
   ]
  },
  {
   "cell_type": "code",
   "execution_count": 12,
   "id": "61200203",
   "metadata": {},
   "outputs": [],
   "source": [
    "def split_train_test_proportion(data, test_prop=0.2):\n",
    "    data_grouped_by_user = data.groupby('userId')\n",
    "    tr_list, te_list = list(), list()\n",
    "    np.random.seed(42)\n",
    "\n",
    "    for i, (_, group) in enumerate(data_grouped_by_user):\n",
    "        n_items_u = len(group)\n",
    "\n",
    "        if n_items_u >= 5:\n",
    "            idx = np.zeros(n_items_u, dtype='bool')\n",
    "            idx[np.random.choice(n_items_u, size=int(test_prop * n_items_u), replace=False).astype('int64')] = True\n",
    "\n",
    "            tr_list.append(group[np.logical_not(idx)])\n",
    "            te_list.append(group[idx])\n",
    "        else:\n",
    "            tr_list.append(group)\n",
    "\n",
    "        if i % 999 == 0 and i != 0:\n",
    "            print(f\"{i+1} users sampled\")\n",
    "            sys.stdout.flush()\n",
    "\n",
    "    data_tr = pd.concat(tr_list)\n",
    "    data_te = pd.concat(te_list)\n",
    "    \n",
    "    return data_tr, data_te"
   ]
  },
  {
   "cell_type": "markdown",
   "id": "4f03811e",
   "metadata": {},
   "source": [
    "Валидационная выборка"
   ]
  },
  {
   "cell_type": "code",
   "execution_count": 13,
   "id": "9d5560cf",
   "metadata": {},
   "outputs": [
    {
     "data": {
      "text/plain": [
       "((36293, 4), (8810, 4))"
      ]
     },
     "execution_count": 13,
     "metadata": {},
     "output_type": "execute_result"
    }
   ],
   "source": [
    "vad_plays = raw_data.loc[raw_data['userId'].isin(vd_users)]\n",
    "vad_plays = vad_plays.loc[vad_plays['movieId'].isin(unique_sid)]\n",
    "\n",
    "vad_plays_tr, vad_plays_te = split_train_test_proportion(vad_plays)\n",
    "vad_plays_tr.shape, vad_plays_te.shape"
   ]
  },
  {
   "cell_type": "markdown",
   "id": "a094188e",
   "metadata": {},
   "source": [
    "Тестовая выборка"
   ]
  },
  {
   "cell_type": "code",
   "execution_count": 14,
   "id": "18a1de41",
   "metadata": {},
   "outputs": [],
   "source": [
    "test_plays = raw_data.loc[raw_data['userId'].isin(te_users)]\n",
    "test_plays = test_plays.loc[test_plays['movieId'].isin(unique_sid)]\n",
    "\n",
    "test_plays_tr, test_plays_te = split_train_test_proportion(test_plays)\n",
    "test_plays_tr.shape, test_plays_te.shape\n",
    "\n",
    "assert vad_plays_tr.userId.nunique() == test_plays_tr.userId.nunique()"
   ]
  },
  {
   "cell_type": "markdown",
   "id": "147c3e70",
   "metadata": {},
   "source": [
    "Сохраним (user_id, item_id) формат данных для модели"
   ]
  },
  {
   "cell_type": "code",
   "execution_count": 15,
   "id": "20bad12f",
   "metadata": {},
   "outputs": [],
   "source": [
    "def numerize(df, filename):\n",
    "    df.userId = df.userId.map(profile2id)\n",
    "    df.movieId = df.movieId.map(show2id)\n",
    "    df.rename(columns={'userId': 'uid', 'movieId': 'sid'}, inplace=True)\n",
    "    df.dropna(inplace=True)\n",
    "    df[['uid', 'sid']].to_csv(os.path.join(pro_dir, filename), index=False)"
   ]
  },
  {
   "cell_type": "code",
   "execution_count": 16,
   "id": "aabdd1af",
   "metadata": {},
   "outputs": [],
   "source": [
    "train_data = numerize(train_plays, 'train.csv')\n",
    "vad_data_tr = numerize(vad_plays_tr, 'validation_tr.csv')\n",
    "vad_data_te = numerize(vad_plays_te, 'validation_te.csv')\n",
    "test_data_tr = numerize(test_plays_tr, 'test_tr.csv')\n",
    "test_data_te = numerize(test_plays_te, 'test_te.csv')"
   ]
  },
  {
   "cell_type": "code",
   "execution_count": 17,
   "id": "281b4dff",
   "metadata": {},
   "outputs": [],
   "source": [
    "class MultiDAE(object):\n",
    "    def __init__(self, p_dims, q_dims=None, lam=0.01, lr=1e-3, random_seed=None):\n",
    "        self.p_dims = p_dims\n",
    "        if q_dims is None:\n",
    "            self.q_dims = p_dims[::-1]\n",
    "        else:\n",
    "            assert q_dims[0] == p_dims[-1], \"Input and output dimension must equal each other for autoencoders.\"\n",
    "            assert q_dims[-1] == p_dims[0], \"Latent dimension for p- and q-network mismatches.\"\n",
    "            self.q_dims = q_dims\n",
    "        self.dims = self.q_dims + self.p_dims[1:]\n",
    "        \n",
    "        self.lam = lam\n",
    "        self.lr = lr\n",
    "        self.random_seed = random_seed\n",
    "\n",
    "        self.construct_placeholders()\n",
    "\n",
    "    def construct_placeholders(self):        \n",
    "        self.input_ph = tf.placeholder(\n",
    "            dtype=tf.float32, shape=[None, self.dims[0]])\n",
    "        self.keep_prob_ph = tf.placeholder_with_default(1.0, shape=None)\n",
    "\n",
    "    def build_graph(self):\n",
    "\n",
    "        self.construct_weights()\n",
    "\n",
    "        saver, logits = self.forward_pass()\n",
    "        log_softmax_var = tf.nn.log_softmax(logits)\n",
    "\n",
    "        # per-user average negative log-likelihood\n",
    "        neg_ll = -tf.reduce_mean(tf.reduce_sum(\n",
    "            log_softmax_var * self.input_ph, axis=1))\n",
    "        # try to apply l2 regularization to weights\n",
    "        # YOUR CODE HERE\n",
    "        # multiply 2 so that it is back in the same scale\n",
    "        loss = neg_ll\n",
    "        \n",
    "        train_op = tf.train.AdamOptimizer(self.lr).minimize(loss)\n",
    "        \n",
    "        tf.summary.scalar('negative_multi_ll', neg_ll)\n",
    "        tf.summary.scalar('loss', loss)\n",
    "        merged = tf.summary.merge_all()\n",
    "        return saver, logits, loss, train_op, merged\n",
    "\n",
    "    def forward_pass(self):      \n",
    "        h = tf.nn.l2_normalize(self.input_ph, 1)\n",
    "        h = tf.nn.dropout(h, self.keep_prob_ph)\n",
    "        \n",
    "        for i, (w, b) in enumerate(zip(self.weights, self.biases)):\n",
    "            h = tf.matmul(h, w) + b\n",
    "            \n",
    "            if i != len(self.weights) - 1:\n",
    "                h = tf.nn.tanh(h)\n",
    "        return tf.train.Saver(), h\n",
    "\n",
    "    def construct_weights(self):\n",
    "\n",
    "        self.weights = []\n",
    "        self.biases = []\n",
    "        \n",
    "        for i, (d_in, d_out) in enumerate(zip(self.dims[:-1], self.dims[1:])):\n",
    "            weight_key = \"weight_{}to{}\".format(i, i+1)\n",
    "            bias_key = \"bias_{}\".format(i+1)\n",
    "            \n",
    "            self.weights.append(tf.get_variable(\n",
    "                name=weight_key, shape=[d_in, d_out],\n",
    "                initializer=tf.initializers.glorot_uniform()))\n",
    "            self.biases.append(tf.get_variable(\n",
    "                name=bias_key, shape=[d_out],\n",
    "                initializer=tf.truncated_normal_initializer(\n",
    "                    stddev=0.001, seed=self.random_seed)))\n",
    "            \n",
    "            tf.summary.histogram(weight_key, self.weights[-1])\n",
    "            tf.summary.histogram(bias_key, self.biases[-1])"
   ]
  },
  {
   "cell_type": "code",
   "execution_count": 18,
   "id": "64884a2e",
   "metadata": {},
   "outputs": [],
   "source": [
    "class MultiVAE(MultiDAE):\n",
    "\n",
    "    def construct_placeholders(self):\n",
    "        super(MultiVAE, self).construct_placeholders()\n",
    "\n",
    "        self.is_training_ph = tf.placeholder_with_default(0., shape=None)\n",
    "        self.anneal_ph = tf.placeholder_with_default(1., shape=None)\n",
    "        \n",
    "    def build_graph(self):\n",
    "        self._construct_weights()\n",
    "\n",
    "        saver, logits, KL = self.forward_pass()\n",
    "        log_softmax_var = tf.nn.log_softmax(logits)\n",
    "\n",
    "        neg_ll = -tf.reduce_mean(tf.reduce_sum(\n",
    "            log_softmax_var * self.input_ph,\n",
    "            axis=-1))\n",
    "        # apply l2 regularization to weights\n",
    "        # YOUR CODE HERE\n",
    "        # multiply 2 so that it is back in the same scale\n",
    "        neg_ELBO = neg_ll + self.anneal_ph * KL #+ 2 * reg_var\n",
    "        \n",
    "        train_op = tf.train.AdamOptimizer(self.lr).minimize(neg_ELBO)\n",
    "\n",
    "        tf.summary.scalar('negative_multi_ll', neg_ll)\n",
    "        tf.summary.scalar('KL', KL)\n",
    "        tf.summary.scalar('neg_ELBO_train', neg_ELBO)\n",
    "        merged = tf.summary.merge_all()\n",
    "\n",
    "        return saver, logits, neg_ELBO, train_op, merged\n",
    "    \n",
    "    def q_graph(self):\n",
    "        mu_q, std_q, KL = None, None, None\n",
    "        \n",
    "        h = tf.nn.l2_normalize(self.input_ph, 1)\n",
    "        h = tf.nn.dropout(h, self.keep_prob_ph)\n",
    "        \n",
    "        for i, (w, b) in enumerate(zip(self.weights_q, self.biases_q)):\n",
    "            h = tf.matmul(h, w) + b\n",
    "            \n",
    "            if i != len(self.weights_q) - 1:\n",
    "                h = tf.nn.tanh(h)\n",
    "            else:\n",
    "                mu_q = h[:, :self.q_dims[-1]]\n",
    "                logvar_q = h[:, self.q_dims[-1]:]\n",
    "\n",
    "                std_q = tf.exp(0.5 * logvar_q)\n",
    "                KL = tf.reduce_mean(tf.reduce_sum(\n",
    "                        0.5 * (-logvar_q + tf.exp(logvar_q) + mu_q**2 - 1), axis=1))\n",
    "        return mu_q, std_q, KL\n",
    "\n",
    "    def p_graph(self, z):\n",
    "        h = z\n",
    "        \n",
    "        for i, (w, b) in enumerate(zip(self.weights_p, self.biases_p)):\n",
    "            h = tf.matmul(h, w) + b\n",
    "            \n",
    "            if i != len(self.weights_p) - 1:\n",
    "                h = tf.nn.tanh(h)\n",
    "        return h\n",
    "\n",
    "    def forward_pass(self):\n",
    "        # q-network\n",
    "        mu_q, std_q, KL = self.q_graph()\n",
    "        epsilon = tf.random_normal(tf.shape(std_q))\n",
    "\n",
    "        sampled_z = mu_q + self.is_training_ph *\\\n",
    "            epsilon * std_q\n",
    "\n",
    "        # p-network\n",
    "        logits = self.p_graph(sampled_z)\n",
    "        \n",
    "        return tf.train.Saver(), logits, KL\n",
    "\n",
    "    def _construct_weights(self):\n",
    "        self.weights_q, self.biases_q = [], []\n",
    "        \n",
    "        for i, (d_in, d_out) in enumerate(zip(self.q_dims[:-1], self.q_dims[1:])):\n",
    "            if i == len(self.q_dims[:-1]) - 1:\n",
    "                # set mean and variance\n",
    "                d_out *= 2\n",
    "            weight_key = \"weight_q_{}to{}\".format(i, i+1)\n",
    "            bias_key = \"bias_q_{}\".format(i+1)\n",
    "            \n",
    "            self.weights_q.append(tf.get_variable(\n",
    "                name=weight_key, shape=[d_in, d_out],\n",
    "                initializer=tf.initializers.glorot_uniform()))\n",
    "            \n",
    "            self.biases_q.append(tf.get_variable(\n",
    "                name=bias_key, shape=[d_out],\n",
    "                initializer=tf.truncated_normal_initializer(\n",
    "                    stddev=0.001, seed=self.random_seed)))\n",
    "            \n",
    "            tf.summary.histogram(weight_key, self.weights_q[-1])\n",
    "            tf.summary.histogram(bias_key, self.biases_q[-1])\n",
    "            \n",
    "        self.weights_p, self.biases_p = [], []\n",
    "\n",
    "        for i, (d_in, d_out) in enumerate(zip(self.p_dims[:-1], self.p_dims[1:])):\n",
    "            weight_key = \"weight_p_{}to{}\".format(i, i+1)\n",
    "            bias_key = \"bias_p_{}\".format(i+1)\n",
    "            self.weights_p.append(tf.get_variable(\n",
    "                name=weight_key, shape=[d_in, d_out],\n",
    "                initializer=tf.initializers.glorot_uniform()))\n",
    "            \n",
    "            self.biases_p.append(tf.get_variable(\n",
    "                name=bias_key, shape=[d_out],\n",
    "                initializer=tf.truncated_normal_initializer(\n",
    "                    stddev=0.001, seed=self.random_seed)))\n",
    "            \n",
    "            tf.summary.histogram(weight_key, self.weights_p[-1])\n",
    "            tf.summary.histogram(bias_key, self.biases_p[-1])"
   ]
  },
  {
   "cell_type": "markdown",
   "id": "46bc1ecb",
   "metadata": {},
   "source": [
    "### Загрузим выборку"
   ]
  },
  {
   "cell_type": "code",
   "execution_count": 19,
   "id": "54a35010",
   "metadata": {},
   "outputs": [],
   "source": [
    "unique_sid = list()\n",
    "with open(os.path.join(pro_dir, 'unique_sid.txt'), 'r') as f:\n",
    "    for line in f:\n",
    "        unique_sid.append(line.strip())\n",
    "\n",
    "n_items = len(unique_sid)"
   ]
  },
  {
   "cell_type": "code",
   "execution_count": 20,
   "id": "4b412cdb",
   "metadata": {},
   "outputs": [],
   "source": [
    "def load_train_data(csv_file):\n",
    "    tp = pd.read_csv(csv_file)\n",
    "    n_users = tp[f'uid'].max() + 1\n",
    "\n",
    "    rows, cols = tp['uid'], tp['sid']\n",
    "    data = sparse.csr_matrix((np.ones_like(rows),\n",
    "                             (rows, cols)), dtype='float64',\n",
    "                             shape=(n_users, n_items))\n",
    "    return data"
   ]
  },
  {
   "cell_type": "code",
   "execution_count": 21,
   "id": "22048cdb",
   "metadata": {},
   "outputs": [],
   "source": [
    "pro_dir = '.'\n",
    "train_data = load_train_data(os.path.join(pro_dir, 'train.csv'))"
   ]
  },
  {
   "cell_type": "code",
   "execution_count": 22,
   "id": "fb64806d",
   "metadata": {},
   "outputs": [],
   "source": [
    "def load_tr_te_data(csv_file_tr, csv_file_te):\n",
    "    tp_tr = pd.read_csv(csv_file_tr)\n",
    "    tp_te = pd.read_csv(csv_file_te)\n",
    "\n",
    "    start_idx = min(tp_tr['uid'].min(), tp_te['uid'].min())\n",
    "    end_idx = max(tp_tr['uid'].max(), tp_te['uid'].max())\n",
    "\n",
    "    rows_tr, cols_tr = tp_tr['uid'] - start_idx, tp_tr['sid']\n",
    "    rows_te, cols_te = tp_te['uid'] - start_idx, tp_te['sid']\n",
    "\n",
    "    data_tr = sparse.csr_matrix((np.ones_like(rows_tr),\n",
    "                             (rows_tr, cols_tr)), dtype='float64', shape=(end_idx - start_idx + 1, n_items))\n",
    "    data_te = sparse.csr_matrix((np.ones_like(rows_te),\n",
    "                             (rows_te, cols_te)), dtype='float64', shape=(end_idx - start_idx + 1, n_items))\n",
    "    return data_tr, data_te"
   ]
  },
  {
   "cell_type": "code",
   "execution_count": 23,
   "id": "7cca85a8",
   "metadata": {},
   "outputs": [],
   "source": [
    "vad_data_tr, vad_data_te = load_tr_te_data(os.path.join(pro_dir, 'validation_tr.csv'),\n",
    "                                           os.path.join(pro_dir, 'validation_te.csv'))"
   ]
  },
  {
   "cell_type": "markdown",
   "id": "2008413e",
   "metadata": {},
   "source": [
    "Зададим гиперпараметры"
   ]
  },
  {
   "cell_type": "code",
   "execution_count": 24,
   "id": "0619d4b3",
   "metadata": {},
   "outputs": [],
   "source": [
    "N = train_data.shape[0]\n",
    "idxlist = range(N)\n",
    "\n",
    "# training batch size\n",
    "batch_size = 500\n",
    "batches_per_epoch = int(np.ceil(float(N) / batch_size))\n",
    "\n",
    "N_vad = vad_data_tr.shape[0]\n",
    "idxlist_vad = range(N_vad)\n",
    "\n",
    "# validation batch size (since the entire validation set might not fit into GPU memory)\n",
    "batch_size_vad = 2000\n",
    "\n",
    "# the total number of gradient updates for annealing\n",
    "total_anneal_steps = 200000\n",
    "# largest annealing parameter\n",
    "anneal_cap = 0.2"
   ]
  },
  {
   "cell_type": "code",
   "execution_count": 25,
   "id": "28794ed6",
   "metadata": {},
   "outputs": [],
   "source": [
    "def NDCG_binary_at_k_batch(X_pred, heldout_batch, k=100):\n",
    "    '''\n",
    "    normalized discounted cumulative gain@k for binary relevance\n",
    "    ASSUMPTIONS: all the 0's in heldout_data indicate 0 relevance\n",
    "    '''\n",
    "    batch_users = X_pred.shape[0]\n",
    "    idx_topk_part = bn.argpartition(-X_pred, k, axis=1)\n",
    "    topk_part = X_pred[np.arange(batch_users)[:, np.newaxis],\n",
    "                       idx_topk_part[:, :k]]\n",
    "    idx_part = np.argsort(-topk_part, axis=1)\n",
    "    # X_pred[np.arange(batch_users)[:, np.newaxis], idx_topk] is the sorted\n",
    "    # topk predicted score\n",
    "    idx_topk = idx_topk_part[np.arange(batch_users)[:, np.newaxis], idx_part]\n",
    "    tp = 1. / np.log2(np.arange(2, k + 2))\n",
    "\n",
    "    DCG = (heldout_batch[np.arange(batch_users)[:, np.newaxis],\n",
    "                         idx_topk].toarray() * tp).sum(axis=1)\n",
    "    IDCG = np.array([(tp[:min(n, k)]).sum()\n",
    "                     for n in heldout_batch.getnnz(axis=1)])\n",
    "    return DCG / IDCG"
   ]
  },
  {
   "cell_type": "code",
   "execution_count": 26,
   "id": "cd0082ab",
   "metadata": {},
   "outputs": [],
   "source": [
    "def Recall_at_k_batch(X_pred, heldout_batch, k=100):\n",
    "    batch_users = X_pred.shape[0]\n",
    "\n",
    "    idx = bn.argpartition(-X_pred, k, axis=1)\n",
    "    X_pred_binary = np.zeros_like(X_pred, dtype=bool)\n",
    "    X_pred_binary[np.arange(batch_users)[:, np.newaxis], idx[:, :k]] = True\n",
    "\n",
    "    X_true_binary = (heldout_batch > 0).toarray()\n",
    "    tmp = (np.logical_and(X_true_binary, X_pred_binary).sum(axis=1)).astype(\n",
    "        np.float32)\n",
    "    recall = tmp / np.minimum(k, X_true_binary.sum(axis=1))\n",
    "    return recall"
   ]
  },
  {
   "cell_type": "markdown",
   "id": "e1c34ce4",
   "metadata": {},
   "source": [
    "### Обучить Multi-VAE"
   ]
  },
  {
   "cell_type": "markdown",
   "id": "986061ca",
   "metadata": {},
   "source": [
    "Для набора данных ML-20M установили как генеративную функцию $f_\\theta(\\cdot)$, так и inference модель $g_\\phi(\\cdot)$ как трехслойный многослойный персептрон (MLP) с симметричной архитектурой энкодера и декодера.\n",
    "\n",
    "Пример: Пример: генерирующая функция с размерностями [200 -> 600 -> n_items] MLP, что означает, что функция инференса бует [n_items -> 600 -> 200] MLP. Таким образом, общая архитектура Multi-VAE такова: [n_items -> 600 -> 200 -> 600 -> n_items]."
   ]
  },
  {
   "cell_type": "code",
   "execution_count": 27,
   "id": "7c0215ba",
   "metadata": {},
   "outputs": [],
   "source": [
    "p_dims = [200, 600, n_items]\n",
    "n_epochs = 50"
   ]
  },
  {
   "cell_type": "code",
   "execution_count": 28,
   "id": "03399b51",
   "metadata": {},
   "outputs": [
    {
     "name": "stdout",
     "output_type": "stream",
     "text": [
      "WARNING:tensorflow:From /home/m.ananyeva/venv/lib/python3.8/site-packages/tensorflow/python/util/dispatch.py:1176: calling dropout (from tensorflow.python.ops.nn_ops) with keep_prob is deprecated and will be removed in a future version.\n",
      "Instructions for updating:\n",
      "Please use `rate` instead of `keep_prob`. Rate should be set to `rate = 1 - keep_prob`.\n"
     ]
    }
   ],
   "source": [
    "tf.reset_default_graph()\n",
    "# tf.compat.v1.reset_default_graph()\n",
    "vae = MultiVAE(p_dims, lam=0.0, random_seed=98765)\n",
    "\n",
    "saver, logits_var, loss_var, train_op_var, merged_var = vae.build_graph()\n",
    "\n",
    "ndcg_var = tf.Variable(0.0)\n",
    "ndcg_dist_var = tf.placeholder(dtype=tf.float64, shape=None)\n",
    "ndcg_summary = tf.summary.scalar('ndcg_at_k_validation', ndcg_var)\n",
    "ndcg_dist_summary = tf.summary.histogram('ndcg_at_k_hist_validation', ndcg_dist_var)\n",
    "merged_valid = tf.summary.merge([ndcg_summary, ndcg_dist_summary])"
   ]
  },
  {
   "cell_type": "code",
   "execution_count": 29,
   "id": "d4600aaf",
   "metadata": {},
   "outputs": [],
   "source": [
    "arch_str = \"I-%s-I\" % ('-'.join([str(d) for d in vae.dims[1:-1]]))"
   ]
  },
  {
   "cell_type": "code",
   "execution_count": 30,
   "id": "4ef00287",
   "metadata": {},
   "outputs": [
    {
     "name": "stdout",
     "output_type": "stream",
     "text": [
      "log directory: ./log/VAE_anneal200.0K_cap2.0E-01/I-600-200-600-I\n"
     ]
    }
   ],
   "source": [
    "log_dir = './log/VAE_anneal{}K_cap{:1.1E}/{}'.format(\n",
    "    total_anneal_steps/1000, anneal_cap, arch_str)\n",
    "\n",
    "if os.path.exists(log_dir):\n",
    "    shutil.rmtree(log_dir)\n",
    "\n",
    "print(\"log directory: %s\" % log_dir)\n",
    "summary_writer = tf.summary.FileWriter(log_dir, graph=tf.get_default_graph())"
   ]
  },
  {
   "cell_type": "code",
   "execution_count": 31,
   "id": "42893f96",
   "metadata": {},
   "outputs": [
    {
     "name": "stdout",
     "output_type": "stream",
     "text": [
      "chkpt directory: ./chkpt/VAE_anneal200.0K_cap2.0E-01/I-600-200-600-I\n"
     ]
    }
   ],
   "source": [
    "chkpt_dir = './chkpt/VAE_anneal{}K_cap{:1.1E}/{}'.format(\n",
    "    total_anneal_steps/1000, anneal_cap, arch_str)\n",
    "\n",
    "if not os.path.isdir(chkpt_dir):\n",
    "    os.makedirs(chkpt_dir) \n",
    "    \n",
    "print(\"chkpt directory: %s\" % chkpt_dir)"
   ]
  },
  {
   "cell_type": "code",
   "execution_count": 32,
   "id": "4b52e50c",
   "metadata": {},
   "outputs": [
    {
     "name": "stderr",
     "output_type": "stream",
     "text": [
      "2023-10-13 16:36:10.115466: E tensorflow/stream_executor/cuda/cuda_driver.cc:265] failed call to cuInit: CUDA_ERROR_UNKNOWN: unknown error\n",
      "2023-10-13 16:36:10.115540: I tensorflow/stream_executor/cuda/cuda_diagnostics.cc:156] kernel driver does not appear to be running on this host (ds-ml01): /proc/driver/nvidia/version does not exist\n",
      "2023-10-13 16:36:10.116693: I tensorflow/core/platform/cpu_feature_guard.cc:193] This TensorFlow binary is optimized with oneAPI Deep Neural Network Library (oneDNN) to use the following CPU instructions in performance-critical operations:  AVX2 AVX512F FMA\n",
      "To enable them in other operations, rebuild TensorFlow with the appropriate compiler flags.\n",
      "2023-10-13 16:36:10.131378: I tensorflow/compiler/mlir/mlir_graph_optimization_pass.cc:354] MLIR V1 optimization pass is not enabled\n"
     ]
    }
   ],
   "source": [
    "ndcgs_vad = []\n",
    "\n",
    "with tf.Session() as sess:\n",
    "\n",
    "    init = tf.global_variables_initializer()\n",
    "    sess.run(init)\n",
    "\n",
    "    best_ndcg = -np.inf\n",
    "    N = train_data.shape[0]\n",
    "    idxlist = list(range(N))\n",
    "    update_count = 0.0\n",
    "    \n",
    "    for epoch in range(n_epochs):\n",
    "        np.random.shuffle(idxlist)\n",
    "        for bnum, st_idx in enumerate(range(0, N, batch_size)):\n",
    "            end_idx = min(st_idx + batch_size, N)\n",
    "            X = train_data[idxlist[st_idx:end_idx]]\n",
    "            \n",
    "            if sparse.isspmatrix(X):\n",
    "                X = X.toarray()\n",
    "            X = X.astype('float32')           \n",
    "            \n",
    "            if total_anneal_steps > 0:\n",
    "                anneal = min(anneal_cap, 1. * update_count / total_anneal_steps)\n",
    "            else:\n",
    "                anneal = anneal_cap\n",
    "            \n",
    "            feed_dict = {vae.input_ph: X, \n",
    "                         vae.keep_prob_ph: 0.5, \n",
    "                         vae.anneal_ph: anneal,\n",
    "                         vae.is_training_ph: 1}        \n",
    "            sess.run(train_op_var, feed_dict=feed_dict)\n",
    "\n",
    "            if bnum % 100 == 0:\n",
    "                summary_train = sess.run(merged_var, feed_dict=feed_dict)\n",
    "                summary_writer.add_summary(summary_train, \n",
    "                                           global_step=epoch * batches_per_epoch + bnum) \n",
    "            \n",
    "            update_count += 1\n",
    "        \n",
    "        # val NDCG\n",
    "        ndcg_dist = []\n",
    "        for bnum, st_idx in enumerate(range(0, N_vad, batch_size_vad)):\n",
    "            end_idx = min(st_idx + batch_size_vad, N_vad)\n",
    "            X = vad_data_tr[idxlist_vad[st_idx:end_idx]]\n",
    "\n",
    "            if sparse.isspmatrix(X):\n",
    "                X = X.toarray()\n",
    "            X = X.astype('float32')\n",
    "        \n",
    "            pred_val = sess.run(logits_var, feed_dict={vae.input_ph: X} )\n",
    "            # исключить примеры из val и test (если есть)\n",
    "            pred_val[X.nonzero()] = -np.inf\n",
    "            ndcg_dist.append(NDCG_binary_at_k_batch(pred_val, vad_data_te[idxlist_vad[st_idx:end_idx]]))\n",
    "        \n",
    "        ndcg_dist = np.concatenate(ndcg_dist)\n",
    "        ndcg_ = ndcg_dist.mean()\n",
    "        ndcgs_vad.append(ndcg_)\n",
    "        merged_valid_val = sess.run(merged_valid, feed_dict={ndcg_var: ndcg_, ndcg_dist_var: ndcg_dist})\n",
    "        summary_writer.add_summary(merged_valid_val, epoch)\n",
    "\n",
    "        # обновить лучшую модель\n",
    "        if ndcg_ > best_ndcg:\n",
    "            saver.save(sess, '{}/model'.format(chkpt_dir))\n",
    "            best_ndcg = ndcg_"
   ]
  },
  {
   "cell_type": "code",
   "execution_count": 33,
   "id": "ab736a25",
   "metadata": {},
   "outputs": [
    {
     "data": {
      "image/png": "[encoded data removed]",
      "text/plain": [
       "<Figure size 864x216 with 1 Axes>"
      ]
     },
     "metadata": {},
     "output_type": "display_data"
    }
   ],
   "source": [
    "plt.figure(figsize=(12, 3))\n",
    "plt.plot(ndcgs_vad)\n",
    "plt.ylabel(\"Validation NDCG@100\")\n",
    "plt.xlabel(\"Epochs\");"
   ]
  },
  {
   "cell_type": "markdown",
   "id": "defb0d5d",
   "metadata": {},
   "source": [
    "### Обучить Mult-DAE"
   ]
  },
  {
   "cell_type": "code",
   "execution_count": 34,
   "id": "46a66630",
   "metadata": {},
   "outputs": [],
   "source": [
    "p_dims = [200, n_items]\n",
    "n_epochs = 50"
   ]
  },
  {
   "cell_type": "code",
   "execution_count": 35,
   "id": "b0718450",
   "metadata": {},
   "outputs": [],
   "source": [
    "tf.reset_default_graph()\n",
    "dae = MultiDAE(p_dims, lam=0.01 / batch_size, random_seed=98765)\n",
    "\n",
    "saver, logits_var, loss_var, train_op_var, merged_var = dae.build_graph()\n",
    "\n",
    "ndcg_var = tf.Variable(0.0)\n",
    "ndcg_dist_var = tf.placeholder(dtype=tf.float64, shape=None)\n",
    "ndcg_summary = tf.summary.scalar('ndcg_at_k_validation', ndcg_var)\n",
    "ndcg_dist_summary = tf.summary.histogram('ndcg_at_k_hist_validation', ndcg_dist_var)\n",
    "merged_valid = tf.summary.merge([ndcg_summary, ndcg_dist_summary])"
   ]
  },
  {
   "cell_type": "code",
   "execution_count": 36,
   "id": "5965bbcc",
   "metadata": {},
   "outputs": [],
   "source": [
    "arch_str = \"I-%s-I\" % ('-'.join([str(d) for d in dae.dims[1:-1]]))"
   ]
  },
  {
   "cell_type": "code",
   "execution_count": 37,
   "id": "dff9b254",
   "metadata": {},
   "outputs": [
    {
     "name": "stdout",
     "output_type": "stream",
     "text": [
      "log directory: ./log/DAE/I-200-I\n"
     ]
    }
   ],
   "source": [
    "log_dir = './log/DAE/{}'.format(arch_str)\n",
    "\n",
    "if os.path.exists(log_dir):\n",
    "    shutil.rmtree(log_dir)\n",
    "\n",
    "print(\"log directory: %s\" % log_dir)\n",
    "summary_writer = tf.summary.FileWriter(log_dir, graph=tf.get_default_graph())"
   ]
  },
  {
   "cell_type": "code",
   "execution_count": 38,
   "id": "1e1906a8",
   "metadata": {},
   "outputs": [
    {
     "name": "stdout",
     "output_type": "stream",
     "text": [
      "chkpt directory: ./chkpt/DAE/I-200-I\n"
     ]
    }
   ],
   "source": [
    "chkpt_dir = './chkpt/DAE/{}'.format(arch_str)\n",
    "\n",
    "if not os.path.isdir(chkpt_dir):\n",
    "    os.makedirs(chkpt_dir) \n",
    "    \n",
    "print(\"chkpt directory: %s\" % chkpt_dir)"
   ]
  },
  {
   "cell_type": "code",
   "execution_count": 39,
   "id": "6c3de417",
   "metadata": {},
   "outputs": [],
   "source": [
    "ndcgs_vad = []\n",
    "\n",
    "with tf.Session() as sess:\n",
    "\n",
    "    init = tf.global_variables_initializer()\n",
    "    sess.run(init)\n",
    "\n",
    "    best_ndcg = -np.inf\n",
    "    \n",
    "    for epoch in range(n_epochs):\n",
    "        np.random.shuffle(idxlist)\n",
    "        for bnum, st_idx in enumerate(range(0, N, batch_size)):\n",
    "            end_idx = min(st_idx + batch_size, N)\n",
    "            X = train_data[idxlist[st_idx:end_idx]]\n",
    "            \n",
    "            if sparse.isspmatrix(X):\n",
    "                X = X.toarray()\n",
    "            X = X.astype('float32')           \n",
    "            \n",
    "            feed_dict = {dae.input_ph: X, \n",
    "                         dae.keep_prob_ph: 0.5}        \n",
    "            sess.run(train_op_var, feed_dict=feed_dict)\n",
    "\n",
    "            if bnum % 100 == 0:\n",
    "                summary_train = sess.run(merged_var, feed_dict=feed_dict)\n",
    "                summary_writer.add_summary(summary_train, global_step=epoch * batches_per_epoch + bnum) \n",
    "                    \n",
    "        ndcg_dist = []\n",
    "        for bnum, st_idx in enumerate(range(0, N_vad, batch_size_vad)):\n",
    "            end_idx = min(st_idx + batch_size_vad, N_vad)\n",
    "            X = vad_data_tr[idxlist_vad[st_idx:end_idx]]\n",
    "\n",
    "            if sparse.isspmatrix(X):\n",
    "                X = X.toarray()\n",
    "            X = X.astype('float32')\n",
    "        \n",
    "            pred_val = sess.run(logits_var, feed_dict={dae.input_ph: X} )\n",
    "            pred_val[X.nonzero()] = -np.inf\n",
    "            ndcg_dist.append(NDCG_binary_at_k_batch(pred_val, vad_data_te[idxlist_vad[st_idx:end_idx]]))\n",
    "        \n",
    "        ndcg_dist = np.concatenate(ndcg_dist)\n",
    "        ndcg_ = ndcg_dist.mean()\n",
    "        ndcgs_vad.append(ndcg_)\n",
    "        merged_valid_val = sess.run(merged_valid, feed_dict={ndcg_var: ndcg_, ndcg_dist_var: ndcg_dist})\n",
    "        summary_writer.add_summary(merged_valid_val, epoch)\n",
    "\n",
    "\n",
    "        if ndcg_ > best_ndcg:\n",
    "            saver.save(sess, '{}/model'.format(chkpt_dir))\n",
    "            best_ndcg = ndcg_"
   ]
  },
  {
   "cell_type": "code",
   "execution_count": 40,
   "id": "4eb21f39",
   "metadata": {},
   "outputs": [
    {
     "data": {
      "image/png": "[encoded data removed]",
      "text/plain": [
       "<Figure size 864x216 with 1 Axes>"
      ]
     },
     "metadata": {},
     "output_type": "display_data"
    }
   ],
   "source": [
    "plt.figure(figsize=(12, 3))\n",
    "plt.plot(ndcgs_vad)\n",
    "plt.ylabel(\"Validation NDCG@100\")\n",
    "plt.xlabel(\"Epochs\");"
   ]
  },
  {
   "cell_type": "markdown",
   "id": "f5c9df32",
   "metadata": {},
   "source": [
    "- **Какие достоинства у Mult-VAE?**\n",
    "\n",
    "- **Какие недостатки Mult-VAE?**\n",
    "\n",
    "- **Отдельно - если сравнивать Mult-VAE vs. Mult-DAE?**\n"
   ]
  },
  {
   "cell_type": "code",
   "execution_count": null,
   "id": "92529430",
   "metadata": {},
   "outputs": [],
   "source": []
  }
 ],
 "metadata": {
  "kernelspec": {
   "display_name": "Python 3",
   "language": "python",
   "name": "python3"
  },
  "language_info": {
   "codemirror_mode": {
    "name": "ipython",
    "version": 3
   },
   "file_extension": ".py",
   "mimetype": "text/x-python",
   "name": "python",
   "nbconvert_exporter": "python",
   "pygments_lexer": "ipython3",
   "version": "3.8.0"
  }
 },
 "nbformat": 4,
 "nbformat_minor": 5
}
